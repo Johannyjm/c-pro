{
 "cells": [
  {
   "cell_type": "code",
   "execution_count": 1,
   "metadata": {},
   "outputs": [
    {
     "name": "stdin",
     "output_type": "stream",
     "text": [
      " 3\n",
      " 2 3 1\n"
     ]
    },
    {
     "data": {
      "text/plain": [
       "(3, [2, 3, 1])"
      ]
     },
     "execution_count": 1,
     "metadata": {},
     "output_type": "execute_result"
    }
   ],
   "source": [
    "N = int(input())\n",
    "A = list(map(int, input().split()))\n",
    "N, A"
   ]
  },
  {
   "cell_type": "code",
   "execution_count": 9,
   "metadata": {},
   "outputs": [
    {
     "name": "stdin",
     "output_type": "stream",
     "text": [
      " 3\n",
      " 2 3 1\n"
     ]
    },
    {
     "name": "stdout",
     "output_type": "stream",
     "text": [
      "3 1 2 "
     ]
    }
   ],
   "source": [
    "N, A = 3, [2, 3, 1]\n",
    "\n",
    "N = int(input())\n",
    "A = list(map(int, input().split()))\n",
    "res = [0 for _ in range(N)]\n",
    "\n",
    "for i in range(N):\n",
    "    \n",
    "    res[A[i] - 1] = i + 1\n",
    "\n",
    "for r in res:\n",
    "    print(r, end = ' ')"
   ]
  },
  {
   "cell_type": "code",
   "execution_count": 6,
   "metadata": {},
   "outputs": [
    {
     "data": {
      "text/plain": [
       "'[3, 1, 2]'"
      ]
     },
     "execution_count": 6,
     "metadata": {},
     "output_type": "execute_result"
    }
   ],
   "source": [
    "a = "
   ]
  },
  {
   "cell_type": "code",
   "execution_count": 40,
   "metadata": {},
   "outputs": [],
   "source": [
    "N = 5\n",
    "A = [5, 6, 6, 3, 4]\n",
    "B = [9, 6, 6, 3, 5]\n",
    "C = [7, 5, 1, 7, 7]\n",
    "\n",
    "dp = [[0, 0, 0] for _ in range(N)]"
   ]
  },
  {
   "cell_type": "code",
   "execution_count": 41,
   "metadata": {},
   "outputs": [
    {
     "data": {
      "text/plain": [
       "[[0, 0, 0], [0, 0, 0], [0, 0, 0], [0, 0, 0], [0, 0, 0]]"
      ]
     },
     "execution_count": 41,
     "metadata": {},
     "output_type": "execute_result"
    }
   ],
   "source": [
    "dp"
   ]
  },
  {
   "cell_type": "code",
   "execution_count": 44,
   "metadata": {},
   "outputs": [
    {
     "name": "stdout",
     "output_type": "stream",
     "text": [
      "33\n"
     ]
    }
   ],
   "source": [
    "dp[0][0] = A[0]\n",
    "dp[0][1] = B[0]\n",
    "dp[0][2] = C[0]\n",
    "\n",
    "\n",
    "for i in range(1, N):\n",
    "    \n",
    "    dp[i][0] = max(dp[i - 1][1], dp[i - 1][2]) + A[i]\n",
    "    dp[i][1] = max(dp[i - 1][2], dp[i - 1][0]) + B[i]\n",
    "    dp[i][2] = max(dp[i - 1][0], dp[i - 1][1]) + C[i]\n",
    "\n",
    "print(max(dp[-1]))\n",
    "    \n"
   ]
  },
  {
   "cell_type": "code",
   "execution_count": null,
   "metadata": {},
   "outputs": [],
   "source": [
    "N = int(input())\n",
    "\n",
    "A = [0 for _ in range(N)]\n",
    "B = [0 for _ in range(N)]\n",
    "C = [0 for _ in range(N)]\n",
    "\n",
    "for i in range(N):\n",
    "    A[i], B[i], C[i] = map(int, input().split())\n",
    "\n",
    "dp = [[0, 0, 0] for _ in range(N)]\n",
    "\n",
    "dp[0][0] = A[0]\n",
    "dp[0][1] = B[0]\n",
    "dp[0][2] = C[0]\n",
    "\n",
    "for i in range(1, N):\n",
    "    \n",
    "    dp[i][0] = max(dp[i - 1][1], dp[i - 1][2]) + A[i]\n",
    "    dp[i][1] = max(dp[i - 1][2], dp[i - 1][0]) + B[i]\n",
    "    dp[i][2] = max(dp[i - 1][0], dp[i - 1][1]) + C[i]\n",
    "\n",
    "print(max(dp[-1]))"
   ]
  },
  {
   "cell_type": "code",
   "execution_count": 46,
   "metadata": {},
   "outputs": [
    {
     "name": "stdin",
     "output_type": "stream",
     "text": [
      " 3\n",
      " 10 40 70\n",
      " 20 50 80\n",
      " 30 60 90\n"
     ]
    },
    {
     "name": "stdout",
     "output_type": "stream",
     "text": [
      "210\n"
     ]
    }
   ],
   "source": [
    "N = int(input())\n",
    "\n",
    "A = [0 for _ in range(N)]\n",
    "B = [0 for _ in range(N)]\n",
    "C = [0 for _ in range(N)]\n",
    "\n",
    "for i in range(N):\n",
    "    A[i], B[i], C[i] = map(int, input().split())\n",
    "\n",
    "dp = [[0, 0, 0] for _ in range(N)]\n",
    "\n",
    "dp[0][0] = A[0]\n",
    "dp[0][1] = B[0]\n",
    "dp[0][2] = C[0]\n",
    "\n",
    "for i in range(1, N):\n",
    "    \n",
    "    dp[i][0] = max(dp[i - 1][1], dp[i - 1][2]) + A[i]\n",
    "    dp[i][1] = max(dp[i - 1][2], dp[i - 1][0]) + B[i]\n",
    "    dp[i][2] = max(dp[i - 1][0], dp[i - 1][1]) + C[i]\n",
    "\n",
    "print(max(dp[-1]))"
   ]
  },
  {
   "cell_type": "code",
   "execution_count": 4,
   "metadata": {},
   "outputs": [
    {
     "name": "stdin",
     "output_type": "stream",
     "text": [
      " 3 8\n",
      " 3 30\n",
      " 4 50\n",
      " 5 60\n"
     ]
    },
    {
     "data": {
      "text/plain": [
       "90"
      ]
     },
     "execution_count": 4,
     "metadata": {},
     "output_type": "execute_result"
    }
   ],
   "source": [
    "N, W = map(int, input().split())\n",
    "\n",
    "w = [0 for _ in range(N)]\n",
    "v = [0 for _ in range(N)]\n",
    "\n",
    "for i in range(N): w[i], v[i] = map(int, input().split())\n",
    "\n",
    "dp = [[0 for i in range(W + 1)] for j in range(N + 1)]\n",
    "\n",
    "for i in range(N):\n",
    "    \n",
    "    for sum_w in range(W + 1):\n",
    "        \n",
    "        if(w[i] > sum_w):\n",
    "            dp[i + 1][sum_w] = max(dp[i][sum_w], dp[i + 1][sum_w])\n",
    "        \n",
    "        else:\n",
    "            dp[i + 1][sum_w] = max(dp[i][sum_w], dp[i][sum_w - w[i]] + v[i])\n",
    "            \n",
    "dp[-1][-1]"
   ]
  },
  {
   "cell_type": "code",
   "execution_count": 3,
   "metadata": {},
   "outputs": [
    {
     "data": {
      "text/plain": [
       "[[0, 0, 0, 0, 0, 0, 0, 0, 0, 0, 0, 0, 0, 0, 0, 0],\n",
       " [0, 0, 3, 3, 3, 3, 3, 3, 3, 3, 3, 3, 3, 3, 3, 3],\n",
       " [0, 2, 3, 5, 5, 5, 5, 5, 5, 5, 5, 5, 5, 5, 5, 5],\n",
       " [0, 2, 3, 6, 8, 9, 11, 11, 11, 11, 11, 11, 11, 11, 11, 11],\n",
       " [0, 2, 3, 6, 8, 9, 11, 11, 12, 12, 12, 12, 12, 12, 12, 12],\n",
       " [0, 3, 5, 6, 9, 11, 12, 14, 14, 15, 15, 15, 15, 15, 15, 15],\n",
       " [0, 3, 5, 6, 9, 85, 88, 90, 91, 94, 96, 97, 99, 99, 100, 100]]"
      ]
     },
     "execution_count": 3,
     "metadata": {},
     "output_type": "execute_result"
    }
   ],
   "source": [
    "dp"
   ]
  },
  {
   "cell_type": "code",
   "execution_count": 5,
   "metadata": {},
   "outputs": [
    {
     "data": {
      "text/plain": [
       "[[0, 0, 0, 0, 0, 0, 0, 0, 0],\n",
       " [0, 0, 0, 30, 30, 30, 30, 30, 30],\n",
       " [0, 0, 0, 30, 50, 50, 50, 80, 80],\n",
       " [0, 0, 0, 30, 50, 60, 60, 80, 90]]"
      ]
     },
     "execution_count": 5,
     "metadata": {},
     "output_type": "execute_result"
    }
   ],
   "source": [
    "dp\n"
   ]
  },
  {
   "cell_type": "code",
   "execution_count": null,
   "metadata": {},
   "outputs": [],
   "source": []
  }
 ],
 "metadata": {
  "kernelspec": {
   "display_name": "Python 3",
   "language": "python",
   "name": "python3"
  },
  "language_info": {
   "codemirror_mode": {
    "name": "ipython",
    "version": 3
   },
   "file_extension": ".py",
   "mimetype": "text/x-python",
   "name": "python",
   "nbconvert_exporter": "python",
   "pygments_lexer": "ipython3",
   "version": "3.6.7"
  }
 },
 "nbformat": 4,
 "nbformat_minor": 2
}
