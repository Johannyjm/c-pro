{
 "cells": [
  {
   "cell_type": "code",
   "execution_count": 1,
   "metadata": {},
   "outputs": [
    {
     "name": "stdin",
     "output_type": "stream",
     "text": [
      " 3\n",
      " 5 7\n",
      " 2 6\n",
      " 8 10\n"
     ]
    },
    {
     "name": "stdout",
     "output_type": "stream",
     "text": [
      "18\n"
     ]
    }
   ],
   "source": [
    "n = int(input())\n",
    "ab = [list(map(int, input().split())) for _ in range(n)]\n",
    "\n",
    "res = 1 << 60\n",
    "for i in range(n):\n",
    "    for j in range(n):\n",
    "        s = ab[i][0]\n",
    "        g = ab[j][1]\n",
    "        \n",
    "        if(g < s): continue\n",
    "        \n",
    "        cost = 0\n",
    "        for k in range(n):\n",
    "            l = ab[k][0]\n",
    "            r = ab[k][1]\n",
    "            \n",
    "            if(s<=l and r<=g): cost += g-s\n",
    "            elif(l<=s and r<=g): cost += (s-l)*2 + g-s\n",
    "            elif(s<=l and g<=r): cost += r-s + r-g\n",
    "            elif(l<=s and g<=r): cost += (s-l)*2 + (r-g)*2 + g-s\n",
    "            \n",
    "        res = min(res, cost)\n",
    "\n",
    "print(res)"
   ]
  },
  {
   "cell_type": "code",
   "execution_count": 2,
   "metadata": {},
   "outputs": [
    {
     "data": {
      "text/plain": [
       "[[5, 7], [2, 6], [8, 10]]"
      ]
     },
     "execution_count": 2,
     "metadata": {},
     "output_type": "execute_result"
    }
   ],
   "source": [
    "ab"
   ]
  },
  {
   "cell_type": "code",
   "execution_count": 5,
   "metadata": {
    "collapsed": true,
    "jupyter": {
     "outputs_hidden": true
    }
   },
   "outputs": [
    {
     "name": "stdout",
     "output_type": "stream",
     "text": [
      "10711494120\n",
      "9541751939\n",
      "10093133001\n",
      "10149681138\n",
      "9354568400\n",
      "9853955064\n",
      "9306613301\n",
      "9609697113\n",
      "9487139592\n",
      "10517207514\n",
      "9862120478\n",
      "9987617179\n",
      "8817874998\n",
      "9369256060\n",
      "9425804197\n",
      "8630691459\n",
      "9130078123\n",
      "8582736360\n",
      "8885820172\n",
      "8763262651\n",
      "9793330573\n",
      "9138243537\n",
      "10076978217\n",
      "8907236036\n",
      "9458617098\n",
      "9515165235\n",
      "8720052497\n",
      "9219439161\n",
      "8672097398\n",
      "8975181210\n",
      "8852623689\n",
      "9882691611\n",
      "9227604575\n",
      "12968420014\n",
      "13576349213\n",
      "13280623139\n",
      "13943875589\n",
      "10044764483\n",
      "8875022302\n",
      "9426403364\n",
      "9482951501\n",
      "8687838763\n",
      "9187225427\n",
      "8639883664\n",
      "8942967476\n",
      "8820409955\n",
      "9850477877\n",
      "9195390841\n",
      "9984188221\n",
      "8814446040\n",
      "9365827102\n",
      "9422375239\n",
      "8627262501\n",
      "9126649165\n",
      "8579307402\n",
      "8882391214\n",
      "8759833693\n",
      "9789901615\n",
      "9134814579\n",
      "10247867399\n",
      "9078125218\n",
      "9629506280\n",
      "9686054417\n",
      "8890941679\n",
      "9390328343\n",
      "8842986580\n",
      "9146070392\n",
      "9023512871\n",
      "10053580793\n",
      "9398493757\n",
      "9921139075\n",
      "10529068274\n",
      "9733955536\n",
      "10233342200\n",
      "9686000437\n",
      "9989084249\n",
      "9866526728\n",
      "10896594650\n",
      "9899431535\n",
      "8729689354\n",
      "9281070416\n",
      "9337618553\n",
      "8542505815\n",
      "9041892479\n",
      "8494550716\n",
      "8797634528\n",
      "8675077007\n",
      "9705144929\n",
      "9050057893\n",
      "10051477999\n",
      "8881735818\n",
      "9433116880\n",
      "9489665017\n",
      "8694552279\n",
      "9193938943\n",
      "8646597180\n",
      "8949680992\n",
      "8827123471\n",
      "9857191393\n",
      "9202104357\n",
      "10003847158\n",
      "8834104977\n",
      "9385486039\n",
      "9442034176\n",
      "8646921438\n",
      "9146308102\n",
      "8598966339\n",
      "8902050151\n",
      "8779492630\n",
      "9809560552\n",
      "9154473516\n",
      "8494550716\n"
     ]
    }
   ],
   "source": [
    "n = 11\n",
    "ab = [[15004200, 341668840], \n",
    "[277786703, 825590503], \n",
    "[85505967, 410375631],\n",
    "[797368845, 930277710],\n",
    "[90107929, 763195990],\n",
    "[104844373, 888031128],\n",
    "[338351523, 715240891],\n",
    "[458782074, 493862093],\n",
    "[189601059, 534714600],\n",
    "[299073643, 971113974],\n",
    "[98291394, 443377420]]\n",
    "\n",
    "res = 1 << 60\n",
    "for i in range(n):\n",
    "    for j in range(n):\n",
    "        s = ab[i][0]\n",
    "        g = ab[j][1]\n",
    "        \n",
    "        if(g < s): continue\n",
    "        \n",
    "        cost = 0\n",
    "        for k in range(n):\n",
    "            l = ab[k][0]\n",
    "            r = ab[k][1]\n",
    "            \n",
    "            if(s<=l and r<=g): cost += g-s\n",
    "            elif(l<=s and r<=g): cost += (s-l)*2 + g-s\n",
    "            elif(s<=l and g<=r): cost += r-s + r-g\n",
    "            elif(l<=s and g<=r): cost += (s-l)*2 + (r-g)*2 + g-s\n",
    "            \n",
    "        print(cost)\n",
    "        res = min(res, cost)\n",
    "\n",
    "print(res)"
   ]
  },
  {
   "cell_type": "code",
   "execution_count": null,
   "metadata": {},
   "outputs": [],
   "source": [
    "m = int(input())\n",
    "xym = [tuple(map(int, input().split())) for _ in range(m)]\n",
    "\n",
    "vec = [(xym[i][0] - xym[0][0], xym[i][1] - xym[0][1]) for i in range(m)]\n",
    "\n",
    "n = int(input())\n",
    "xyn = [tuple(map(int, input().split())) for _ in range(n)]\n",
    "xyn_st = set()\n",
    "for xy in xyn:\n",
    "    xyn_st.add(xy)\n",
    "\n",
    "for i in range(n):\n",
    "    x = xyn[i][0]\n",
    "    y = xyn[i][1]\n",
    "    \n",
    "    flg = True\n",
    "    for j in range(m):\n",
    "        nxt = x+vec[j][0], y+vec[j][1]\n",
    "        \n",
    "        if(nxt not in xyn_st):\n",
    "            flg = False\n",
    "            break\n",
    "    \n",
    "    if(flg):\n",
    "        print(xyn[i][0] - xym[0][0], xyn[i][1] - xym[0][1])\n",
    "        exit()"
   ]
  },
  {
   "cell_type": "code",
   "execution_count": 12,
   "metadata": {},
   "outputs": [
    {
     "name": "stdin",
     "output_type": "stream",
     "text": [
      " 5\n",
      " 1 5 7 10 21\n",
      " 10\n",
      " 2 4 6 15 17 8 22 21 100 35\n"
     ]
    },
    {
     "name": "stdout",
     "output_type": "stream",
     "text": [
      "no\n",
      "no\n",
      "yes\n",
      "yes\n",
      "yes\n",
      "yes\n",
      "yes\n",
      "yes\n",
      "no\n",
      "no\n"
     ]
    }
   ],
   "source": [
    "n = int(input())\n",
    "a = list(map(int, input().split()))\n",
    "\n",
    "st = set()\n",
    "for i in range(1<<n):\n",
    "    sm = 0\n",
    "    for j in range(n):\n",
    "        if(i & (1<<j)): sm += a[j]\n",
    "        \n",
    "    st.add(sm)\n",
    "\n",
    "q = int(input())\n",
    "m = list(map(int, input().split()))\n",
    "\n",
    "for i in range(q):\n",
    "    if(m[i] in st): print('yes')\n",
    "    else: print('no')"
   ]
  },
  {
   "cell_type": "code",
   "execution_count": 11,
   "metadata": {},
   "outputs": [
    {
     "data": {
      "text/plain": [
       "{0, 21}"
      ]
     },
     "execution_count": 11,
     "metadata": {},
     "output_type": "execute_result"
    }
   ],
   "source": [
    "st"
   ]
  },
  {
   "cell_type": "code",
   "execution_count": 10,
   "metadata": {},
   "outputs": [
    {
     "name": "stdin",
     "output_type": "stream",
     "text": [
      " 2 2\n",
      " 2 1 2\n",
      " 1 2\n",
      " 0 1\n"
     ]
    },
    {
     "name": "stdout",
     "output_type": "stream",
     "text": [
      "1\n"
     ]
    }
   ],
   "source": [
    "n, m = map(int, input().split())\n",
    "\n",
    "ks = [list(map(int, input().split())) for _ in range(m)]\n",
    "p = list(map(int, input().split()))\n",
    "\n",
    "res = 0\n",
    "for i in range(1<<n):\n",
    "    on = [0 for _ in range(n)]\n",
    "    \n",
    "    for j in range(n):\n",
    "        if(i & (1<<j)): on[j] = 1\n",
    "    \n",
    "    all_on = True\n",
    "    for j in range(m):\n",
    "        \n",
    "        on_num = 0\n",
    "        for s in ks[j][1: ]:\n",
    "            if(on[s-1]): on_num += 1\n",
    "\n",
    "        if(on_num%2 != p[j]):\n",
    "            all_on = False\n",
    "            break\n",
    "\n",
    "    if(all_on): res += 1\n",
    "\n",
    "print(res)"
   ]
  },
  {
   "cell_type": "code",
   "execution_count": 12,
   "metadata": {},
   "outputs": [
    {
     "name": "stdin",
     "output_type": "stream",
     "text": [
      " 5 3\n",
      " 1 3\n",
      " 2 3\n",
      " 1 2\n"
     ]
    },
    {
     "name": "stdout",
     "output_type": "stream",
     "text": [
      "3\n"
     ]
    }
   ],
   "source": [
    "n, m = map(int, input().split())\n",
    "\n",
    "relations = set()\n",
    "for i in range(m):\n",
    "    x, y = map(int, input().split())\n",
    "    x -= 1\n",
    "    y -= 1\n",
    "    \n",
    "    relations.add((x, y))\n",
    "\n",
    "res = 0\n",
    "for i in range(1, 1<<n):\n",
    "    num = 0\n",
    "    faction = []\n",
    "    for j in range(n):\n",
    "        if(i & (1<<j)): \n",
    "            faction.append(j)\n",
    "            num += 1\n",
    "    \n",
    "    if(num < res): continue\n",
    "    \n",
    "    flg = True\n",
    "    for j in range(num-1):\n",
    "        for k in range(j+1, num):\n",
    "            relation = faction[j], faction[k]\n",
    "            \n",
    "            if(relation not in relations):\n",
    "                flg = False\n",
    "                break\n",
    "        \n",
    "        if(not flg): break\n",
    "    \n",
    "    if(flg): res = max(res, num)\n",
    "        \n",
    "print(res)"
   ]
  },
  {
   "cell_type": "code",
   "execution_count": 20,
   "metadata": {},
   "outputs": [
    {
     "name": "stdin",
     "output_type": "stream",
     "text": [
      " 2 5\n",
      "  0 1 0 1 0\n",
      "  1 0 0 0 1\n"
     ]
    },
    {
     "name": "stdout",
     "output_type": "stream",
     "text": [
      "9\n"
     ]
    }
   ],
   "source": [
    "r, c = map(int, input().split())\n",
    "a = [list(map(int, input().split())) for _ in range(r)]\n",
    "\n",
    "black = [0 for _ in range(c)]\n",
    "for i in range(r):\n",
    "    for j in range(c):\n",
    "        black[j] += a[i][j]\n",
    "\n",
    "res = 0\n",
    "for i in range(c):\n",
    "    res += max(black[i], r - black[i])\n",
    "\n",
    "for i in range(1<<r):\n",
    "    black_diff = [0 for _ in range(c)]\n",
    "    \n",
    "    for j in range(r):\n",
    "        \n",
    "        if(i & (1<<j)):\n",
    "            for k in range(c):\n",
    "                if(a[j][k]): black_diff[k] -= 1\n",
    "                else: black_diff[k] += 1\n",
    "    \n",
    "    sm = 0\n",
    "    for j in range(c):\n",
    "        sm += max(black[j]+black_diff[j], r-(black[j]+black_diff[j]))\n",
    "\n",
    "    res = max(res, sm)\n",
    "\n",
    "print(res)"
   ]
  },
  {
   "cell_type": "code",
   "execution_count": null,
   "metadata": {},
   "outputs": [],
   "source": [
    "2 5\n",
    " 0 1 0 1 0\n",
    " 1 0 0 0 1"
   ]
  },
  {
   "cell_type": "code",
   "execution_count": 19,
   "metadata": {},
   "outputs": [
    {
     "data": {
      "text/plain": [
       "[1, 0, 0, 0, 1]"
      ]
     },
     "execution_count": 19,
     "metadata": {},
     "output_type": "execute_result"
    }
   ],
   "source": [
    "black"
   ]
  },
  {
   "cell_type": "code",
   "execution_count": 22,
   "metadata": {},
   "outputs": [
    {
     "name": "stdin",
     "output_type": "stream",
     "text": [
      " 5 3\n",
      " 7 4 2 6 4\n"
     ]
    },
    {
     "name": "stdout",
     "output_type": "stream",
     "text": [
      "7\n"
     ]
    }
   ],
   "source": [
    "n, k = map(int, input().split())\n",
    "a = list(map(int, input(). split()))\n",
    "\n",
    "res = 1 << 60\n",
    "for i in range(1<<n):\n",
    "    if(i%2 == 0): continue\n",
    "    \n",
    "    use_idx = [0 for _ in range(n)]\n",
    "    use_cnt = 0\n",
    "    for j in range(n):\n",
    "        if(i & (1<<j)):\n",
    "            use_idx[j] = 1\n",
    "            use_cnt += 1\n",
    "    \n",
    "    if(use_cnt != k): continue\n",
    "    \n",
    "    sm = 0\n",
    "    mx = a[0]\n",
    "    for j in range(1, n):\n",
    "        \n",
    "        if(use_idx[j]):\n",
    "            if(a[j] <= mx):\n",
    "                sm += mx+1 - a[j]\n",
    "                mx += 1\n",
    "        \n",
    "        mx = max(mx, a[j])\n",
    "    \n",
    "    res = min(res, sm)\n",
    "\n",
    "print(res)"
   ]
  },
  {
   "cell_type": "code",
   "execution_count": 11,
   "metadata": {},
   "outputs": [
    {
     "data": {
      "text/plain": [
       "0"
      ]
     },
     "execution_count": 11,
     "metadata": {},
     "output_type": "execute_result"
    }
   ],
   "source": [
    "import re\n",
    "\n",
    "len(re.findall(\"^aaa$\", \"aaaaa\"))"
   ]
  },
  {
   "cell_type": "code",
   "execution_count": 6,
   "metadata": {},
   "outputs": [
    {
     "ename": "SyntaxError",
     "evalue": "invalid syntax (<ipython-input-6-b4475157b36e>, line 2)",
     "output_type": "error",
     "traceback": [
      "\u001b[0;36m  File \u001b[0;32m\"<ipython-input-6-b4475157b36e>\"\u001b[0;36m, line \u001b[0;32m2\u001b[0m\n\u001b[0;31m    s = list(map(labmda x: x.replace('*', '.'), input().split()))\u001b[0m\n\u001b[0m                        ^\u001b[0m\n\u001b[0;31mSyntaxError\u001b[0m\u001b[0;31m:\u001b[0m invalid syntax\n"
     ]
    }
   ],
   "source": [
    "import re\n",
    "s = list(map(labmda x: x.replace('*', '.'), input().split()))\n",
    "\n",
    "n = int(input())\n",
    "for _ in range(n):\n",
    "    t = input()\n",
    "\n",
    "    flg = True\n",
    "    for p in s:\n",
    "        if(len(re.findall(p, t) > 0)): \n",
    "            print('*' * len(t))\n",
    "            flg = False\n",
    "    \n",
    "    if(flg): print(t)"
   ]
  },
  {
   "cell_type": "code",
   "execution_count": 1,
   "metadata": {},
   "outputs": [],
   "source": [
    "def f(x):\n",
    "    return x**5"
   ]
  },
  {
   "cell_type": "code",
   "execution_count": 28,
   "metadata": {},
   "outputs": [
    {
     "name": "stdin",
     "output_type": "stream",
     "text": [
      " 1\n"
     ]
    },
    {
     "name": "stdout",
     "output_type": "stream",
     "text": [
      "0 -1\n"
     ]
    }
   ],
   "source": [
    "x = int(input())\n",
    "\n",
    "def f(x):\n",
    "    return x**5\n",
    "\n",
    "def idx(i):\n",
    "    if(i%2==0): return i//2\n",
    "    else: return -(i//2)\n",
    "\n",
    "five = []\n",
    "for i in range(200):\n",
    "    five.append(f(i))\n",
    "    five.append(f(-i))\n",
    "\n",
    "\n",
    "res = [0, 0]\n",
    "flg = False\n",
    "for i in range(400):\n",
    "    for j in range(400):\n",
    "        a = five[i]\n",
    "        b = five[j]\n",
    "        \n",
    "        if(a - b == x):\n",
    "            res = [idx(i), idx(j)]\n",
    "            flg = True\n",
    "            break\n",
    "    if flg:\n",
    "        break\n",
    "        \n",
    "\n",
    "print(res[0], res[1])"
   ]
  },
  {
   "cell_type": "code",
   "execution_count": 43,
   "metadata": {},
   "outputs": [
    {
     "name": "stdin",
     "output_type": "stream",
     "text": [
      " babacccabab\n"
     ]
    },
    {
     "name": "stdout",
     "output_type": "stream",
     "text": [
      "YES\n"
     ]
    }
   ],
   "source": [
    "s = input()\n",
    "d = {}\n",
    "st = set()\n",
    "for c in s:\n",
    "    if(c not in d): d[c] = 0\n",
    "    else: d[c] += 1\n",
    "    st.add(c)\n",
    "\n",
    "if(len(st) == 1):\n",
    "    if(len(s) == 1): print(\"YES\")\n",
    "    else: print(\"NO\")\n",
    "\n",
    "elif(len(st) == 2):\n",
    "    if(d[list(st)[0]] == d[list(st)[1]]): print(\"YES\")\n",
    "    else: print(\"NO\")\n",
    "\n",
    "else:\n",
    "    mx = 0\n",
    "    no = False\n",
    "    for k in d:\n",
    "        mx = max(mx, d[k])\n",
    "        if(d[k]+1 < mx): flg = True\n",
    "    if(no): print(\"NO\")\n",
    "    else: print(\"YES\")"
   ]
  },
  {
   "cell_type": "code",
   "execution_count": 39,
   "metadata": {},
   "outputs": [],
   "source": [
    "st = set()\n",
    "st.add(1)\n",
    "st.add(2)\n",
    "st.add(1)"
   ]
  },
  {
   "cell_type": "code",
   "execution_count": 40,
   "metadata": {},
   "outputs": [
    {
     "data": {
      "text/plain": [
       "1"
      ]
     },
     "execution_count": 40,
     "metadata": {},
     "output_type": "execute_result"
    }
   ],
   "source": [
    "list(st)[0]"
   ]
  },
  {
   "cell_type": "code",
   "execution_count": 44,
   "metadata": {},
   "outputs": [
    {
     "data": {
      "text/plain": [
       "{'b': 3, 'a': 3, 'c': 2}"
      ]
     },
     "execution_count": 44,
     "metadata": {},
     "output_type": "execute_result"
    }
   ],
   "source": [
    "d"
   ]
  },
  {
   "cell_type": "code",
   "execution_count": 54,
   "metadata": {
    "collapsed": true,
    "jupyter": {
     "outputs_hidden": true
    }
   },
   "outputs": [
    {
     "name": "stdout",
     "output_type": "stream",
     "text": [
      "8+3+2+4-8+7+2-4+0-8=8\n",
      "8+3+2+4-8+7+2-4-0-8=8\n",
      "8+3+2+4-8+7-2+4+0-8=8\n",
      "8+3+2+4-8+7-2+4-0-8=8\n",
      "8+3+2+4-8+7-2-4+0+8=8\n",
      "8+3+2+4-8+7-2-4+0-8=8\n",
      "8+3+2+4-8+7-2-4-0+8=8\n",
      "8+3+2+4-8+7-2-4-0-8=8\n",
      "8+3+2+4-8-7+2+4+0+8=8\n",
      "8+3+2+4-8-7+2+4+0-8=8\n",
      "8+3+2+4-8-7+2+4-0+8=8\n",
      "8+3+2+4-8-7+2+4-0-8=8\n",
      "8+3+2+4-8-7+2-4+0+8=8\n",
      "8+3+2+4-8-7+2-4-0+8=8\n",
      "8+3+2+4-8-7-2+4+0+8=8\n",
      "8+3+2+4-8-7-2+4-0+8=8\n",
      "8+3+2-4+8-7+2+4+0-8=8\n",
      "8+3+2-4+8-7+2+4-0-8=8\n",
      "8+3+2-4+8-7+2-4+0+8=8\n",
      "8+3+2-4+8-7+2-4+0-8=8\n",
      "8+3+2-4+8-7+2-4-0+8=8\n",
      "8+3+2-4+8-7+2-4-0-8=8\n",
      "8+3+2-4+8-7-2+4+0+8=8\n",
      "8+3+2-4+8-7-2+4+0-8=8\n",
      "8+3+2-4+8-7-2+4-0+8=8\n",
      "8+3+2-4+8-7-2+4-0-8=8\n",
      "8+3+2-4+8-7-2-4+0+8=8\n",
      "8+3+2-4+8-7-2-4-0+8=8\n",
      "8+3+2-4-8+7+2+4+0-8=8\n",
      "8+3+2-4-8+7+2+4-0-8=8\n",
      "8+3+2-4-8+7+2-4+0+8=8\n",
      "8+3+2-4-8+7+2-4-0+8=8\n",
      "8+3+2-4-8+7-2+4+0+8=8\n",
      "8+3+2-4-8+7-2+4+0-8=8\n",
      "8+3+2-4-8+7-2+4-0+8=8\n",
      "8+3+2-4-8+7-2+4-0-8=8\n",
      "8+3+2-4-8+7-2-4+0+8=8\n",
      "8+3+2-4-8+7-2-4-0+8=8\n",
      "8+3-2+4-8+7+2+4+0-8=8\n",
      "8+3-2+4-8+7+2+4-0-8=8\n",
      "8+3-2+4-8+7+2-4+0+8=8\n",
      "8+3-2+4-8+7+2-4+0-8=8\n",
      "8+3-2+4-8+7+2-4-0+8=8\n",
      "8+3-2+4-8+7+2-4-0-8=8\n",
      "8+3-2+4-8+7-2+4+0-8=8\n",
      "8+3-2+4-8+7-2+4-0-8=8\n",
      "8+3-2+4-8+7-2-4+0+8=8\n",
      "8+3-2+4-8+7-2-4-0+8=8\n",
      "8+3-2-4+8+7-2-4+0-8=8\n",
      "8+3-2-4+8+7-2-4-0-8=8\n",
      "8+3-2-4+8-7+2+4+0+8=8\n",
      "8+3-2-4+8-7+2+4+0-8=8\n",
      "8+3-2-4+8-7+2+4-0+8=8\n",
      "8+3-2-4+8-7+2+4-0-8=8\n",
      "8+3-2-4+8-7+2-4+0+8=8\n",
      "8+3-2-4+8-7+2-4-0+8=8\n",
      "8+3-2-4+8-7-2+4+0+8=8\n",
      "8+3-2-4+8-7-2+4+0-8=8\n",
      "8+3-2-4+8-7-2+4-0+8=8\n",
      "8+3-2-4+8-7-2+4-0-8=8\n",
      "8+3-2-4+8-7-2-4+0+8=8\n",
      "8+3-2-4+8-7-2-4-0+8=8\n",
      "8-3+2+4+8-7+2+4+0-8=8\n",
      "8-3+2+4+8-7+2+4-0-8=8\n",
      "8-3+2+4+8-7+2-4+0+8=8\n",
      "8-3+2+4+8-7+2-4+0-8=8\n",
      "8-3+2+4+8-7+2-4-0+8=8\n",
      "8-3+2+4+8-7+2-4-0-8=8\n",
      "8-3+2+4+8-7-2+4+0-8=8\n",
      "8-3+2+4+8-7-2+4-0-8=8\n",
      "8-3+2+4+8-7-2-4+0+8=8\n",
      "8-3+2+4+8-7-2-4-0+8=8\n",
      "8-3+2+4-8+7+2+4+0-8=8\n",
      "8-3+2+4-8+7+2+4-0-8=8\n",
      "8-3+2+4-8+7+2-4+0+8=8\n",
      "8-3+2+4-8+7+2-4+0-8=8\n",
      "8-3+2+4-8+7+2-4-0+8=8\n",
      "8-3+2+4-8+7+2-4-0-8=8\n",
      "8-3+2+4-8+7-2+4+0+8=8\n",
      "8-3+2+4-8+7-2+4+0-8=8\n",
      "8-3+2+4-8+7-2+4-0+8=8\n",
      "8-3+2+4-8+7-2+4-0-8=8\n",
      "8-3+2+4-8+7-2-4+0+8=8\n",
      "8-3+2+4-8+7-2-4-0+8=8\n",
      "8-3+2-4+8+7+2-4+0-8=8\n",
      "8-3+2-4+8+7+2-4-0-8=8\n",
      "8-3+2-4+8+7-2+4+0-8=8\n",
      "8-3+2-4+8+7-2+4-0-8=8\n",
      "8-3+2-4+8+7-2-4+0+8=8\n",
      "8-3+2-4+8+7-2-4+0-8=8\n",
      "8-3+2-4+8+7-2-4-0+8=8\n",
      "8-3+2-4+8+7-2-4-0-8=8\n",
      "8-3+2-4+8-7+2+4+0+8=8\n",
      "8-3+2-4+8-7+2+4+0-8=8\n",
      "8-3+2-4+8-7+2+4-0+8=8\n",
      "8-3+2-4+8-7+2+4-0-8=8\n",
      "8-3+2-4+8-7+2-4+0+8=8\n",
      "8-3+2-4+8-7+2-4-0+8=8\n",
      "8-3+2-4+8-7-2+4+0+8=8\n",
      "8-3+2-4+8-7-2+4-0+8=8\n",
      "8-3-2+4+8-7+2+4+0-8=8\n",
      "8-3-2+4+8-7+2+4-0-8=8\n",
      "8-3-2+4+8-7+2-4+0+8=8\n",
      "8-3-2+4+8-7+2-4-0+8=8\n",
      "8-3-2+4+8-7-2+4+0+8=8\n",
      "8-3-2+4+8-7-2+4+0-8=8\n",
      "8-3-2+4+8-7-2+4-0+8=8\n",
      "8-3-2+4+8-7-2+4-0-8=8\n",
      "8-3-2+4+8-7-2-4+0+8=8\n",
      "8-3-2+4+8-7-2-4-0+8=8\n",
      "8+3+2+4-8+7+2-4+0-8=8\n",
      "8+3+2+4-8+7+2-4-0-8=8\n",
      "8+3+2+4-8+7-2+4+0-8=8\n",
      "8+3+2+4-8+7-2+4-0-8=8\n",
      "8+3+2+4-8+7-2-4+0+8=8\n",
      "8+3+2+4-8+7-2-4+0-8=8\n",
      "8+3+2+4-8+7-2-4-0+8=8\n",
      "8+3+2+4-8+7-2-4-0-8=8\n",
      "8+3+2+4-8-7+2+4+0+8=8\n",
      "8+3+2+4-8-7+2+4+0-8=8\n",
      "8+3+2+4-8-7+2+4-0+8=8\n",
      "8+3+2+4-8-7+2+4-0-8=8\n",
      "8+3+2+4-8-7+2-4+0+8=8\n",
      "8+3+2+4-8-7+2-4-0+8=8\n",
      "8+3+2+4-8-7-2+4+0+8=8\n",
      "8+3+2+4-8-7-2+4-0+8=8\n",
      "8+3+2-4+8-7+2+4+0-8=8\n",
      "8+3+2-4+8-7+2+4-0-8=8\n",
      "8+3+2-4+8-7+2-4+0+8=8\n",
      "8+3+2-4+8-7+2-4+0-8=8\n",
      "8+3+2-4+8-7+2-4-0+8=8\n",
      "8+3+2-4+8-7+2-4-0-8=8\n",
      "8+3+2-4+8-7-2+4+0+8=8\n",
      "8+3+2-4+8-7-2+4+0-8=8\n",
      "8+3+2-4+8-7-2+4-0+8=8\n",
      "8+3+2-4+8-7-2+4-0-8=8\n",
      "8+3+2-4+8-7-2-4+0+8=8\n",
      "8+3+2-4+8-7-2-4-0+8=8\n",
      "8+3+2-4-8+7+2+4+0-8=8\n",
      "8+3+2-4-8+7+2+4-0-8=8\n",
      "8+3+2-4-8+7+2-4+0+8=8\n",
      "8+3+2-4-8+7+2-4-0+8=8\n",
      "8+3+2-4-8+7-2+4+0+8=8\n",
      "8+3+2-4-8+7-2+4+0-8=8\n",
      "8+3+2-4-8+7-2+4-0+8=8\n",
      "8+3+2-4-8+7-2+4-0-8=8\n",
      "8+3+2-4-8+7-2-4+0+8=8\n",
      "8+3+2-4-8+7-2-4-0+8=8\n",
      "8+3-2+4-8+7+2+4+0-8=8\n",
      "8+3-2+4-8+7+2+4-0-8=8\n",
      "8+3-2+4-8+7+2-4+0+8=8\n",
      "8+3-2+4-8+7+2-4+0-8=8\n",
      "8+3-2+4-8+7+2-4-0+8=8\n",
      "8+3-2+4-8+7+2-4-0-8=8\n",
      "8+3-2+4-8+7-2+4+0-8=8\n",
      "8+3-2+4-8+7-2+4-0-8=8\n",
      "8+3-2+4-8+7-2-4+0+8=8\n",
      "8+3-2+4-8+7-2-4-0+8=8\n",
      "8+3-2-4+8+7-2-4+0-8=8\n",
      "8+3-2-4+8+7-2-4-0-8=8\n",
      "8+3-2-4+8-7+2+4+0+8=8\n",
      "8+3-2-4+8-7+2+4+0-8=8\n",
      "8+3-2-4+8-7+2+4-0+8=8\n",
      "8+3-2-4+8-7+2+4-0-8=8\n",
      "8+3-2-4+8-7+2-4+0+8=8\n",
      "8+3-2-4+8-7+2-4-0+8=8\n",
      "8+3-2-4+8-7-2+4+0+8=8\n",
      "8+3-2-4+8-7-2+4+0-8=8\n",
      "8+3-2-4+8-7-2+4-0+8=8\n",
      "8+3-2-4+8-7-2+4-0-8=8\n",
      "8+3-2-4+8-7-2-4+0+8=8\n",
      "8+3-2-4+8-7-2-4-0+8=8\n",
      "8-3+2+4+8-7+2+4+0-8=8\n",
      "8-3+2+4+8-7+2+4-0-8=8\n",
      "8-3+2+4+8-7+2-4+0+8=8\n",
      "8-3+2+4+8-7+2-4+0-8=8\n",
      "8-3+2+4+8-7+2-4-0+8=8\n",
      "8-3+2+4+8-7+2-4-0-8=8\n",
      "8-3+2+4+8-7-2+4+0-8=8\n",
      "8-3+2+4+8-7-2+4-0-8=8\n",
      "8-3+2+4+8-7-2-4+0+8=8\n",
      "8-3+2+4+8-7-2-4-0+8=8\n",
      "8-3+2+4-8+7+2+4+0-8=8\n",
      "8-3+2+4-8+7+2+4-0-8=8\n",
      "8-3+2+4-8+7+2-4+0+8=8\n",
      "8-3+2+4-8+7+2-4+0-8=8\n",
      "8-3+2+4-8+7+2-4-0+8=8\n",
      "8-3+2+4-8+7+2-4-0-8=8\n",
      "8-3+2+4-8+7-2+4+0+8=8\n",
      "8-3+2+4-8+7-2+4+0-8=8\n",
      "8-3+2+4-8+7-2+4-0+8=8\n",
      "8-3+2+4-8+7-2+4-0-8=8\n",
      "8-3+2+4-8+7-2-4+0+8=8\n",
      "8-3+2+4-8+7-2-4-0+8=8\n",
      "8-3+2-4+8+7+2-4+0-8=8\n",
      "8-3+2-4+8+7+2-4-0-8=8\n",
      "8-3+2-4+8+7-2+4+0-8=8\n",
      "8-3+2-4+8+7-2+4-0-8=8\n",
      "8-3+2-4+8+7-2-4+0+8=8\n",
      "8-3+2-4+8+7-2-4+0-8=8\n",
      "8-3+2-4+8+7-2-4-0+8=8\n",
      "8-3+2-4+8+7-2-4-0-8=8\n",
      "8-3+2-4+8-7+2+4+0+8=8\n",
      "8-3+2-4+8-7+2+4+0-8=8\n",
      "8-3+2-4+8-7+2+4-0+8=8\n",
      "8-3+2-4+8-7+2+4-0-8=8\n",
      "8-3+2-4+8-7+2-4+0+8=8\n",
      "8-3+2-4+8-7+2-4-0+8=8\n",
      "8-3+2-4+8-7-2+4+0+8=8\n",
      "8-3+2-4+8-7-2+4-0+8=8\n",
      "8-3-2+4+8-7+2+4+0-8=8\n",
      "8-3-2+4+8-7+2+4-0-8=8\n",
      "8-3-2+4+8-7+2-4+0+8=8\n",
      "8-3-2+4+8-7+2-4-0+8=8\n",
      "8-3-2+4+8-7-2+4+0+8=8\n",
      "8-3-2+4+8-7-2+4+0-8=8\n",
      "8-3-2+4+8-7-2+4-0+8=8\n",
      "8-3-2+4+8-7-2+4-0-8=8\n",
      "8-3-2+4+8-7-2-4+0+8=8\n",
      "8-3-2+4+8-7-2-4-0+8=8\n",
      "220\n"
     ]
    }
   ],
   "source": [
    "n = 11\n",
    "a = [8, 3, 2, 4, 8, 7, 2, 4, 0, 8, 8]\n",
    "cnt = 0\n",
    "for i in range(1<<10):\n",
    "    op = [0 for _ in range(10)]\n",
    "    for j in range(10):\n",
    "        if(i & (1<<j)): op[9-j] = 1\n",
    "    \n",
    "    sm = a[0]\n",
    "    flg = True\n",
    "    for k in range(1, 10):\n",
    "        if(op[k]==0): sm += a[k]\n",
    "        else: sm -= a[k]\n",
    "        \n",
    "        if(sm<0 or sm>20): flg = False\n",
    "    \n",
    "    if(flg):\n",
    "        res = str(a[0])\n",
    "        for k in range(1, 10):\n",
    "            if(op[k]==0): res += \"+\"\n",
    "            else: res += \"-\"\n",
    "            \n",
    "            res += str(a[k])\n",
    "        res += \"=\" + str(a[-1])\n",
    "        print(res)\n",
    "        cnt += 1\n",
    "print(cnt)"
   ]
  },
  {
   "cell_type": "code",
   "execution_count": null,
   "metadata": {},
   "outputs": [],
   "source": []
  },
  {
   "cell_type": "code",
   "execution_count": null,
   "metadata": {},
   "outputs": [],
   "source": []
  }
 ],
 "metadata": {
  "kernelspec": {
   "display_name": "Python 3",
   "language": "python",
   "name": "python3"
  },
  "language_info": {
   "codemirror_mode": {
    "name": "ipython",
    "version": 3
   },
   "file_extension": ".py",
   "mimetype": "text/x-python",
   "name": "python",
   "nbconvert_exporter": "python",
   "pygments_lexer": "ipython3",
   "version": "3.6.9"
  }
 },
 "nbformat": 4,
 "nbformat_minor": 4
}
