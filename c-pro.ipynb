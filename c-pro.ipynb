{
 "cells": [
  {
   "cell_type": "code",
   "execution_count": 1,
   "metadata": {},
   "outputs": [
    {
     "name": "stdin",
     "output_type": "stream",
     "text": [
      " 3\n",
      " 2 3 1\n"
     ]
    },
    {
     "data": {
      "text/plain": [
       "(3, [2, 3, 1])"
      ]
     },
     "execution_count": 1,
     "metadata": {},
     "output_type": "execute_result"
    }
   ],
   "source": [
    "N = int(input())\n",
    "A = list(map(int, input().split()))\n",
    "N, A"
   ]
  },
  {
   "cell_type": "code",
   "execution_count": 9,
   "metadata": {},
   "outputs": [
    {
     "name": "stdin",
     "output_type": "stream",
     "text": [
      " 3\n",
      " 2 3 1\n"
     ]
    },
    {
     "name": "stdout",
     "output_type": "stream",
     "text": [
      "3 1 2 "
     ]
    }
   ],
   "source": [
    "N, A = 3, [2, 3, 1]\n",
    "\n",
    "N = int(input())\n",
    "A = list(map(int, input().split()))\n",
    "res = [0 for _ in range(N)]\n",
    "\n",
    "for i in range(N):\n",
    "    \n",
    "    res[A[i] - 1] = i + 1\n",
    "\n",
    "for r in res:\n",
    "    print(r, end = ' ')"
   ]
  },
  {
   "cell_type": "code",
   "execution_count": 6,
   "metadata": {},
   "outputs": [
    {
     "data": {
      "text/plain": [
       "'[3, 1, 2]'"
      ]
     },
     "execution_count": 6,
     "metadata": {},
     "output_type": "execute_result"
    }
   ],
   "source": [
    "a = "
   ]
  },
  {
   "cell_type": "code",
   "execution_count": 40,
   "metadata": {},
   "outputs": [],
   "source": [
    "N = 5\n",
    "A = [5, 6, 6, 3, 4]\n",
    "B = [9, 6, 6, 3, 5]\n",
    "C = [7, 5, 1, 7, 7]\n",
    "\n",
    "dp = [[0, 0, 0] for _ in range(N)]"
   ]
  },
  {
   "cell_type": "code",
   "execution_count": 41,
   "metadata": {},
   "outputs": [
    {
     "data": {
      "text/plain": [
       "[[0, 0, 0], [0, 0, 0], [0, 0, 0], [0, 0, 0], [0, 0, 0]]"
      ]
     },
     "execution_count": 41,
     "metadata": {},
     "output_type": "execute_result"
    }
   ],
   "source": [
    "dp"
   ]
  },
  {
   "cell_type": "code",
   "execution_count": 44,
   "metadata": {},
   "outputs": [
    {
     "name": "stdout",
     "output_type": "stream",
     "text": [
      "33\n"
     ]
    }
   ],
   "source": [
    "dp[0][0] = A[0]\n",
    "dp[0][1] = B[0]\n",
    "dp[0][2] = C[0]\n",
    "\n",
    "\n",
    "for i in range(1, N):\n",
    "    \n",
    "    dp[i][0] = max(dp[i - 1][1], dp[i - 1][2]) + A[i]\n",
    "    dp[i][1] = max(dp[i - 1][2], dp[i - 1][0]) + B[i]\n",
    "    dp[i][2] = max(dp[i - 1][0], dp[i - 1][1]) + C[i]\n",
    "\n",
    "print(max(dp[-1]))\n",
    "    \n"
   ]
  },
  {
   "cell_type": "code",
   "execution_count": null,
   "metadata": {},
   "outputs": [],
   "source": [
    "N = int(input())\n",
    "\n",
    "A = [0 for _ in range(N)]\n",
    "B = [0 for _ in range(N)]\n",
    "C = [0 for _ in range(N)]\n",
    "\n",
    "for i in range(N):\n",
    "    A[i], B[i], C[i] = map(int, input().split())\n",
    "\n",
    "dp = [[0, 0, 0] for _ in range(N)]\n",
    "\n",
    "dp[0][0] = A[0]\n",
    "dp[0][1] = B[0]\n",
    "dp[0][2] = C[0]\n",
    "\n",
    "for i in range(1, N):\n",
    "    \n",
    "    dp[i][0] = max(dp[i - 1][1], dp[i - 1][2]) + A[i]\n",
    "    dp[i][1] = max(dp[i - 1][2], dp[i - 1][0]) + B[i]\n",
    "    dp[i][2] = max(dp[i - 1][0], dp[i - 1][1]) + C[i]\n",
    "\n",
    "print(max(dp[-1]))"
   ]
  },
  {
   "cell_type": "code",
   "execution_count": 46,
   "metadata": {},
   "outputs": [
    {
     "name": "stdin",
     "output_type": "stream",
     "text": [
      " 3\n",
      " 10 40 70\n",
      " 20 50 80\n",
      " 30 60 90\n"
     ]
    },
    {
     "name": "stdout",
     "output_type": "stream",
     "text": [
      "210\n"
     ]
    }
   ],
   "source": [
    "N = int(input())\n",
    "\n",
    "A = [0 for _ in range(N)]\n",
    "B = [0 for _ in range(N)]\n",
    "C = [0 for _ in range(N)]\n",
    "\n",
    "for i in range(N):\n",
    "    A[i], B[i], C[i] = map(int, input().split())\n",
    "\n",
    "dp = [[0, 0, 0] for _ in range(N)]\n",
    "\n",
    "dp[0][0] = A[0]\n",
    "dp[0][1] = B[0]\n",
    "dp[0][2] = C[0]\n",
    "\n",
    "for i in range(1, N):\n",
    "    \n",
    "    dp[i][0] = max(dp[i - 1][1], dp[i - 1][2]) + A[i]\n",
    "    dp[i][1] = max(dp[i - 1][2], dp[i - 1][0]) + B[i]\n",
    "    dp[i][2] = max(dp[i - 1][0], dp[i - 1][1]) + C[i]\n",
    "\n",
    "print(max(dp[-1]))"
   ]
  },
  {
   "cell_type": "code",
   "execution_count": 4,
   "metadata": {},
   "outputs": [
    {
     "name": "stdin",
     "output_type": "stream",
     "text": [
      " 3 8\n",
      " 3 30\n",
      " 4 50\n",
      " 5 60\n"
     ]
    },
    {
     "data": {
      "text/plain": [
       "90"
      ]
     },
     "execution_count": 4,
     "metadata": {},
     "output_type": "execute_result"
    }
   ],
   "source": [
    "N, W = map(int, input().split())\n",
    "\n",
    "w = [0 for _ in range(N)]\n",
    "v = [0 for _ in range(N)]\n",
    "\n",
    "for i in range(N): w[i], v[i] = map(int, input().split())\n",
    "\n",
    "dp = [[0 for i in range(W + 1)] for j in range(N + 1)]\n",
    "\n",
    "for i in range(N):\n",
    "    \n",
    "    for sum_w in range(W + 1):\n",
    "        \n",
    "        if(w[i] > sum_w):\n",
    "            dp[i + 1][sum_w] = max(dp[i][sum_w], dp[i + 1][sum_w])\n",
    "        \n",
    "        else:\n",
    "            dp[i + 1][sum_w] = max(dp[i][sum_w], dp[i][sum_w - w[i]] + v[i])\n",
    "            \n",
    "dp[-1][-1]"
   ]
  },
  {
   "cell_type": "code",
   "execution_count": 3,
   "metadata": {},
   "outputs": [
    {
     "data": {
      "text/plain": [
       "[[0, 0, 0, 0, 0, 0, 0, 0, 0, 0, 0, 0, 0, 0, 0, 0],\n",
       " [0, 0, 3, 3, 3, 3, 3, 3, 3, 3, 3, 3, 3, 3, 3, 3],\n",
       " [0, 2, 3, 5, 5, 5, 5, 5, 5, 5, 5, 5, 5, 5, 5, 5],\n",
       " [0, 2, 3, 6, 8, 9, 11, 11, 11, 11, 11, 11, 11, 11, 11, 11],\n",
       " [0, 2, 3, 6, 8, 9, 11, 11, 12, 12, 12, 12, 12, 12, 12, 12],\n",
       " [0, 3, 5, 6, 9, 11, 12, 14, 14, 15, 15, 15, 15, 15, 15, 15],\n",
       " [0, 3, 5, 6, 9, 85, 88, 90, 91, 94, 96, 97, 99, 99, 100, 100]]"
      ]
     },
     "execution_count": 3,
     "metadata": {},
     "output_type": "execute_result"
    }
   ],
   "source": [
    "dp"
   ]
  },
  {
   "cell_type": "code",
   "execution_count": 5,
   "metadata": {},
   "outputs": [
    {
     "data": {
      "text/plain": [
       "[[0, 0, 0, 0, 0, 0, 0, 0, 0],\n",
       " [0, 0, 0, 30, 30, 30, 30, 30, 30],\n",
       " [0, 0, 0, 30, 50, 50, 50, 80, 80],\n",
       " [0, 0, 0, 30, 50, 60, 60, 80, 90]]"
      ]
     },
     "execution_count": 5,
     "metadata": {},
     "output_type": "execute_result"
    }
   ],
   "source": [
    "dp\n"
   ]
  },
  {
   "cell_type": "code",
   "execution_count": 31,
   "metadata": {},
   "outputs": [
    {
     "name": "stdout",
     "output_type": "stream",
     "text": [
      "[0, 5, 4, 2, 1000000000.0, 1000000000.0]\n",
      "5 1\n",
      "[0, 5, 4, 2, 1000000000.0, 1000000000.0]\n",
      "4 2\n",
      "[0, 5, 4, 2, 1000000000.0, 1000000000.0]\n",
      "[0, 5, 4, 2, 8, 1000000000.0]\n",
      "[0, 5, 4, 2, 8, 1000000000.0]\n",
      "5 1\n",
      "[0, 5, 4, 2, 8, 1000000000.0]\n",
      "[0, 5, 4, 2, 6, 1000000000.0]\n",
      "[0, 5, 4, 2, 6, 1000000000.0]\n",
      "[0, 5, 4, 2, 6, 1000000000.0]\n",
      "6 4\n",
      "[0, 5, 4, 2, 6, 1000000000.0]\n",
      "[0, 5, 4, 2, 6, 11]\n",
      "[0, 5, 4, 2, 6, 11]\n",
      "11 5\n",
      "[0, 5, 4, 2, 6, 10]\n",
      "10 5\n"
     ]
    }
   ],
   "source": [
    "node_list = [[0, 5, 4, 2, 0, 0], [5, 0, 2, 0, 0, 6], [4, 2, 0, 3, 2, 0], [2, 0, 3, 0, 6, 0], [0, 0, 2, 6, 0, 4], [0, 6, 0, 0, 4, 0]]\n",
    "node_num = len(node_list)\n",
    "dp = [1e9 for _ in range(node_num)]\n",
    "isconf = [False for _ in range(node_num)]\n",
    "dp[0] = 0\n",
    "isconf[0] = True\n",
    "\n",
    "i = 0\n",
    "min_value = 1e9\n",
    "min_idx = 0\n",
    "for j in range(node_num):\n",
    "    if(node_list[i][j] == 0): continue\n",
    "    dp[j] = min(dp[i] + node_list[i][j], dp[j])\n",
    "    if(dp[j] < min_value):\n",
    "        min_value = dp[j]\n",
    "        min_idx = j\n",
    "            \n",
    "isconf[min_idx] = True\n",
    "\n",
    "\n",
    "while(sum(isconf) < 6):\n",
    "    min_value = 1e9\n",
    "    for i in range(node_num):\n",
    "        if(isconf[i] is True): continue\n",
    "        for j in range(node_num):\n",
    "            if(node_list[i][j] == 0): continue\n",
    "            if(isconf[j] is True):\n",
    "                dp[i] = min(dp[i], dp[j] + node_list[i][j])\n",
    "                print(dp)\n",
    "                if(dp[i] < min_value):\n",
    "                    min_value = dp[i]\n",
    "                    min_index = i\n",
    "                    print(min_value, min_index)\n",
    "    isconf[min_index] = True\n",
    "    "
   ]
  },
  {
   "cell_type": "code",
   "execution_count": 2,
   "metadata": {},
   "outputs": [
    {
     "data": {
      "text/plain": [
       "array([[0, 5, 4, 2, 0, 0],\n",
       "       [5, 0, 2, 0, 0, 6],\n",
       "       [4, 2, 0, 3, 2, 0],\n",
       "       [2, 0, 3, 0, 6, 0],\n",
       "       [0, 0, 2, 6, 0, 4],\n",
       "       [0, 6, 0, 0, 4, 0]])"
      ]
     },
     "execution_count": 2,
     "metadata": {},
     "output_type": "execute_result"
    }
   ],
   "source": [
    "import numpy as np\n",
    "np.array(node_list)"
   ]
  },
  {
   "cell_type": "code",
   "execution_count": 30,
   "metadata": {},
   "outputs": [
    {
     "data": {
      "text/plain": [
       "([0, 5, 4, 2, 6, 10], [True, True, True, True, True, True])"
      ]
     },
     "execution_count": 30,
     "metadata": {},
     "output_type": "execute_result"
    }
   ],
   "source": [
    "dp, isconf"
   ]
  },
  {
   "cell_type": "code",
   "execution_count": 16,
   "metadata": {},
   "outputs": [
    {
     "data": {
      "text/plain": [
       "1"
      ]
     },
     "execution_count": 16,
     "metadata": {},
     "output_type": "execute_result"
    }
   ],
   "source": []
  },
  {
   "cell_type": "code",
   "execution_count": 32,
   "metadata": {},
   "outputs": [
    {
     "name": "stdout",
     "output_type": "stream",
     "text": [
      "[0, 5, 4, 2, 1000000000.0, 1000000000.0]\n",
      "5 1\n",
      "[0, 5, 4, 2, 1000000000.0, 1000000000.0]\n",
      "4 2\n",
      "[0, 5, 4, 2, 1000000000.0, 1000000000.0]\n",
      "[0, 5, 4, 2, 8, 1000000000.0]\n",
      "[0, 5, 4, 2, 8, 1000000000.0]\n",
      "5 1\n",
      "[0, 5, 4, 2, 8, 1000000000.0]\n",
      "[0, 5, 4, 2, 6, 1000000000.0]\n",
      "[0, 5, 4, 2, 6, 1000000000.0]\n",
      "[0, 5, 4, 2, 6, 1000000000.0]\n",
      "6 4\n",
      "[0, 5, 4, 2, 6, 1000000000.0]\n",
      "[0, 5, 4, 2, 6, 11]\n",
      "[0, 5, 4, 2, 6, 11]\n",
      "11 5\n",
      "[0, 5, 4, 2, 6, 10]\n",
      "10 5\n"
     ]
    }
   ],
   "source": [
    "node_list = [[0, 5, 4, 2, 0, 0], [5, 0, 2, 0, 0, 6], [4, 2, 0, 3, 2, 0], [2, 0, 3, 0, 6, 0], [0, 0, 2, 6, 0, 4], [0, 6, 0, 0, 4, 0]] #隣接ノードへのコスト\n",
    "node_num = len(node_list) #ノード数\n",
    "dp = [1e9 for _ in range(node_num)] #dpテーブル：iノードへ行く最短コストを更新\n",
    "isconf = [False for _ in range(node_num)] #コストが確定するとTrueになるフラグ行列\n",
    "dp[0] = 0 #スタート位置は確定なので0\n",
    "isconf[0] = True #スタート位置は確定なのでTrue\n",
    "\n",
    "i = 0 #i=0：スタートノードのみ「自分から出るコスト」を考える\n",
    "min_value = 1e9 #最小のコストを見つけるための変数。1e9で初期化\n",
    "min_idx = 0 #その時のindexがほしい\n",
    "for j in range(node_num):\n",
    "    if(node_list[i][j] == 0): continue #node_listが0なのは自分かつながってないノードなのでcontinue\n",
    "    dp[j] = min(dp[i] + node_list[i][j], dp[j]) #dp[i]=0だからあんまり意味ないけどdpぽい表記\n",
    "    if(dp[j] < min_value): #スタートノードから伸びる最小コストを探す\n",
    "        min_value = dp[j]\n",
    "        min_idx = j\n",
    "            \n",
    "isconf[min_idx] = True #そのときにノードは別経路が低コストなことが絶対ないので確定する\n",
    "\n",
    "#ここからダイクストラ法\n",
    "while(sum(isconf) < node_num): #全部が確定ノードになるまでループ\n",
    "    min_value = 1e9 #「未確定ノードのうち最小コストが確定」がダイクストラ法の核で、それを実装するためmin_valueを初期化\n",
    "    for i in range(node_num): #今回は「i番目に来るためのコスト」を考える（i=0と逆）\n",
    "        if(isconf[i]): continue #確定ノードは更新の必要がないためスキップ\n",
    "        for j in range(node_num):\n",
    "            if(node_list[i][j] == 0): continue #node_listが0なのは自分かつながってないノードなのでcontinue\n",
    "            if(isconf[j]): #「確定ノードからのコストのみ計算」これもダイクストラ法の核\n",
    "                dp[i] = min(dp[i], dp[j] + node_list[i][j]) #暫定最小コストdp[i]とつながったノードからの移動の小さい方を格納\n",
    "                print(dp) #デバッグ\n",
    "                if(dp[i] < min_value): #扱われたコストのうち最小のものを探したいのでこのタイミングで分岐（どうせ更新が起きる時しか最小コストも更新されない）\n",
    "                    min_value = dp[i]\n",
    "                    min_index = i\n",
    "                    print(min_value, min_index)\n",
    "    isconf[min_index] = True #最小のものを確定ノードにする （仮に最小がなくても前のidxが入りっぱなしなのでバグは起きない）\n",
    "    "
   ]
  },
  {
   "cell_type": "code",
   "execution_count": 33,
   "metadata": {},
   "outputs": [
    {
     "name": "stdout",
     "output_type": "stream",
     "text": [
      "/Users/johann/Desktop/c-pro\n"
     ]
    }
   ],
   "source": [
    "!pwd"
   ]
  },
  {
   "cell_type": "code",
   "execution_count": 34,
   "metadata": {},
   "outputs": [
    {
     "name": "stdout",
     "output_type": "stream",
     "text": [
      "\u001b[31m#1 カントリー_mix_final_mastered.wav\u001b[m\u001b[m\n",
      "ABC145_D.cpp\n",
      "\u001b[1m\u001b[36mAtCoder\u001b[m\u001b[m\n",
      "README.md\n",
      "\u001b[31ma.out\u001b[m\u001b[m\n",
      "c-pro.ipynb\n",
      "forQiita.cpp\n",
      "tempCodeRunnerFile.cpp\n"
     ]
    }
   ],
   "source": [
    "!ls"
   ]
  },
  {
   "cell_type": "code",
   "execution_count": 37,
   "metadata": {},
   "outputs": [],
   "source": []
  },
  {
   "cell_type": "code",
   "execution_count": 38,
   "metadata": {},
   "outputs": [
    {
     "data": {
      "text/plain": [
       "(11383796, 2)"
      ]
     },
     "execution_count": 38,
     "metadata": {},
     "output_type": "execute_result"
    }
   ],
   "source": [
    "wave.shape"
   ]
  },
  {
   "cell_type": "code",
   "execution_count": 40,
   "metadata": {},
   "outputs": [
    {
     "data": {
      "text/plain": [
       "44100"
      ]
     },
     "execution_count": 40,
     "metadata": {},
     "output_type": "execute_result"
    }
   ],
   "source": [
    "fs"
   ]
  },
  {
   "cell_type": "code",
   "execution_count": 42,
   "metadata": {},
   "outputs": [
    {
     "data": {
      "text/plain": [
       "array([[0.45974731, 0.41723633],\n",
       "       [0.52310181, 0.58374023],\n",
       "       [0.54562378, 0.69726562],\n",
       "       [0.53985596, 0.66030884],\n",
       "       [0.51858521, 0.54602051],\n",
       "       [0.5189209 , 0.51773071],\n",
       "       [0.56072998, 0.52062988],\n",
       "       [0.57958984, 0.52938843],\n",
       "       [0.60583496, 0.52545166],\n",
       "       [0.61004639, 0.52325439]])"
      ]
     },
     "execution_count": 42,
     "metadata": {},
     "output_type": "execute_result"
    }
   ],
   "source": [
    "s = 100000\n",
    "wave[s:s+10]"
   ]
  },
  {
   "cell_type": "code",
   "execution_count": 43,
   "metadata": {},
   "outputs": [],
   "source": [
    "import pandas as pd\n",
    "wave_pd = pd.DataFrame(wave)"
   ]
  },
  {
   "cell_type": "code",
   "execution_count": 44,
   "metadata": {},
   "outputs": [
    {
     "data": {
      "text/html": [
       "<div>\n",
       "<style scoped>\n",
       "    .dataframe tbody tr th:only-of-type {\n",
       "        vertical-align: middle;\n",
       "    }\n",
       "\n",
       "    .dataframe tbody tr th {\n",
       "        vertical-align: top;\n",
       "    }\n",
       "\n",
       "    .dataframe thead th {\n",
       "        text-align: right;\n",
       "    }\n",
       "</style>\n",
       "<table border=\"1\" class=\"dataframe\">\n",
       "  <thead>\n",
       "    <tr style=\"text-align: right;\">\n",
       "      <th></th>\n",
       "      <th>0</th>\n",
       "      <th>1</th>\n",
       "    </tr>\n",
       "  </thead>\n",
       "  <tbody>\n",
       "    <tr>\n",
       "      <td>0</td>\n",
       "      <td>0.0</td>\n",
       "      <td>0.0</td>\n",
       "    </tr>\n",
       "    <tr>\n",
       "      <td>1</td>\n",
       "      <td>0.0</td>\n",
       "      <td>0.0</td>\n",
       "    </tr>\n",
       "    <tr>\n",
       "      <td>2</td>\n",
       "      <td>0.0</td>\n",
       "      <td>0.0</td>\n",
       "    </tr>\n",
       "    <tr>\n",
       "      <td>3</td>\n",
       "      <td>0.0</td>\n",
       "      <td>0.0</td>\n",
       "    </tr>\n",
       "    <tr>\n",
       "      <td>4</td>\n",
       "      <td>0.0</td>\n",
       "      <td>0.0</td>\n",
       "    </tr>\n",
       "  </tbody>\n",
       "</table>\n",
       "</div>"
      ],
      "text/plain": [
       "     0    1\n",
       "0  0.0  0.0\n",
       "1  0.0  0.0\n",
       "2  0.0  0.0\n",
       "3  0.0  0.0\n",
       "4  0.0  0.0"
      ]
     },
     "execution_count": 44,
     "metadata": {},
     "output_type": "execute_result"
    }
   ],
   "source": [
    "wave_pd.head()"
   ]
  },
  {
   "cell_type": "code",
   "execution_count": null,
   "metadata": {},
   "outputs": [],
   "source": [
    "sf.read()"
   ]
  },
  {
   "cell_type": "code",
   "execution_count": 63,
   "metadata": {},
   "outputs": [
    {
     "name": "stdin",
     "output_type": "stream",
     "text": [
      " 4\n"
     ]
    },
    {
     "name": "stdout",
     "output_type": "stream",
     "text": [
      "4\n"
     ]
    }
   ],
   "source": [
    "def d(num):\n",
    "    if(num%2==0): return num/2\n",
    "    else: return num*3 + 1\n",
    "\n",
    "s = int(input())\n",
    "nextn = d(s)\n",
    "nums = set()\n",
    "nums.add(nextn)\n",
    "res = 3\n",
    "\n",
    "while(1):\n",
    "    nextn = d(nextn)\n",
    "    if(nextn in nums):break\n",
    "    else: \n",
    "        res += 1\n",
    "        nums.add(nextn)\n",
    "if(s in [1, 2, 4]): print(4)\n",
    "else: print(res)"
   ]
  },
  {
   "cell_type": "code",
   "execution_count": 14,
   "metadata": {},
   "outputs": [
    {
     "name": "stdin",
     "output_type": "stream",
     "text": [
      " 6\n",
      " khabarovsk 20\n",
      " moscow 10\n",
      " kazan 50\n",
      " kazan 35\n",
      " moscow 60\n",
      " khabarovsk 40\n"
     ]
    },
    {
     "name": "stdout",
     "output_type": "stream",
     "text": [
      "4\n",
      "3\n",
      "1\n",
      "6\n",
      "2\n",
      "5\n"
     ]
    }
   ],
   "source": [
    "n = int(input())\n",
    "guide = []\n",
    "for i in range(n):\n",
    "    s, p = input().split()\n",
    "    guide.append([s, int(p), i+1])\n",
    "\n",
    "for g in sorted(sorted(guide, key = lambda x: x[1], reverse = True), key = lambda x: x[0]):\n",
    "    print(g[2])"
   ]
  },
  {
   "cell_type": "code",
   "execution_count": 13,
   "metadata": {},
   "outputs": [
    {
     "data": {
      "text/plain": [
       "[['kazan', 50, 2],\n",
       " ['kazan', 35, 3],\n",
       " ['khabarovsk', 40, 5],\n",
       " ['khabarovsk', 20, 0],\n",
       " ['moscow', 60, 4],\n",
       " ['moscow', 10, 1]]"
      ]
     },
     "execution_count": 13,
     "metadata": {},
     "output_type": "execute_result"
    }
   ],
   "source": [
    "sorted(sorted(guide, key = lambda x: x[1], reverse = True), key = lambda x: x[0])"
   ]
  },
  {
   "cell_type": "code",
   "execution_count": 18,
   "metadata": {},
   "outputs": [
    {
     "data": {
      "text/plain": [
       "1"
      ]
     },
     "execution_count": 18,
     "metadata": {},
     "output_type": "execute_result"
    }
   ],
   "source": [
    "c = 'b'\n",
    "ord(c) - ord('a')"
   ]
  },
  {
   "cell_type": "code",
   "execution_count": 21,
   "metadata": {},
   "outputs": [
    {
     "name": "stdin",
     "output_type": "stream",
     "text": [
      " 5\n",
      " abaaaaaaaa\n",
      " oneplustwo\n",
      " aaaaaaaaba\n",
      " twoplusone\n",
      " aaaabaaaaa\n"
     ]
    },
    {
     "name": "stdout",
     "output_type": "stream",
     "text": [
      "4\n"
     ]
    }
   ],
   "source": [
    "n = int(input())\n",
    "#bucket = [[0 for _ in range(26)] for _ in range(n)]\n",
    "ana_map = {}\n",
    "for i in range(n):\n",
    "    s = input()\n",
    "    bucket = [0 for _ in range(26)]\n",
    "    \n",
    "    for c in s:\n",
    "        bucket[ord(c) - ord('a')] += 1\n",
    "    \n",
    "    if(ana_map.get(str(bucket)) is None): ana_map[str(bucket)] = 1\n",
    "    else: ana_map[str(bucket)] += 1\n",
    "\n",
    "res = 0\n",
    "for key in ana_map.keys():\n",
    "    res += ana_map[key] * (ana_map[key]-1) / 2\n",
    "print(int(res))"
   ]
  },
  {
   "cell_type": "code",
   "execution_count": 22,
   "metadata": {},
   "outputs": [
    {
     "data": {
      "text/plain": [
       "{'[9, 1, 0, 0, 0, 0, 0, 0, 0, 0, 0, 0, 0, 0, 0, 0, 0, 0, 0, 0, 0, 0, 0, 0, 0, 0]': 3,\n",
       " '[0, 0, 0, 0, 1, 0, 0, 0, 0, 0, 0, 1, 0, 1, 2, 1, 0, 0, 1, 1, 1, 0, 1, 0, 0, 0]': 2}"
      ]
     },
     "execution_count": 22,
     "metadata": {},
     "output_type": "execute_result"
    }
   ],
   "source": [
    "ana_map"
   ]
  },
  {
   "cell_type": "code",
   "execution_count": 24,
   "metadata": {},
   "outputs": [
    {
     "ename": "KeyboardInterrupt",
     "evalue": "",
     "output_type": "error",
     "traceback": [
      "\u001b[0;31m---------------------------------------------------------------------------\u001b[0m",
      "\u001b[0;31mKeyboardInterrupt\u001b[0m                         Traceback (most recent call last)",
      "\u001b[0;32m<ipython-input-24-93f025607015>\u001b[0m in \u001b[0;36m<module>\u001b[0;34m\u001b[0m\n\u001b[1;32m      2\u001b[0m \u001b[0mres\u001b[0m \u001b[0;34m=\u001b[0m \u001b[0mn\u001b[0m\u001b[0;34m\u001b[0m\u001b[0;34m\u001b[0m\u001b[0m\n\u001b[1;32m      3\u001b[0m \u001b[0;32mwhile\u001b[0m\u001b[0;34m(\u001b[0m\u001b[0mres\u001b[0m\u001b[0;34m>\u001b[0m\u001b[0;36m1\u001b[0m\u001b[0;34m)\u001b[0m\u001b[0;34m:\u001b[0m\u001b[0;34m\u001b[0m\u001b[0;34m\u001b[0m\u001b[0m\n\u001b[0;32m----> 4\u001b[0;31m     \u001b[0mres\u001b[0m \u001b[0;34m*=\u001b[0m \u001b[0mres\u001b[0m\u001b[0;34m-\u001b[0m\u001b[0;36m2\u001b[0m\u001b[0;34m\u001b[0m\u001b[0;34m\u001b[0m\u001b[0m\n\u001b[0m\u001b[1;32m      5\u001b[0m     \u001b[0mres\u001b[0m \u001b[0;34m-=\u001b[0m \u001b[0;36m2\u001b[0m\u001b[0;34m\u001b[0m\u001b[0;34m\u001b[0m\u001b[0m\n\u001b[1;32m      6\u001b[0m \u001b[0mres\u001b[0m\u001b[0;34m\u001b[0m\u001b[0;34m\u001b[0m\u001b[0m\n",
      "\u001b[0;31mKeyboardInterrupt\u001b[0m: "
     ]
    }
   ],
   "source": [
    "n = 10\n",
    "res = n\n",
    "while(res>1):\n",
    "    res *= res-2\n",
    "    res -= 2\n",
    "res"
   ]
  },
  {
   "cell_type": "code",
   "execution_count": 25,
   "metadata": {},
   "outputs": [
    {
     "data": {
      "text/plain": [
       "8136038400"
      ]
     },
     "execution_count": 25,
     "metadata": {},
     "output_type": "execute_result"
    }
   ],
   "source": [
    "100 * 98 * 96 * 94 * 92"
   ]
  },
  {
   "cell_type": "code",
   "execution_count": 26,
   "metadata": {},
   "outputs": [
    {
     "data": {
      "text/plain": [
       "64437424128000"
      ]
     },
     "execution_count": 26,
     "metadata": {},
     "output_type": "execute_result"
    }
   ],
   "source": [
    "100 * 98 * 96 * 94 * 92 * 90 * 88"
   ]
  },
  {
   "cell_type": "code",
   "execution_count": 133,
   "metadata": {},
   "outputs": [
    {
     "name": "stdout",
     "output_type": "stream",
     "text": [
      "5 200000000000000000\n",
      "25 40000000000000000\n",
      "125 8000000000000000\n",
      "625 1600000000000000\n",
      "3125 320000000000000\n",
      "15625 64000000000000\n",
      "78125 12800000000000\n",
      "390625 2560000000000\n",
      "1953125 512000000000\n",
      "9765625 102400000000\n",
      "48828125 20480000000\n",
      "244140625 4096000000\n",
      "1220703125 819200000\n",
      "6103515625 163840000\n",
      "30517578125 32768000\n",
      "152587890625 6553600\n",
      "762939453125 1310720\n",
      "3814697265625 262144\n",
      "19073486328125 52428\n",
      "95367431640625 10485\n",
      "476837158203125 2097\n",
      "2384185791015625 419\n",
      "11920928955078125 83\n",
      "59604644775390625 16\n",
      "298023223876953125 3\n",
      "1490116119384765625 0\n",
      "10 100000000000000000\n",
      "100 10000000000000000\n",
      "1000 1000000000000000\n",
      "10000 100000000000000\n",
      "100000 10000000000000\n",
      "1000000 1000000000000\n",
      "10000000 100000000000\n",
      "100000000 10000000000\n",
      "1000000000 1000000000\n",
      "10000000000 100000000\n",
      "100000000000 10000000\n",
      "1000000000000 1000000\n",
      "10000000000000 100000\n",
      "100000000000000 10000\n",
      "1000000000000000 1000\n",
      "10000000000000000 100\n",
      "100000000000000000 10\n",
      "1000000000000000000 1\n",
      "10000000000000000000 0\n",
      "50 14000000000000000\n",
      "2500 280000000000000\n",
      "125000 5600000000000\n",
      "6250000 112000000000\n",
      "312500000 2240000000\n",
      "15625000000 44800000\n",
      "781250000000 896000\n",
      "39062500000000 17920\n",
      "1953125000000000 359\n",
      "97656250000000000 7\n",
      "4882812500000000000 0\n"
     ]
    },
    {
     "data": {
      "text/plain": [
       "249999999999999995"
      ]
     },
     "execution_count": 133,
     "metadata": {},
     "output_type": "execute_result"
    }
   ],
   "source": [
    "n = 1000000000000000000\n",
    "res = 0\n",
    "\n",
    "for i in range(1, 27):\n",
    "    bottom5 = 5 ** i\n",
    "    res += n//bottom5\n",
    "    print(bottom5, n//bottom5)\n",
    "\n",
    "for i in range(1, 20):\n",
    "    bottom10 = 10 ** i\n",
    "    #res += n//bottom10\n",
    "    print(bottom10, n//bottom10)\n",
    "\n",
    "for i in range(1, 12):\n",
    "    bottom50 = 50 ** i\n",
    "#     res += n//bottom50\n",
    "#     for j in range(1, 12):\n",
    "#          res -= n//(bottom50*(j*5))\n",
    "    print(bottom50, n//bottom50 - (n//(bottom50*5)) - (n//(bottom50*10)))\n",
    "\n",
    "res"
   ]
  },
  {
   "cell_type": "code",
   "execution_count": 87,
   "metadata": {},
   "outputs": [],
   "source": [
    "def double_fac(n):\n",
    "    res = n\n",
    "    while 1:\n",
    "        if(n<=2):break\n",
    "        res *= n-2\n",
    "        n -= 2\n",
    "        #print(n, res)\n",
    "    return res"
   ]
  },
  {
   "cell_type": "code",
   "execution_count": 126,
   "metadata": {},
   "outputs": [
    {
     "name": "stdout",
     "output_type": "stream",
     "text": [
      "12\n"
     ]
    }
   ],
   "source": [
    "n=100\n",
    "\n",
    "cnt = 0\n",
    "for s in str(double_fac(n))[::-1]:\n",
    "    if s == '0': cnt+= 1\n",
    "    else: break\n",
    "print(cnt)"
   ]
  },
  {
   "cell_type": "code",
   "execution_count": 134,
   "metadata": {},
   "outputs": [],
   "source": [
    "#double_fac(248)"
   ]
  },
  {
   "cell_type": "code",
   "execution_count": 135,
   "metadata": {},
   "outputs": [],
   "source": [
    "def gcd(a, b):\n",
    "    while(a%b != 0):\n",
    "        tmp = b\n",
    "        b = a%b\n",
    "        a = tmp\n",
    "    return b"
   ]
  },
  {
   "cell_type": "code",
   "execution_count": 141,
   "metadata": {},
   "outputs": [
    {
     "data": {
      "text/plain": [
       "6"
      ]
     },
     "execution_count": 141,
     "metadata": {},
     "output_type": "execute_result"
    }
   ],
   "source": [
    "gcd(gcd(12, 18), 18)"
   ]
  },
  {
   "cell_type": "code",
   "execution_count": 143,
   "metadata": {},
   "outputs": [
    {
     "data": {
      "text/plain": [
       "12"
      ]
     },
     "execution_count": 143,
     "metadata": {},
     "output_type": "execute_result"
    }
   ],
   "source": [
    "gcd(0, 12)"
   ]
  },
  {
   "cell_type": "code",
   "execution_count": 144,
   "metadata": {},
   "outputs": [
    {
     "data": {
      "text/plain": [
       "'te'"
      ]
     },
     "execution_count": 144,
     "metadata": {},
     "output_type": "execute_result"
    }
   ],
   "source": [
    "'test'[:2]"
   ]
  },
  {
   "cell_type": "code",
   "execution_count": 149,
   "metadata": {},
   "outputs": [
    {
     "name": "stdin",
     "output_type": "stream",
     "text": [
      " 8 3\n",
      " ACACTACG\n",
      " 3 7\n"
     ]
    },
    {
     "name": "stdout",
     "output_type": "stream",
     "text": [
      "2\n"
     ]
    },
    {
     "name": "stdin",
     "output_type": "stream",
     "text": [
      " 2 3\n"
     ]
    },
    {
     "name": "stdout",
     "output_type": "stream",
     "text": [
      "0\n"
     ]
    },
    {
     "name": "stdin",
     "output_type": "stream",
     "text": [
      " 1 8\n"
     ]
    },
    {
     "name": "stdout",
     "output_type": "stream",
     "text": [
      "3\n"
     ]
    }
   ],
   "source": [
    "n, q = map(int, input().split())\n",
    "s = input()\n",
    "dp = [0 for _ in range(len(s))]\n",
    "\n",
    "for i in range(1, len(s)):\n",
    "    if(s[i-1: i+1] == 'AC'): dp[i] = dp[i-1] + 1\n",
    "    else: dp[i] = dp[i-1]\n",
    "\n",
    "for _ in range(q):\n",
    "    l, r = map(int, input().split())\n",
    "    print(dp[r-1] - dp[l-1])"
   ]
  },
  {
   "cell_type": "code",
   "execution_count": 146,
   "metadata": {},
   "outputs": [
    {
     "data": {
      "text/plain": [
       "'CA'"
      ]
     },
     "execution_count": 146,
     "metadata": {},
     "output_type": "execute_result"
    }
   ],
   "source": [
    "s[1: 3]"
   ]
  },
  {
   "cell_type": "code",
   "execution_count": 1,
   "metadata": {},
   "outputs": [
    {
     "data": {
      "text/plain": [
       "True"
      ]
     },
     "execution_count": 1,
     "metadata": {},
     "output_type": "execute_result"
    }
   ],
   "source": [
    "'A' < 'B'"
   ]
  },
  {
   "cell_type": "code",
   "execution_count": 2,
   "metadata": {},
   "outputs": [
    {
     "data": {
      "text/plain": [
       "False"
      ]
     },
     "execution_count": 2,
     "metadata": {},
     "output_type": "execute_result"
    }
   ],
   "source": [
    "'A' > 'B'"
   ]
  },
  {
   "cell_type": "code",
   "execution_count": 4,
   "metadata": {},
   "outputs": [
    {
     "data": {
      "text/plain": [
       "True"
      ]
     },
     "execution_count": 4,
     "metadata": {},
     "output_type": "execute_result"
    }
   ],
   "source": [
    "'A' == 'A'"
   ]
  },
  {
   "cell_type": "code",
   "execution_count": 5,
   "metadata": {},
   "outputs": [
    {
     "ename": "TypeError",
     "evalue": "an integer is required (got type str)",
     "output_type": "error",
     "traceback": [
      "\u001b[0;31m---------------------------------------------------------------------------\u001b[0m",
      "\u001b[0;31mTypeError\u001b[0m                                 Traceback (most recent call last)",
      "\u001b[0;32m<ipython-input-5-f75cfc1bae01>\u001b[0m in \u001b[0;36m<module>\u001b[0;34m\u001b[0m\n\u001b[0;32m----> 1\u001b[0;31m \u001b[0mchr\u001b[0m\u001b[0;34m(\u001b[0m\u001b[0;34m'A'\u001b[0m\u001b[0;34m)\u001b[0m\u001b[0;34m\u001b[0m\u001b[0;34m\u001b[0m\u001b[0m\n\u001b[0m",
      "\u001b[0;31mTypeError\u001b[0m: an integer is required (got type str)"
     ]
    }
   ],
   "source": [
    "('A')"
   ]
  },
  {
   "cell_type": "code",
   "execution_count": 8,
   "metadata": {},
   "outputs": [
    {
     "data": {
      "text/plain": [
       "'L'"
      ]
     },
     "execution_count": 8,
     "metadata": {},
     "output_type": "execute_result"
    }
   ],
   "source": [
    "chr(66 + 10) "
   ]
  },
  {
   "cell_type": "code",
   "execution_count": 10,
   "metadata": {},
   "outputs": [
    {
     "data": {
      "text/plain": [
       "'K'"
      ]
     },
     "execution_count": 10,
     "metadata": {},
     "output_type": "execute_result"
    }
   ],
   "source": [
    "chr(ord('A') + 10)"
   ]
  },
  {
   "cell_type": "code",
   "execution_count": 13,
   "metadata": {},
   "outputs": [
    {
     "name": "stdin",
     "output_type": "stream",
     "text": [
      " F F\n"
     ]
    },
    {
     "name": "stdout",
     "output_type": "stream",
     "text": [
      "=\n"
     ]
    }
   ],
   "source": [
    "x, y = input().split()\n",
    "\n",
    "if(x<=y):\n",
    "    if(x==y): print(\"=\")\n",
    "    else: print(\"<\")\n",
    "else: print(\">\")"
   ]
  },
  {
   "cell_type": "code",
   "execution_count": 19,
   "metadata": {},
   "outputs": [
    {
     "name": "stdin",
     "output_type": "stream",
     "text": [
      " 64145 123 456\n"
     ]
    },
    {
     "name": "stdout",
     "output_type": "stream",
     "text": [
      "109\n"
     ]
    }
   ],
   "source": [
    "x, y, z = map(int, input().split())\n",
    "res = (x-z) // (y+z)\n",
    "print(res)"
   ]
  },
  {
   "cell_type": "code",
   "execution_count": 24,
   "metadata": {},
   "outputs": [
    {
     "name": "stdin",
     "output_type": "stream",
     "text": [
      " akasakaakasakasakaakas\n"
     ]
    },
    {
     "name": "stdout",
     "output_type": "stream",
     "text": [
      "14\n"
     ]
    }
   ],
   "source": [
    "s = list(input())\n",
    "\n",
    "s.pop()\n",
    "\n",
    "while(1):\n",
    "    l = len(s)//2\n",
    "    if(s[:l] == s[l:]): break\n",
    "    s.pop()\n",
    "\n",
    "print(len(s))"
   ]
  },
  {
   "cell_type": "code",
   "execution_count": 33,
   "metadata": {},
   "outputs": [
    {
     "name": "stdin",
     "output_type": "stream",
     "text": [
      " xxxx\n"
     ]
    },
    {
     "name": "stdout",
     "output_type": "stream",
     "text": [
      "2\n"
     ]
    }
   ],
   "source": [
    "def is_ss(s):\n",
    "    if(len(s)%2): return False\n",
    "    \n",
    "    l = int(len(s)/2)\n",
    "    for i in range(l):\n",
    "        if(s[i] != s[i+l]): return False\n",
    "    \n",
    "    return True\n",
    "\n",
    "s = input()\n",
    "\n",
    "res = len(s)-1\n",
    "for i in range(1, len(s)):\n",
    "    substr = s[:len(s)-i]\n",
    "    \n",
    "    if(is_ss(substr)):break\n",
    "    else: res -= 1\n",
    "print(res)  "
   ]
  },
  {
   "cell_type": "code",
   "execution_count": 28,
   "metadata": {},
   "outputs": [
    {
     "data": {
      "text/plain": [
       "'te'"
      ]
     },
     "execution_count": 28,
     "metadata": {},
     "output_type": "execute_result"
    }
   ],
   "source": [
    "s='test'\n",
    "s[:len(s)-2]"
   ]
  },
  {
   "cell_type": "code",
   "execution_count": 30,
   "metadata": {},
   "outputs": [
    {
     "data": {
      "text/plain": [
       "22"
      ]
     },
     "execution_count": 30,
     "metadata": {},
     "output_type": "execute_result"
    }
   ],
   "source": [
    "len('akasakaakasakasakaakas')"
   ]
  },
  {
   "cell_type": "code",
   "execution_count": 41,
   "metadata": {},
   "outputs": [
    {
     "name": "stdin",
     "output_type": "stream",
     "text": [
      " 6\n",
      " 2 7 1 8 2 8\n"
     ]
    },
    {
     "name": "stdout",
     "output_type": "stream",
     "text": [
      "Yes\n"
     ]
    }
   ],
   "source": [
    "n = int(input())\n",
    "A = list(map(int, input().split()))\n",
    "\n",
    "odd = 0\n",
    "two = 0\n",
    "four = 0\n",
    "\n",
    "for a in A:\n",
    "    if(a%2): odd += 1\n",
    "    else:\n",
    "        if(a%4==0):four+=1\n",
    "        else: two += 1\n",
    "\n",
    "\n",
    "if(two):\n",
    "    if(odd<=four): print(\"Yes\")\n",
    "    else: print(\"No\")\n",
    "\n",
    "else:\n",
    "    if(odd-1<=four): print(\"Yes\")\n",
    "    else: print(\"No\")"
   ]
  },
  {
   "cell_type": "code",
   "execution_count": 43,
   "metadata": {},
   "outputs": [
    {
     "name": "stdin",
     "output_type": "stream",
     "text": [
      " hello\n",
      " 10\n"
     ]
    },
    {
     "name": "stdout",
     "output_type": "stream",
     "text": [
      "0\n"
     ]
    }
   ],
   "source": [
    "s = input()\n",
    "k = int(input())\n",
    "\n",
    "cand_keys = set()\n",
    "for i in range(len(s) - k + 1):\n",
    "    cand_keys.add(s[i: i+k])\n",
    "print(len(cand_keys))"
   ]
  },
  {
   "cell_type": "code",
   "execution_count": 45,
   "metadata": {},
   "outputs": [
    {
     "name": "stdin",
     "output_type": "stream",
     "text": [
      " a a\n"
     ]
    },
    {
     "name": "stdout",
     "output_type": "stream",
     "text": [
      "aa\n"
     ]
    }
   ],
   "source": [
    "s, t = input().split()\n",
    "print(t+s)"
   ]
  },
  {
   "cell_type": "code",
   "execution_count": 47,
   "metadata": {},
   "outputs": [
    {
     "name": "stdin",
     "output_type": "stream",
     "text": [
      " 500000000000 500000000000 1000000000000\n"
     ]
    },
    {
     "name": "stdout",
     "output_type": "stream",
     "text": [
      "0 0\n"
     ]
    }
   ],
   "source": [
    "a, b, k = map(int, input().split())\n",
    "\n",
    "takahashi = a\n",
    "aoki = b\n",
    "\n",
    "if(a<k):\n",
    "    takahashi = 0\n",
    "    if(b<k-a):\n",
    "        aoki = 0\n",
    "    else:\n",
    "        aoki = a+b-k\n",
    "else:\n",
    "    takahashi = a-k\n",
    "print(takahashi, aoki)"
   ]
  },
  {
   "cell_type": "code",
   "execution_count": 48,
   "metadata": {},
   "outputs": [
    {
     "name": "stdin",
     "output_type": "stream",
     "text": [
      " 7 1\n",
      " 100 10 1\n",
      " ssssppr\n"
     ]
    }
   ],
   "source": [
    "n, k = map(int, input().split())\n",
    "r, s, p = map(int, input().split())\n",
    "t = input()\n",
    "road = [[0 for _ in range(3)] for _ in range(len(t))]"
   ]
  },
  {
   "cell_type": "code",
   "execution_count": 51,
   "metadata": {},
   "outputs": [
    {
     "data": {
      "text/plain": [
       "[[0, 0, 0], [0, 0, 0], [0, 0, 0], [0, 0, 0], [0, 0, 0], [0, 0, 0], [0, 0, 0]]"
      ]
     },
     "execution_count": 51,
     "metadata": {},
     "output_type": "execute_result"
    }
   ],
   "source": [
    "road"
   ]
  },
  {
   "cell_type": "code",
   "execution_count": 67,
   "metadata": {},
   "outputs": [],
   "source": [
    "n, k = 7, 1\n",
    "r, s, p = 100, 10, 1\n",
    "t = 'ssssppr'\n",
    "\n",
    "for i in range(len(t)):\n",
    "    if(t[i]=='r'):road[i][2] = p\n",
    "    if(t[i]=='s'):road[i][0] = r\n",
    "    if(t[i]=='p'):road[i][1] = s\n",
    "\n",
    "dp = [[0 for _ in range(3)] for _ in range(len(t))]\n",
    "choice = [[0 for _ in range(3)] for _ in range(len(t))]\n",
    "\n",
    "dp[0][0] = [road[0][0], 0]\n",
    "dp[0][1] = [road[0][1], 1]\n",
    "dp[0][2] = [road[0][2], 2]"
   ]
  },
  {
   "cell_type": "code",
   "execution_count": 95,
   "metadata": {},
   "outputs": [
    {
     "name": "stdin",
     "output_type": "stream",
     "text": [
      " 5 2\n",
      " 8 7 6\n",
      " rsrpr\n"
     ]
    },
    {
     "name": "stdout",
     "output_type": "stream",
     "text": [
      "33\n"
     ]
    }
   ],
   "source": [
    "n, k = map(int, input().split())\n",
    "r, s, p = map(int, input().split())\n",
    "t = input()\n",
    "road = [[0 for _ in range(3)] for _ in range(len(t))]\n",
    "\n",
    "for i in range(len(t)):\n",
    "    if(t[i]=='r'):road[i][2] = p\n",
    "    if(t[i]=='s'):road[i][0] = r\n",
    "    if(t[i]=='p'):road[i][1] = s\n",
    "\n",
    "dp = [[0 for _ in range(3)] for _ in range(len(t))]\n",
    "\n",
    "dp[0][0] = [road[0][0], 0]\n",
    "dp[0][1] = [road[0][1], 1]\n",
    "dp[0][2] = [road[0][2], 2]\n",
    "\n",
    "\n",
    "for i in range(1, len(t)):\n",
    "    \n",
    "    if(i>=k):\n",
    "        tmp0 = [(1-int(dp[i-k][0][1]==0))*(dp[i-1][0][0]+road[i][0]), dp[i-1][1][0]+road[i][0], dp[i-1][2][0]+road[i][0]]\n",
    "        idx0 = tmp0.index(max(tmp0))\n",
    "        dp[i][0] = [max(tmp0), idx0]\n",
    "        \n",
    "        tmp1 = [dp[i-1][0][0]+road[i][1], (1-int(dp[i-k][1][1]==1))*(dp[i-1][1][0]+road[i][1]), dp[i-1][2][0]+road[i][1]]\n",
    "        idx1 = tmp1.index(max(tmp1))\n",
    "        dp[i][1] = [max(tmp1), 1]\n",
    "        \n",
    "        tmp2 = [dp[i-1][0][0]+road[i][2], dp[i-1][1][0]+road[i][2], (1-int(dp[i-k][2][1]==2))*(dp[i-1][2][0]+road[i][2])]\n",
    "        idx2 = tmp2.index(max(tmp2))\n",
    "        dp[i][2] = [max(tmp2), 2]\n",
    "    else:\n",
    "        tmp0 = [dp[i-1][0][0]+road[i][0], dp[i-1][1][0]+road[i][0], dp[i-1][2][0]+road[i][0]]\n",
    "        idx0 = tmp0.index(max(tmp0))\n",
    "        dp[i][0] = [max(tmp0), idx0]\n",
    "        \n",
    "        tmp1 = [dp[i-1][0][0]+road[i][1], dp[i-1][1][0]+road[i][1], dp[i-1][2][0]+road[i][1]]\n",
    "        idx1 = tmp1.index(max(tmp1))\n",
    "        dp[i][1] = [max(tmp1), 1]\n",
    "        \n",
    "        tmp2 = [dp[i-1][0][0]+road[i][2], dp[i-1][1][0]+road[i][2], dp[i-1][2][0]+road[i][2]]\n",
    "        idx2 = tmp2.index(max(tmp2))\n",
    "        dp[i][2] = [max(tmp2), 2]\n",
    "        \n",
    "print(max(dp[-1])[0])"
   ]
  },
  {
   "cell_type": "code",
   "execution_count": 97,
   "metadata": {},
   "outputs": [
    {
     "name": "stdout",
     "output_type": "stream",
     "text": [
      "[0, 0, 6]\n",
      "[8, 0, 0]\n",
      "[0, 0, 6]\n",
      "[0, 7, 0]\n",
      "[0, 0, 6]\n"
     ]
    }
   ],
   "source": [
    "for ele in road:\n",
    "    print(ele)"
   ]
  },
  {
   "cell_type": "code",
   "execution_count": 96,
   "metadata": {},
   "outputs": [
    {
     "data": {
      "text/plain": [
       "[[[0, 0], [0, 1], [6, 2]],\n",
       " [[14, 2], [6, 1], [6, 2]],\n",
       " [[6, 1], [14, 1], [20, 2]],\n",
       " [[20, 2], [27, 1], [14, 2]],\n",
       " [[27, 1], [20, 1], [33, 2]]]"
      ]
     },
     "execution_count": 96,
     "metadata": {},
     "output_type": "execute_result"
    }
   ],
   "source": [
    "dp"
   ]
  },
  {
   "cell_type": "code",
   "execution_count": 69,
   "metadata": {},
   "outputs": [],
   "source": [
    "i = 1\n",
    "dp[i][0] = max([(1-int(dp[i-k][0][1]==0))*(dp[i-1][0][0]+road[i][0]), dp[i-1][1][0]+road[i][0], dp[i-1][2][0]+road[i][0]])"
   ]
  },
  {
   "cell_type": "code",
   "execution_count": null,
   "metadata": {},
   "outputs": [],
   "source": []
  },
  {
   "cell_type": "code",
   "execution_count": 70,
   "metadata": {},
   "outputs": [
    {
     "data": {
      "text/plain": [
       "[[[100, 0], [0, 1], [0, 2]],\n",
       " [100, 0, 0],\n",
       " [0, 0, 0],\n",
       " [0, 0, 0],\n",
       " [0, 0, 0],\n",
       " [0, 0, 0],\n",
       " [0, 0, 0]]"
      ]
     },
     "execution_count": 70,
     "metadata": {},
     "output_type": "execute_result"
    }
   ],
   "source": [
    "dp"
   ]
  },
  {
   "cell_type": "code",
   "execution_count": 81,
   "metadata": {},
   "outputs": [],
   "source": [
    "dp = [[0 for _ in range(3)] for _ in range(len(t))]\n",
    "isconf = [[False for _ in range(3)] for _ in range(len(t))]\n",
    "\n",
    "dp[0][0] = [road[0][0], 0]\n",
    "dp[0][1] = [road[0][1], 1]\n",
    "dp[0][2] = [road[0][2], 2]\n",
    "\n",
    "isconf[0][0] = True\n",
    "isconf[0][1] = True\n",
    "isconf[0][2] = True"
   ]
  },
  {
   "cell_type": "code",
   "execution_count": 90,
   "metadata": {},
   "outputs": [
    {
     "data": {
      "text/plain": [
       "True"
      ]
     },
     "execution_count": 90,
     "metadata": {},
     "output_type": "execute_result"
    }
   ],
   "source": [
    "any(isconf)"
   ]
  },
  {
   "cell_type": "code",
   "execution_count": 85,
   "metadata": {},
   "outputs": [
    {
     "data": {
      "text/plain": [
       "3"
      ]
     },
     "execution_count": 85,
     "metadata": {},
     "output_type": "execute_result"
    }
   ],
   "source": [
    "sum(isconf[0])"
   ]
  },
  {
   "cell_type": "code",
   "execution_count": 93,
   "metadata": {},
   "outputs": [
    {
     "data": {
      "text/plain": [
       "2"
      ]
     },
     "execution_count": 93,
     "metadata": {},
     "output_type": "execute_result"
    }
   ],
   "source": [
    "test = [2, 1, 3]\n",
    "test.index(max(test))"
   ]
  },
  {
   "cell_type": "code",
   "execution_count": 103,
   "metadata": {},
   "outputs": [
    {
     "name": "stdin",
     "output_type": "stream",
     "text": [
      " 5 2\n",
      " 8 7 6\n",
      " rsrpr\n"
     ]
    },
    {
     "name": "stdout",
     "output_type": "stream",
     "text": [
      "1\n",
      "2\n",
      "3\n"
     ]
    },
    {
     "ename": "TypeError",
     "evalue": "'int' object is not subscriptable",
     "output_type": "error",
     "traceback": [
      "\u001b[0;31m---------------------------------------------------------------------------\u001b[0m",
      "\u001b[0;31mTypeError\u001b[0m                                 Traceback (most recent call last)",
      "\u001b[0;32m<ipython-input-103-e1c9dd57bbb3>\u001b[0m in \u001b[0;36m<module>\u001b[0;34m\u001b[0m\n\u001b[1;32m     22\u001b[0m         \u001b[0;32mif\u001b[0m\u001b[0;34m(\u001b[0m\u001b[0mdp\u001b[0m\u001b[0;34m[\u001b[0m\u001b[0mi\u001b[0m\u001b[0;34m-\u001b[0m\u001b[0mk\u001b[0m\u001b[0;34m]\u001b[0m\u001b[0;34m[\u001b[0m\u001b[0;36m0\u001b[0m\u001b[0;34m]\u001b[0m\u001b[0;34m[\u001b[0m\u001b[0;36m1\u001b[0m\u001b[0;34m]\u001b[0m\u001b[0;34m==\u001b[0m\u001b[0;36m0\u001b[0m\u001b[0;34m)\u001b[0m\u001b[0;34m:\u001b[0m\u001b[0;32mpass\u001b[0m\u001b[0;34m\u001b[0m\u001b[0;34m\u001b[0m\u001b[0m\n\u001b[1;32m     23\u001b[0m         \u001b[0;32melse\u001b[0m\u001b[0;34m:\u001b[0m\u001b[0;34m\u001b[0m\u001b[0;34m\u001b[0m\u001b[0m\n\u001b[0;32m---> 24\u001b[0;31m             \u001b[0mtmp0\u001b[0m \u001b[0;34m=\u001b[0m \u001b[0;34m[\u001b[0m\u001b[0mdp\u001b[0m\u001b[0;34m[\u001b[0m\u001b[0mi\u001b[0m\u001b[0;34m-\u001b[0m\u001b[0;36m1\u001b[0m\u001b[0;34m]\u001b[0m\u001b[0;34m[\u001b[0m\u001b[0;36m0\u001b[0m\u001b[0;34m]\u001b[0m\u001b[0;34m[\u001b[0m\u001b[0;36m0\u001b[0m\u001b[0;34m]\u001b[0m\u001b[0;34m+\u001b[0m\u001b[0mroad\u001b[0m\u001b[0;34m[\u001b[0m\u001b[0mi\u001b[0m\u001b[0;34m]\u001b[0m\u001b[0;34m[\u001b[0m\u001b[0;36m0\u001b[0m\u001b[0;34m]\u001b[0m\u001b[0;34m,\u001b[0m \u001b[0mdp\u001b[0m\u001b[0;34m[\u001b[0m\u001b[0mi\u001b[0m\u001b[0;34m-\u001b[0m\u001b[0;36m1\u001b[0m\u001b[0;34m]\u001b[0m\u001b[0;34m[\u001b[0m\u001b[0;36m1\u001b[0m\u001b[0;34m]\u001b[0m\u001b[0;34m[\u001b[0m\u001b[0;36m0\u001b[0m\u001b[0;34m]\u001b[0m\u001b[0;34m+\u001b[0m\u001b[0mroad\u001b[0m\u001b[0;34m[\u001b[0m\u001b[0mi\u001b[0m\u001b[0;34m]\u001b[0m\u001b[0;34m[\u001b[0m\u001b[0;36m0\u001b[0m\u001b[0;34m]\u001b[0m\u001b[0;34m,\u001b[0m \u001b[0mdp\u001b[0m\u001b[0;34m[\u001b[0m\u001b[0mi\u001b[0m\u001b[0;34m-\u001b[0m\u001b[0;36m1\u001b[0m\u001b[0;34m]\u001b[0m\u001b[0;34m[\u001b[0m\u001b[0;36m2\u001b[0m\u001b[0;34m]\u001b[0m\u001b[0;34m[\u001b[0m\u001b[0;36m0\u001b[0m\u001b[0;34m]\u001b[0m\u001b[0;34m+\u001b[0m\u001b[0mroad\u001b[0m\u001b[0;34m[\u001b[0m\u001b[0mi\u001b[0m\u001b[0;34m]\u001b[0m\u001b[0;34m[\u001b[0m\u001b[0;36m0\u001b[0m\u001b[0;34m]\u001b[0m\u001b[0;34m]\u001b[0m\u001b[0;34m\u001b[0m\u001b[0;34m\u001b[0m\u001b[0m\n\u001b[0m\u001b[1;32m     25\u001b[0m             \u001b[0midx0\u001b[0m \u001b[0;34m=\u001b[0m \u001b[0mtmp0\u001b[0m\u001b[0;34m.\u001b[0m\u001b[0mindex\u001b[0m\u001b[0;34m(\u001b[0m\u001b[0mmax\u001b[0m\u001b[0;34m(\u001b[0m\u001b[0mtmp0\u001b[0m\u001b[0;34m)\u001b[0m\u001b[0;34m)\u001b[0m\u001b[0;34m\u001b[0m\u001b[0;34m\u001b[0m\u001b[0m\n\u001b[1;32m     26\u001b[0m             \u001b[0mdp\u001b[0m\u001b[0;34m[\u001b[0m\u001b[0mi\u001b[0m\u001b[0;34m]\u001b[0m\u001b[0;34m[\u001b[0m\u001b[0;36m0\u001b[0m\u001b[0;34m]\u001b[0m \u001b[0;34m=\u001b[0m \u001b[0;34m[\u001b[0m\u001b[0mmax\u001b[0m\u001b[0;34m(\u001b[0m\u001b[0mtmp0\u001b[0m\u001b[0;34m)\u001b[0m\u001b[0;34m,\u001b[0m \u001b[0midx0\u001b[0m\u001b[0;34m]\u001b[0m\u001b[0;34m\u001b[0m\u001b[0;34m\u001b[0m\u001b[0m\n",
      "\u001b[0;31mTypeError\u001b[0m: 'int' object is not subscriptable"
     ]
    }
   ],
   "source": [
    "n, k = map(int, input().split())\n",
    "r, s, p = map(int, input().split())\n",
    "t = input()\n",
    "road = [[0 for _ in range(3)] for _ in range(len(t))]\n",
    "\n",
    "for i in range(len(t)):\n",
    "    if(t[i]=='r'):road[i][2] = p\n",
    "    if(t[i]=='s'):road[i][0] = r\n",
    "    if(t[i]=='p'):road[i][1] = s\n",
    "\n",
    "dp = [[0 for _ in range(3)] for _ in range(len(t))]\n",
    "\n",
    "dp[0][0] = [road[0][0], 0]\n",
    "dp[0][1] = [road[0][1], 1]\n",
    "dp[0][2] = [road[0][2], 2]\n",
    "\n",
    "\n",
    "for i in range(1, len(t)):\n",
    "    print(i)\n",
    "    \n",
    "    if(i>=k):\n",
    "        if(dp[i-k][0][1]==0):pass\n",
    "        else:\n",
    "            tmp0 = [dp[i-1][0][0]+road[i][0], dp[i-1][1][0]+road[i][0], dp[i-1][2][0]+road[i][0]]\n",
    "            idx0 = tmp0.index(max(tmp0))\n",
    "            dp[i][0] = [max(tmp0), idx0]\n",
    "        \n",
    "        if(dp[i-k][1][1]==1): pass\n",
    "        else:\n",
    "            tmp1 = [dp[i-1][0][0]+road[i][1], dp[i-1][1][0]+road[i][1], dp[i-1][2][0]+road[i][1]]\n",
    "            idx1 = tmp1.index(max(tmp1))\n",
    "            dp[i][1] = [max(tmp1), 1]            \n",
    "        \n",
    "        \n",
    "        if(dp[i-k][2][1]==2): pass\n",
    "        else:\n",
    "            tmp2 = [dp[i-1][0][0]+road[i][2], dp[i-1][1][0]+road[i][2], dp[i-1][2][0]+road[i][2]]\n",
    "            idx2 = tmp2.index(max(tmp2))\n",
    "            dp[i][2] = [max(tmp2), 2]            \n",
    "        \n",
    "    else:\n",
    "        tmp0 = [dp[i-1][0][0]+road[i][0], dp[i-1][1][0]+road[i][0], dp[i-1][2][0]+road[i][0]]\n",
    "        idx0 = tmp0.index(max(tmp0))\n",
    "        dp[i][0] = [max(tmp0), idx0]\n",
    "        \n",
    "        tmp1 = [dp[i-1][0][0]+road[i][1], dp[i-1][1][0]+road[i][1], dp[i-1][2][0]+road[i][1]]\n",
    "        idx1 = tmp1.index(max(tmp1))\n",
    "        dp[i][1] = [max(tmp1), 1]\n",
    "        \n",
    "        tmp2 = [dp[i-1][0][0]+road[i][2], dp[i-1][1][0]+road[i][2], dp[i-1][2][0]+road[i][2]]\n",
    "        idx2 = tmp2.index(max(tmp2))\n",
    "        dp[i][2] = [max(tmp2), 2]\n",
    "        \n",
    "print(max(dp[-1])[0])"
   ]
  },
  {
   "cell_type": "code",
   "execution_count": 99,
   "metadata": {},
   "outputs": [
    {
     "data": {
      "text/plain": [
       "[8, 8, 14]"
      ]
     },
     "execution_count": 99,
     "metadata": {},
     "output_type": "execute_result"
    }
   ],
   "source": [
    "i = 1\n",
    "[dp[i-1][0][0]+road[i][0], dp[i-1][1][0]+road[i][0], dp[i-1][2][0]+road[i][0]]"
   ]
  },
  {
   "cell_type": "code",
   "execution_count": 102,
   "metadata": {},
   "outputs": [
    {
     "data": {
      "text/plain": [
       "[[[0, 0], [0, 1], [6, 2]],\n",
       " [[14, 2], [6, 1], [6, 2]],\n",
       " [0, 0, 0],\n",
       " [0, 0, 0],\n",
       " [0, 0, 0]]"
      ]
     },
     "execution_count": 102,
     "metadata": {},
     "output_type": "execute_result"
    }
   ],
   "source": [
    "dp"
   ]
  },
  {
   "cell_type": "code",
   "execution_count": 104,
   "metadata": {},
   "outputs": [
    {
     "name": "stdin",
     "output_type": "stream",
     "text": [
      " abcdef\n",
      " 2\n",
      " 3 5\n",
      " 1 4\n"
     ]
    }
   ],
   "source": [
    "s = input()\n",
    "n = int(input())\n",
    "\n",
    "lr = [list(map(int, input().split())) for _ in range(n)]\n",
    "           "
   ]
  },
  {
   "cell_type": "code",
   "execution_count": 105,
   "metadata": {},
   "outputs": [
    {
     "data": {
      "text/plain": [
       "[[3, 5], [1, 4]]"
      ]
     },
     "execution_count": 105,
     "metadata": {},
     "output_type": "execute_result"
    }
   ],
   "source": [
    "lr"
   ]
  },
  {
   "cell_type": "code",
   "execution_count": 129,
   "metadata": {},
   "outputs": [
    {
     "name": "stdout",
     "output_type": "stream",
     "text": [
      "atcoder\n"
     ]
    }
   ],
   "source": [
    "lr = [[1, 7], [1, 2], [3, 4]]\n",
    "s = 'redcoat'\n",
    "for l, r in lr:\n",
    "    \n",
    "    swapped = list(s)\n",
    "    for i in range(l-1, r):\n",
    "        swapped[i] = s[l+r-i-2]\n",
    "    s = ''.join(swapped)\n",
    "print(s)"
   ]
  },
  {
   "cell_type": "code",
   "execution_count": 1,
   "metadata": {},
   "outputs": [
    {
     "name": "stdin",
     "output_type": "stream",
     "text": [
      " 123\n"
     ]
    }
   ],
   "source": [
    "a = int(input())\n",
    "\n"
   ]
  },
  {
   "cell_type": "code",
   "execution_count": 2,
   "metadata": {},
   "outputs": [
    {
     "name": "stdin",
     "output_type": "stream",
     "text": [
      " testetset\n"
     ]
    }
   ],
   "source": [
    "test = input()"
   ]
  },
  {
   "cell_type": "code",
   "execution_count": 3,
   "metadata": {},
   "outputs": [
    {
     "name": "stdout",
     "output_type": "stream",
     "text": [
      "testetset\n"
     ]
    }
   ],
   "source": [
    "print(test)"
   ]
  },
  {
   "cell_type": "code",
   "execution_count": 4,
   "metadata": {},
   "outputs": [
    {
     "data": {
      "text/plain": [
       "'testetset'"
      ]
     },
     "execution_count": 4,
     "metadata": {},
     "output_type": "execute_result"
    }
   ],
   "source": [
    "test"
   ]
  },
  {
   "cell_type": "code",
   "execution_count": 5,
   "metadata": {},
   "outputs": [
    {
     "name": "stdin",
     "output_type": "stream",
     "text": [
      " 123\n"
     ]
    }
   ],
   "source": [
    "a=input()"
   ]
  },
  {
   "cell_type": "code",
   "execution_count": 6,
   "metadata": {},
   "outputs": [
    {
     "data": {
      "text/plain": [
       "'123'"
      ]
     },
     "execution_count": 6,
     "metadata": {},
     "output_type": "execute_result"
    }
   ],
   "source": [
    "a"
   ]
  },
  {
   "cell_type": "code",
   "execution_count": 7,
   "metadata": {},
   "outputs": [
    {
     "name": "stdout",
     "output_type": "stream",
     "text": [
      "123123\n"
     ]
    }
   ],
   "source": [
    "print(a*2)"
   ]
  },
  {
   "cell_type": "code",
   "execution_count": 8,
   "metadata": {},
   "outputs": [
    {
     "name": "stdin",
     "output_type": "stream",
     "text": [
      " 123\n"
     ]
    }
   ],
   "source": [
    "a=int(input())"
   ]
  },
  {
   "cell_type": "code",
   "execution_count": 9,
   "metadata": {},
   "outputs": [
    {
     "data": {
      "text/plain": [
       "123"
      ]
     },
     "execution_count": 9,
     "metadata": {},
     "output_type": "execute_result"
    }
   ],
   "source": [
    "a"
   ]
  },
  {
   "cell_type": "code",
   "execution_count": 10,
   "metadata": {},
   "outputs": [
    {
     "name": "stdout",
     "output_type": "stream",
     "text": [
      "246\n"
     ]
    }
   ],
   "source": [
    "print(a*2)"
   ]
  },
  {
   "cell_type": "code",
   "execution_count": 11,
   "metadata": {},
   "outputs": [
    {
     "name": "stdin",
     "output_type": "stream",
     "text": [
      " 1\n",
      " 2 3\n"
     ]
    }
   ],
   "source": [
    "a=int(input())\n",
    "b, c = map(int, input().split())"
   ]
  },
  {
   "cell_type": "code",
   "execution_count": 12,
   "metadata": {},
   "outputs": [
    {
     "data": {
      "text/plain": [
       "(1, 2, 3)"
      ]
     },
     "execution_count": 12,
     "metadata": {},
     "output_type": "execute_result"
    }
   ],
   "source": [
    "a, b, c"
   ]
  },
  {
   "cell_type": "code",
   "execution_count": 13,
   "metadata": {},
   "outputs": [
    {
     "name": "stdin",
     "output_type": "stream",
     "text": [
      " 2 3\n"
     ]
    }
   ],
   "source": [
    "test = input()"
   ]
  },
  {
   "cell_type": "code",
   "execution_count": 14,
   "metadata": {},
   "outputs": [
    {
     "data": {
      "text/plain": [
       "'2 3'"
      ]
     },
     "execution_count": 14,
     "metadata": {},
     "output_type": "execute_result"
    }
   ],
   "source": [
    "test"
   ]
  },
  {
   "cell_type": "code",
   "execution_count": 15,
   "metadata": {},
   "outputs": [
    {
     "ename": "ValueError",
     "evalue": "invalid literal for int() with base 10: '2 3'",
     "output_type": "error",
     "traceback": [
      "\u001b[0;31m---------------------------------------------------------------------------\u001b[0m",
      "\u001b[0;31mValueError\u001b[0m                                Traceback (most recent call last)",
      "\u001b[0;32m<ipython-input-15-63caa5755710>\u001b[0m in \u001b[0;36m<module>\u001b[0;34m\u001b[0m\n\u001b[0;32m----> 1\u001b[0;31m \u001b[0mint\u001b[0m\u001b[0;34m(\u001b[0m\u001b[0mtest\u001b[0m\u001b[0;34m)\u001b[0m\u001b[0;34m\u001b[0m\u001b[0;34m\u001b[0m\u001b[0m\n\u001b[0m",
      "\u001b[0;31mValueError\u001b[0m: invalid literal for int() with base 10: '2 3'"
     ]
    }
   ],
   "source": [
    "int(test)"
   ]
  },
  {
   "cell_type": "code",
   "execution_count": 20,
   "metadata": {},
   "outputs": [
    {
     "data": {
      "text/plain": [
       "['2', '3']"
      ]
     },
     "execution_count": 20,
     "metadata": {},
     "output_type": "execute_result"
    }
   ],
   "source": [
    "test.split()"
   ]
  },
  {
   "cell_type": "code",
   "execution_count": 28,
   "metadata": {},
   "outputs": [],
   "source": [
    "b, c = map(int, test.split())"
   ]
  },
  {
   "cell_type": "code",
   "execution_count": 26,
   "metadata": {},
   "outputs": [
    {
     "data": {
      "text/plain": [
       "(2, 3)"
      ]
     },
     "execution_count": 26,
     "metadata": {},
     "output_type": "execute_result"
    }
   ],
   "source": [
    "b, c"
   ]
  },
  {
   "cell_type": "code",
   "execution_count": 27,
   "metadata": {},
   "outputs": [
    {
     "data": {
      "text/plain": [
       "'2 3'"
      ]
     },
     "execution_count": 27,
     "metadata": {},
     "output_type": "execute_result"
    }
   ],
   "source": [
    "test"
   ]
  },
  {
   "cell_type": "code",
   "execution_count": 30,
   "metadata": {},
   "outputs": [
    {
     "name": "stdin",
     "output_type": "stream",
     "text": [
      " 3\n",
      " 4 5\n",
      " test\n"
     ]
    },
    {
     "name": "stdout",
     "output_type": "stream",
     "text": [
      "12 test\n"
     ]
    }
   ],
   "source": [
    "a = int(input())\n",
    "b, c = map(int, input().split())\n",
    "s = input()\n",
    "\n",
    "result = a + b + c\n",
    "print(result, s)"
   ]
  },
  {
   "cell_type": "code",
   "execution_count": 35,
   "metadata": {},
   "outputs": [
    {
     "name": "stdin",
     "output_type": "stream",
     "text": [
      " 1 21\n"
     ]
    },
    {
     "name": "stdout",
     "output_type": "stream",
     "text": [
      "Odd\n"
     ]
    }
   ],
   "source": [
    "a, b = map(int, input().split())\n",
    "\n",
    "mul = a*b;\n",
    "\n",
    "if(mul % 2 == 1):\n",
    "    print(\"Odd\")\n",
    "else:\n",
    "    print(\"Even\")\n"
   ]
  },
  {
   "cell_type": "code",
   "execution_count": 31,
   "metadata": {},
   "outputs": [
    {
     "data": {
      "text/plain": [
       "3.3333333333333335"
      ]
     },
     "execution_count": 31,
     "metadata": {},
     "output_type": "execute_result"
    }
   ],
   "source": [
    "10/3"
   ]
  },
  {
   "cell_type": "code",
   "execution_count": 32,
   "metadata": {},
   "outputs": [
    {
     "data": {
      "text/plain": [
       "1"
      ]
     },
     "execution_count": 32,
     "metadata": {},
     "output_type": "execute_result"
    }
   ],
   "source": [
    "10%3"
   ]
  },
  {
   "cell_type": "code",
   "execution_count": 33,
   "metadata": {},
   "outputs": [
    {
     "data": {
      "text/plain": [
       "2"
      ]
     },
     "execution_count": 33,
     "metadata": {},
     "output_type": "execute_result"
    }
   ],
   "source": [
    "5%3"
   ]
  },
  {
   "cell_type": "code",
   "execution_count": 2,
   "metadata": {},
   "outputs": [
    {
     "name": "stdin",
     "output_type": "stream",
     "text": [
      " 9 45000\n"
     ]
    },
    {
     "name": "stdout",
     "output_type": "stream",
     "text": [
      "4 0 5\n"
     ]
    }
   ],
   "source": [
    "n, y = map(int, input().split())\n",
    "\n",
    "for a in range(n+1):\n",
    "    for b in range(n+1):\n",
    "        for c in range(n+1):\n",
    "            \n",
    "            if(a+b+c==n and 1000*a + 5000*b + 10000*c == 45000):\n",
    "                print(c, b, a)\n",
    "                \n",
    "\n",
    "print(\"-1 -1 -1\")"
   ]
  },
  {
   "cell_type": "code",
   "execution_count": 37,
   "metadata": {},
   "outputs": [
    {
     "data": {
      "text/plain": [
       "(9, 45000)"
      ]
     },
     "execution_count": 37,
     "metadata": {},
     "output_type": "execute_result"
    }
   ],
   "source": [
    "n, y"
   ]
  },
  {
   "cell_type": "code",
   "execution_count": 38,
   "metadata": {},
   "outputs": [
    {
     "name": "stdout",
     "output_type": "stream",
     "text": [
      "1\n",
      "2\n",
      "3\n",
      "4\n",
      "5\n"
     ]
    }
   ],
   "source": [
    "for i in [1, 2, 3, 4, 5]:\n",
    "    print(i)"
   ]
  },
  {
   "cell_type": "code",
   "execution_count": 39,
   "metadata": {},
   "outputs": [
    {
     "name": "stdout",
     "output_type": "stream",
     "text": [
      "21\n"
     ]
    }
   ],
   "source": [
    "a = 1\n",
    "for i in range(10):\n",
    "    a = a + 2\n",
    "print(a)"
   ]
  },
  {
   "cell_type": "code",
   "execution_count": 41,
   "metadata": {},
   "outputs": [
    {
     "name": "stdout",
     "output_type": "stream",
     "text": [
      "0\n",
      "1\n",
      "2\n",
      "3\n",
      "4\n",
      "5\n",
      "6\n",
      "7\n",
      "8\n",
      "9\n"
     ]
    }
   ],
   "source": [
    "for i in range(10):\n",
    "    print(i)"
   ]
  },
  {
   "cell_type": "code",
   "execution_count": 3,
   "metadata": {},
   "outputs": [
    {
     "data": {
      "text/plain": [
       "8000000000"
      ]
     },
     "execution_count": 3,
     "metadata": {},
     "output_type": "execute_result"
    }
   ],
   "source": [
    "2000*2000*2000"
   ]
  },
  {
   "cell_type": "code",
   "execution_count": null,
   "metadata": {},
   "outputs": [],
   "source": [
    "n, y = map(int, input().split())\n",
    "\n",
    "for a in range(n+1):\n",
    "    for b in range(n-a+1):\n",
    "        c = n-a-b\n",
    "            \n",
    "        if(and 10000*a + 5000*b + 1000*c == y):\n",
    "            print(a, b, c)\n",
    "            quit()\n",
    "\n",
    "print(\"-1 -1 -1\")"
   ]
  },
  {
   "cell_type": "code",
   "execution_count": 7,
   "metadata": {},
   "outputs": [
    {
     "name": "stdout",
     "output_type": "stream",
     "text": [
      "0\n",
      "1\n",
      "2\n",
      "3\n",
      "4\n",
      "5\n",
      "6\n"
     ]
    }
   ],
   "source": [
    "for i in range(7):\n",
    "    print(i)"
   ]
  },
  {
   "cell_type": "code",
   "execution_count": 18,
   "metadata": {},
   "outputs": [
    {
     "data": {
      "text/plain": [
       "'a'"
      ]
     },
     "execution_count": 18,
     "metadata": {},
     "output_type": "execute_result"
    }
   ],
   "source": [
    "test = \"hogefuga\"\n",
    "test[7]"
   ]
  },
  {
   "cell_type": "code",
   "execution_count": 10,
   "metadata": {},
   "outputs": [
    {
     "name": "stdout",
     "output_type": "stream",
     "text": [
      "testestbcd\n"
     ]
    }
   ],
   "source": [
    "test = \"testest\"\n",
    "\n",
    "test = test + \"bcd\"\n",
    "\n",
    "print(test)"
   ]
  },
  {
   "cell_type": "code",
   "execution_count": 15,
   "metadata": {},
   "outputs": [
    {
     "name": "stdin",
     "output_type": "stream",
     "text": [
      " atcoderbeginnercontest\n",
      " atcoderregularcontest\n"
     ]
    },
    {
     "name": "stdout",
     "output_type": "stream",
     "text": [
      "aattccooddeerrbreeggiunlnaerrccoonntteesstt\n"
     ]
    }
   ],
   "source": [
    "o = input()\n",
    "e = input()\n",
    "\n",
    "result = \"\"\n",
    "for i in range(len(e)):\n",
    "    result = result + o[i] + e[i]\n",
    "\n",
    "if(len(o) != len(e)):\n",
    "    result += o[len(o)-1]\n",
    "print(result)"
   ]
  },
  {
   "cell_type": "code",
   "execution_count": 25,
   "metadata": {},
   "outputs": [
    {
     "name": "stdin",
     "output_type": "stream",
     "text": [
      " abcd\n",
      " xyz\n"
     ]
    },
    {
     "name": "stdout",
     "output_type": "stream",
     "text": [
      "axbyczd\n"
     ]
    }
   ],
   "source": [
    "o=input()\n",
    "e=input()\n",
    "\n",
    "result=\"\"\n",
    "for i in range(len(e)):\n",
    "    result=result+o[i]+e[i]\n",
    "    \n",
    "if(len(o) != len(e)):\n",
    "    result  = result + o[len(o)-1]\n",
    "    #result += o[len(o)-1]\n",
    "print(result)"
   ]
  },
  {
   "cell_type": "code",
   "execution_count": 24,
   "metadata": {},
   "outputs": [
    {
     "name": "stdout",
     "output_type": "stream",
     "text": [
      "15\n",
      "10\n",
      "15\n"
     ]
    }
   ],
   "source": [
    "a = 10\n",
    "print(a+5)\n",
    "print(a)\n",
    "\n",
    "#a = a+5\n",
    "a += 5\n",
    "\n",
    "print(a)"
   ]
  },
  {
   "cell_type": "code",
   "execution_count": 26,
   "metadata": {},
   "outputs": [
    {
     "name": "stdin",
     "output_type": "stream",
     "text": [
      " 101\n"
     ]
    }
   ],
   "source": [
    "s = input()"
   ]
  },
  {
   "cell_type": "code",
   "execution_count": 27,
   "metadata": {},
   "outputs": [
    {
     "data": {
      "text/plain": [
       "'101'"
      ]
     },
     "execution_count": 27,
     "metadata": {},
     "output_type": "execute_result"
    }
   ],
   "source": [
    "s"
   ]
  },
  {
   "cell_type": "code",
   "execution_count": 32,
   "metadata": {},
   "outputs": [
    {
     "name": "stdin",
     "output_type": "stream",
     "text": [
      " 1000101010111010011\n"
     ]
    },
    {
     "name": "stdout",
     "output_type": "stream",
     "text": [
      "10\n"
     ]
    }
   ],
   "source": [
    "s = input()\n",
    "\n",
    "result = 0\n",
    "\n",
    "for i in range(len(s)):\n",
    "    if(s[i] == '1'):\n",
    "        result += 1\n",
    "print(result)"
   ]
  },
  {
   "cell_type": "code",
   "execution_count": 34,
   "metadata": {},
   "outputs": [
    {
     "name": "stdin",
     "output_type": "stream",
     "text": [
      " ooo\n"
     ]
    },
    {
     "name": "stdout",
     "output_type": "stream",
     "text": [
      "1000\n"
     ]
    }
   ],
   "source": [
    "s=input()\n",
    "result=700\n",
    "for i in range(len(s)):\n",
    "    if(s[i]== 'o'):\n",
    "        result+=100\n",
    "print(result)"
   ]
  },
  {
   "cell_type": "code",
   "execution_count": null,
   "metadata": {},
   "outputs": [],
   "source": [
    "k, x = map(int, input().split())\n",
    "if(k*500 >= x): print('Yes')\n",
    "else: print('No')"
   ]
  },
  {
   "cell_type": "code",
   "execution_count": 3,
   "metadata": {},
   "outputs": [
    {
     "name": "stdin",
     "output_type": "stream",
     "text": [
      " 10\n",
      " ZABCDBABCQ\n"
     ]
    },
    {
     "name": "stdout",
     "output_type": "stream",
     "text": [
      "2\n"
     ]
    }
   ],
   "source": [
    "n = int(input())\n",
    "s = input()\n",
    "res = 0\n",
    "for i in range(len(s)-2):\n",
    "    if(s[i: i+3] == 'ABC'): res += 1\n",
    "    \n",
    "print(res)"
   ]
  },
  {
   "cell_type": "code",
   "execution_count": 15,
   "metadata": {},
   "outputs": [
    {
     "name": "stdin",
     "output_type": "stream",
     "text": [
      " 8\n",
      " 7 3 5 4 2 1 6 8\n",
      " 3 8 2 5 4 6 7 1\n"
     ]
    },
    {
     "name": "stdout",
     "output_type": "stream",
     "text": [
      "17517\n"
     ]
    }
   ],
   "source": [
    "import itertools\n",
    "\n",
    "n = int(input())\n",
    "p = ''.join(input().split())\n",
    "q = ''.join(input().split())\n",
    "a = 0\n",
    "b = 0\n",
    "cnt = 0\n",
    "\n",
    "for iter in itertools.permutations(list(map(str, range(1, n+1)))):\n",
    "    cnt += 1\n",
    "    if(''.join(iter) == p): a = cnt\n",
    "    if(''.join(iter) == q): b = cnt\n",
    "    \n",
    "    if(a*b): break\n",
    "print(abs(a-b))"
   ]
  },
  {
   "cell_type": "code",
   "execution_count": 12,
   "metadata": {},
   "outputs": [
    {
     "data": {
      "text/plain": [
       "'132'"
      ]
     },
     "execution_count": 12,
     "metadata": {},
     "output_type": "execute_result"
    }
   ],
   "source": [
    "p"
   ]
  },
  {
   "cell_type": "code",
   "execution_count": 13,
   "metadata": {},
   "outputs": [
    {
     "name": "stdout",
     "output_type": "stream",
     "text": [
      "123\n",
      "132\n",
      "213\n",
      "231\n",
      "312\n",
      "321\n"
     ]
    }
   ],
   "source": [
    "import itertools\n",
    "for iter in itertools.permutations(['1', '2', '3']):\n",
    "    print(''.join(iter))\n"
   ]
  },
  {
   "cell_type": "code",
   "execution_count": 11,
   "metadata": {},
   "outputs": [
    {
     "data": {
      "text/plain": [
       "['1', '2', '3', '4', '5', '6', '7', '8']"
      ]
     },
     "execution_count": 11,
     "metadata": {},
     "output_type": "execute_result"
    }
   ],
   "source": [
    "n = 8\n",
    "list(map(str, range(1, n+1)))"
   ]
  },
  {
   "cell_type": "code",
   "execution_count": 16,
   "metadata": {},
   "outputs": [
    {
     "data": {
      "text/plain": [
       "5.999999988"
      ]
     },
     "execution_count": 16,
     "metadata": {},
     "output_type": "execute_result"
    }
   ],
   "source": [
    "1000000000 / 166666667"
   ]
  },
  {
   "cell_type": "code",
   "execution_count": 18,
   "metadata": {},
   "outputs": [
    {
     "data": {
      "text/plain": [
       "166666666"
      ]
     },
     "execution_count": 18,
     "metadata": {},
     "output_type": "execute_result"
    }
   ],
   "source": [
    "1000000000 // 6"
   ]
  },
  {
   "cell_type": "code",
   "execution_count": 19,
   "metadata": {},
   "outputs": [
    {
     "name": "stdin",
     "output_type": "stream",
     "text": [
      " 3\n",
      " dwango 2\n",
      " sixth 5\n",
      " prelims 25\n",
      " dwango\n"
     ]
    },
    {
     "name": "stdout",
     "output_type": "stream",
     "text": [
      "0\n"
     ]
    }
   ],
   "source": [
    "n = int(input())\n",
    "st = [input().split() for _ in range(n)]\n",
    "x = input()\n",
    "\n",
    "res = 0\n",
    "flg = False\n",
    "for s, t in st:\n",
    "    if(flg): res += int(t)\n",
    "    if(s == x): flg = True\n",
    "print(res)"
   ]
  },
  {
   "cell_type": "code",
   "execution_count": 20,
   "metadata": {},
   "outputs": [
    {
     "data": {
      "text/plain": [
       "(3, [['dwango', '2'], ['sixth', '5'], ['prelims', '25']], 'dwango')"
      ]
     },
     "execution_count": 20,
     "metadata": {},
     "output_type": "execute_result"
    }
   ],
   "source": [
    "n, st, x"
   ]
  },
  {
   "cell_type": "code",
   "execution_count": 26,
   "metadata": {},
   "outputs": [
    {
     "name": "stdout",
     "output_type": "stream",
     "text": [
      "dwango 2 32\n",
      "sixth 5 37\n",
      "prelims 25 62\n",
      "62\n"
     ]
    }
   ],
   "source": [
    "for s, t in st:\n",
    "    if(flg): res += int(t)\n",
    "    if(s == x): flg = True\n",
    "    print(s, t, res)\n",
    "print(res)"
   ]
  },
  {
   "cell_type": "code",
   "execution_count": 1,
   "metadata": {},
   "outputs": [
    {
     "name": "stdin",
     "output_type": "stream",
     "text": [
      " a\n"
     ]
    },
    {
     "name": "stdout",
     "output_type": "stream",
     "text": [
      "b\n"
     ]
    }
   ],
   "source": [
    "c = input()\n",
    "print(chr(ord(c)+1))"
   ]
  },
  {
   "cell_type": "code",
   "execution_count": 9,
   "metadata": {},
   "outputs": [
    {
     "name": "stdin",
     "output_type": "stream",
     "text": [
      " 4 100 60\n",
      " 0 0 0\n"
     ]
    },
    {
     "name": "stdout",
     "output_type": "stream",
     "text": [
      "-1\n"
     ]
    }
   ],
   "source": [
    "n, k, m = map(int, input().split())\n",
    "a = list(map(int, input().split()))\n",
    "res = n*m - sum(a)\n",
    "if(res>k): print(-1)\n",
    "else: print(max(0, res))"
   ]
  },
  {
   "cell_type": "code",
   "execution_count": 20,
   "metadata": {},
   "outputs": [
    {
     "name": "stdin",
     "output_type": "stream",
     "text": [
      " 6 0\n"
     ]
    },
    {
     "name": "stdout",
     "output_type": "stream",
     "text": [
      "0 0\n"
     ]
    }
   ],
   "source": [
    "n, m = map(int, input().split())\n",
    "q_re = {}\n",
    "ac = 0\n",
    "wa = 0\n",
    "for i in range(m):\n",
    "    q, re = input().split()\n",
    "    if(re == \"WA\" and q not in q_re): \n",
    "        wa += 1\n",
    "    if(re == \"AC\" and q not in q_re): \n",
    "        ac += 1\n",
    "        q_re[q] = \"AC\"\n",
    "print(ac, wa)"
   ]
  },
  {
   "cell_type": "code",
   "execution_count": 10,
   "metadata": {},
   "outputs": [],
   "source": [
    "di = {}"
   ]
  },
  {
   "cell_type": "code",
   "execution_count": 11,
   "metadata": {},
   "outputs": [],
   "source": [
    "di['1'] = \"AC\""
   ]
  },
  {
   "cell_type": "code",
   "execution_count": 12,
   "metadata": {},
   "outputs": [
    {
     "data": {
      "text/plain": [
       "{'1': 'AC'}"
      ]
     },
     "execution_count": 12,
     "metadata": {},
     "output_type": "execute_result"
    }
   ],
   "source": [
    "di"
   ]
  },
  {
   "cell_type": "code",
   "execution_count": 13,
   "metadata": {},
   "outputs": [
    {
     "data": {
      "text/plain": [
       "True"
      ]
     },
     "execution_count": 13,
     "metadata": {},
     "output_type": "execute_result"
    }
   ],
   "source": [
    "\"1\" in di"
   ]
  },
  {
   "cell_type": "code",
   "execution_count": 17,
   "metadata": {},
   "outputs": [
    {
     "data": {
      "text/plain": [
       "{}"
      ]
     },
     "execution_count": 17,
     "metadata": {},
     "output_type": "execute_result"
    }
   ],
   "source": [
    "q_re"
   ]
  },
  {
   "cell_type": "code",
   "execution_count": 26,
   "metadata": {},
   "outputs": [
    {
     "name": "stdin",
     "output_type": "stream",
     "text": [
      " 3 7\n",
      " 1 AC\n",
      " 2 WA\n",
      " 2 wA\n",
      " 2 WA\n",
      " 2 WA\n",
      " 3 WA\n",
      " 3 AC\n"
     ]
    },
    {
     "name": "stdout",
     "output_type": "stream",
     "text": [
      "2 1\n"
     ]
    }
   ],
   "source": [
    "n, m = map(int, input().split())\n",
    "q_re = set()\n",
    "ac = 0\n",
    "wa = 0\n",
    "dic_wa = {}\n",
    "for i in range(m):\n",
    "    q, re = input().split()\n",
    "    if(re == \"WA\" and q not in q_re): \n",
    "        if(q not in dic_wa): dic_wa[q] = 1\n",
    "        else: dic_wa[q] += 1\n",
    "    if(re == \"AC\" and q not in q_re): \n",
    "        ac += 1\n",
    "        q_re.add(q)\n",
    "        if(q in dic_wa): wa += dic_wa[q]\n",
    "print(ac, wa)"
   ]
  },
  {
   "cell_type": "code",
   "execution_count": 28,
   "metadata": {},
   "outputs": [
    {
     "name": "stdin",
     "output_type": "stream",
     "text": [
      " 3 5\n",
      " ...#.\n",
      " .#.#.\n",
      " .#...\n"
     ]
    }
   ],
   "source": [
    "h, w = map(int, input().split())\n",
    "maze = [input() for _ in range(h)]"
   ]
  },
  {
   "cell_type": "code",
   "execution_count": 53,
   "metadata": {},
   "outputs": [
    {
     "data": {
      "text/plain": [
       "'s#...'"
      ]
     },
     "execution_count": 53,
     "metadata": {},
     "output_type": "execute_result"
    }
   ],
   "source": [
    "maze[s[0]] = maze[s[0]][:s[1]] + 's' + maze[s[0]][s[1]+1:]\n",
    "maze[s[0]]"
   ]
  },
  {
   "cell_type": "code",
   "execution_count": 54,
   "metadata": {},
   "outputs": [
    {
     "name": "stdout",
     "output_type": "stream",
     "text": [
      "...#g\n",
      ".#.#.\n",
      "s#...\n"
     ]
    }
   ],
   "source": [
    "s = [2, 0]\n",
    "g = [0, 4]\n",
    "\n",
    "maze = ['...#.', '.#.#.', '.#...']\n",
    "maze[s[0]] = maze[s[0]][:s[1]] + 's' + maze[s[0]][s[1]+1:]\n",
    "maze[g[0]] = maze[g[0]][:g[1]] + 'g' + maze[g[0]][g[1]+1:]\n",
    "for m in maze:\n",
    "    print(m)"
   ]
  },
  {
   "cell_type": "code",
   "execution_count": 69,
   "metadata": {},
   "outputs": [
    {
     "name": "stdout",
     "output_type": "stream",
     "text": [
      "4\n"
     ]
    }
   ],
   "source": [
    "import numpy as np\n",
    "from scipy.ndimage.filters import minimum_filter, maximum_filter\n",
    "import copy\n",
    "\n",
    "\n",
    "def calcstep(maze, s, g):\n",
    "    h, w = len(maze), len(maze[0])\n",
    "    maze[s[0]] = maze[s[0]][:s[1]] + 's' + maze[s[0]][s[1]+1:]\n",
    "    maze[g[0]] = maze[g[0]][:g[1]] + 'g' + maze[g[0]][g[1]+1:]\n",
    "    \n",
    "    cost = np.zeros((h, w), dtype=int) + 500\n",
    "    done = np.zeros((h, w), dtype=bool)\n",
    "    barrier = np.zeros((h, w), dtype=bool)\n",
    "\n",
    "    g = np.array([[0, 1, 0],\n",
    "                  [1, 1, 1],\n",
    "                  [0, 1, 0]])\n",
    "\n",
    "    for i in range(h):\n",
    "        maze[i] = list(maze[i])\n",
    "        for j in range(w):\n",
    "            if maze[i][j] == 's':\n",
    "                start = (i, j)\n",
    "                cost[i, j] = 0\n",
    "                done[i, j] = True\n",
    "            if maze[i][j] == 'g':\n",
    "                goal = (i, j)\n",
    "            if maze[i][j] == '#':\n",
    "                barrier[i, j] = True\n",
    "\n",
    "    for i in range(1, 500):\n",
    "\n",
    "        done_next = maximum_filter(done, footprint=g) * ~done\n",
    "\n",
    "        cost_next = minimum_filter(cost, footprint=g) * done_next\n",
    "        cost_next[done_next] += 1\n",
    "        cost[done_next] = cost_next[done_next]\n",
    "        cost[barrier] = 500\n",
    "        done[done_next] = done_next[done_next]\n",
    "        done[barrier] = False\n",
    "\n",
    "        if done[goal[0], goal[1]] == True:\n",
    "            break\n",
    "    return i\n",
    "\n",
    "\n",
    "\n",
    "h, w = map(int, input().split())\n",
    "maze = [input() for _ in range(h)]\n",
    "\n",
    "\n",
    "res = -1\n",
    "for i in range(h):\n",
    "    for j in range(w):\n",
    "        if(maze[i][j] == '#'): continue\n",
    "        \n",
    "        for k in range(h):\n",
    "            for l in range(w):\n",
    "                if(maze[k][l] == '#'): continue\n",
    "                if(i==k and j==l): continue\n",
    "                tmpmaze = copy.deepcopy(maze)\n",
    "                steps = calcstep(tmpmaze, [i, j], [k, l])\n",
    "                if(steps > res):\n",
    "                    res = steps\n",
    "print(res)"
   ]
  },
  {
   "cell_type": "code",
   "execution_count": 64,
   "metadata": {},
   "outputs": [
    {
     "data": {
      "text/plain": [
       "['...#.', '.#.#.', '.#...']"
      ]
     },
     "execution_count": 64,
     "metadata": {},
     "output_type": "execute_result"
    }
   ],
   "source": [
    "maze"
   ]
  },
  {
   "cell_type": "code",
   "execution_count": 38,
   "metadata": {},
   "outputs": [
    {
     "data": {
      "image/png": "[encoded data removed]",
      "text/plain": [
       "<Figure size 720x720 with 1 Axes>"
      ]
     },
     "metadata": {
      "needs_background": "light"
     },
     "output_type": "display_data"
    },
    {
     "name": "stdout",
     "output_type": "stream",
     "text": [
      "\n"
     ]
    }
   ],
   "source": [
    "%matplotlib inline\n",
    "import matplotlib.pyplot as plt\n",
    "def show(step):\n",
    "    plt.figure(figsize=(10, 10))\n",
    "    \n",
    "    #フィールド、障害物の表示\n",
    "    plt.imshow(barrier, cmap='inferno_r')\n",
    "    #スタート、ゴールの記入\n",
    "    plt.text(start[1]-0.4, start[0]-0.1, 'S', size = 20, color = 'r')\n",
    "    plt.text(goal[1]-0.4, goal[0]-0.1, 'G', size = 20, color = 'b')\n",
    "    #コストの記入\n",
    "    x, y = np.where(cost != 999)\n",
    "    c = cost[x, y]\n",
    "    for i in range(len(x)):\n",
    "        plt.text(y[i]-0.1, x[i]+0.1, c[i], size = 20, color = 'gray')\n",
    "    \n",
    "    #plt.savefig('save/{}.png'.format(step), bbox_inches='tight', pad_inches=0)\n",
    "    plt.show(), plt.close(), print()\n",
    "    \n",
    "#表示\n",
    "show(0)"
   ]
  },
  {
   "cell_type": "code",
   "execution_count": 39,
   "metadata": {},
   "outputs": [
    {
     "data": {
      "image/png": "[encoded data removed]",
      "text/plain": [
       "<Figure size 720x720 with 1 Axes>"
      ]
     },
     "metadata": {
      "needs_background": "light"
     },
     "output_type": "display_data"
    },
    {
     "name": "stdout",
     "output_type": "stream",
     "text": [
      "\n"
     ]
    },
    {
     "data": {
      "image/png": "[encoded data removed]",
      "text/plain": [
       "<Figure size 720x720 with 1 Axes>"
      ]
     },
     "metadata": {
      "needs_background": "light"
     },
     "output_type": "display_data"
    },
    {
     "name": "stdout",
     "output_type": "stream",
     "text": [
      "\n"
     ]
    },
    {
     "data": {
      "image/png": "[encoded data removed]",
      "text/plain": [
       "<Figure size 720x720 with 1 Axes>"
      ]
     },
     "metadata": {
      "needs_background": "light"
     },
     "output_type": "display_data"
    },
    {
     "name": "stdout",
     "output_type": "stream",
     "text": [
      "\n"
     ]
    },
    {
     "data": {
      "image/png": "[encoded data removed]",
      "text/plain": [
       "<Figure size 720x720 with 1 Axes>"
      ]
     },
     "metadata": {
      "needs_background": "light"
     },
     "output_type": "display_data"
    },
    {
     "name": "stdout",
     "output_type": "stream",
     "text": [
      "\n"
     ]
    },
    {
     "data": {
      "image/png": "[encoded data removed]",
      "text/plain": [
       "<Figure size 720x720 with 1 Axes>"
      ]
     },
     "metadata": {
      "needs_background": "light"
     },
     "output_type": "display_data"
    },
    {
     "name": "stdout",
     "output_type": "stream",
     "text": [
      "\n"
     ]
    },
    {
     "data": {
      "image/png": "[encoded data removed]",
      "text/plain": [
       "<Figure size 720x720 with 1 Axes>"
      ]
     },
     "metadata": {
      "needs_background": "light"
     },
     "output_type": "display_data"
    },
    {
     "name": "stdout",
     "output_type": "stream",
     "text": [
      "\n"
     ]
    },
    {
     "data": {
      "image/png": "[encoded data removed]",
      "text/plain": [
       "<Figure size 720x720 with 1 Axes>"
      ]
     },
     "metadata": {
      "needs_background": "light"
     },
     "output_type": "display_data"
    },
    {
     "name": "stdout",
     "output_type": "stream",
     "text": [
      "\n"
     ]
    },
    {
     "data": {
      "image/png": "[encoded data removed]",
      "text/plain": [
       "<Figure size 720x720 with 1 Axes>"
      ]
     },
     "metadata": {
      "needs_background": "light"
     },
     "output_type": "display_data"
    },
    {
     "name": "stdout",
     "output_type": "stream",
     "text": [
      "\n"
     ]
    },
    {
     "data": {
      "image/png": "[encoded data removed]",
      "text/plain": [
       "<Figure size 720x720 with 1 Axes>"
      ]
     },
     "metadata": {
      "needs_background": "light"
     },
     "output_type": "display_data"
    },
    {
     "name": "stdout",
     "output_type": "stream",
     "text": [
      "\n"
     ]
    }
   ],
   "source": [
    "from scipy.ndimage.filters import minimum_filter, maximum_filter\n",
    "for i in range(1, 999):\n",
    "\n",
    "    #次に進出するマスのbool\n",
    "    done_next = maximum_filter(done, footprint=g) * ~done\n",
    "    #print('done_next\\n{}'.format(done_next))\n",
    "    \n",
    "    #次に進出するマスのcost\n",
    "    cost_next = minimum_filter(cost, footprint=g) * done_next\n",
    "    cost_next[done_next] += 1\n",
    "    #print('cost_next\\n{}'.format(cost_next))\n",
    "    \n",
    "    #costを更新\n",
    "    cost[done_next] = cost_next[done_next]\n",
    "    #ただし障害物のコストは999とする\n",
    "    cost[barrier] = 999\n",
    "    #print('cost\\n{}'.format(cost))\n",
    "    \n",
    "    #探索終了マスを更新\n",
    "    done[done_next] = done_next[done_next]\n",
    "    #ただし障害物は探索終了としない\n",
    "    done[barrier] = False\n",
    "    #print('done\\n{}'.format(done))\n",
    "    \n",
    "    #表示\n",
    "    show(i)\n",
    "    \n",
    "    #終了判定\n",
    "    if done[goal[0], goal[1]] == True:\n",
    "        break\n"
   ]
  },
  {
   "cell_type": "code",
   "execution_count": 71,
   "metadata": {},
   "outputs": [
    {
     "name": "stdin",
     "output_type": "stream",
     "text": [
      " 3 5\n",
      " ...#.\n",
      " .#.#.\n",
      " .#...\n"
     ]
    },
    {
     "name": "stdout",
     "output_type": "stream",
     "text": [
      "10\n"
     ]
    }
   ],
   "source": [
    "from collections import deque\n",
    "\n",
    "def bfs(grid, start):\n",
    "    H, W = len(maze), len(maze[0])\n",
    "    distance = [[-1] * W for _ in range(H)]\n",
    "    queue = deque([start])\n",
    "    distance[start[0]][start[1]] = 0\n",
    "    while queue:\n",
    "        x, y = queue.popleft()\n",
    " \n",
    "        for i, j in ((1, 0), (-1, 0), (0, 1), (0, -1)):\n",
    "            new_y, new_x = y + j, x + i\n",
    "            if 0 <= new_y < W and 0 <= new_x < H:\n",
    "                if grid[new_x][new_y] == '.' and distance[new_x][new_y] == -1:\n",
    "                    distance[new_x][new_y] = distance[x][y] + 1\n",
    "                    queue.append((new_x, new_y))\n",
    "    return max(map(max, distance))\n",
    "\n",
    "h, w = map(int, input().split())\n",
    "maze = [input() for _ in range(h)]\n",
    "\n",
    "\n",
    "res = -1\n",
    "for i in range(h):\n",
    "    for j in range(w):\n",
    "        if(maze[i][j] == '#'): continue\n",
    "        tmpmaze = copy.deepcopy(maze)\n",
    "        steps = bfs(tmpmaze, [i, j])\n",
    "        if(steps > res):\n",
    "            res = steps\n",
    "print(res)"
   ]
  },
  {
   "cell_type": "code",
   "execution_count": 72,
   "metadata": {},
   "outputs": [
    {
     "name": "stdin",
     "output_type": "stream",
     "text": [
      " 3 5\n",
      " ...#.\n",
      " .#.#.\n",
      " .#...\n"
     ]
    },
    {
     "name": "stdout",
     "output_type": "stream",
     "text": [
      "10\n"
     ]
    }
   ],
   "source": [
    "from collections import deque\n",
    "\n",
    "def bfs(grid, start):\n",
    "    H, W = len(grid), len(grid[0])\n",
    "    distance = [[-1] * W for _ in range(H)]\n",
    "    queue = deque([start])\n",
    "    distance[start[0]][start[1]] = 0\n",
    "    while queue:\n",
    "        x, y = queue.popleft()\n",
    " \n",
    "        for i, j in ((1, 0), (-1, 0), (0, 1), (0, -1)):\n",
    "            new_y, new_x = y + j, x + i\n",
    "            if 0 <= new_y < W and 0 <= new_x < H:\n",
    "                if grid[new_x][new_y] == '.' and distance[new_x][new_y] == -1:\n",
    "                    distance[new_x][new_y] = distance[x][y] + 1\n",
    "                    queue.append((new_x, new_y))\n",
    "    return max(map(max, distance))\n",
    "\n",
    "h, w = map(int, input().split())\n",
    "maze = [input() for _ in range(h)]\n",
    "\n",
    "\n",
    "res = -1\n",
    "for i in range(h):\n",
    "    for j in range(w):\n",
    "        if(maze[i][j] == '#'): continue\n",
    "        tmpmaze = copy.deepcopy(maze)\n",
    "        steps = bfs(tmpmaze, [i, j])\n",
    "        if(steps > res):\n",
    "            res = steps\n",
    "print(res)"
   ]
  },
  {
   "cell_type": "code",
   "execution_count": 77,
   "metadata": {},
   "outputs": [
    {
     "name": "stdout",
     "output_type": "stream",
     "text": [
      "2299.9999999999995\n"
     ]
    }
   ],
   "source": [
    "a = 4600\n",
    "b = 0.25\n",
    "\n",
    "res = 0\n",
    "for i in range(100):\n",
    "    \n",
    "    res += a*b\n",
    "    a *= 2\n",
    "    b /= 4\n",
    "print(res)"
   ]
  },
  {
   "cell_type": "code",
   "execution_count": 81,
   "metadata": {},
   "outputs": [
    {
     "data": {
      "text/plain": [
       "19000"
      ]
     },
     "execution_count": 81,
     "metadata": {},
     "output_type": "execute_result"
    }
   ],
   "source": [
    "(9500 + 1900*5)"
   ]
  },
  {
   "cell_type": "code",
   "execution_count": 82,
   "metadata": {},
   "outputs": [
    {
     "data": {
      "text/plain": [
       "32.0"
      ]
     },
     "execution_count": 82,
     "metadata": {},
     "output_type": "execute_result"
    }
   ],
   "source": [
    "608000 / 19000"
   ]
  },
  {
   "cell_type": "code",
   "execution_count": null,
   "metadata": {},
   "outputs": [],
   "source": []
  }
 ],
 "metadata": {
  "kernelspec": {
   "display_name": "Python 3",
   "language": "python",
   "name": "python3"
  },
  "language_info": {
   "codemirror_mode": {
    "name": "ipython",
    "version": 3
   },
   "file_extension": ".py",
   "mimetype": "text/x-python",
   "name": "python",
   "nbconvert_exporter": "python",
   "pygments_lexer": "ipython3",
   "version": "3.6.9"
  }
 },
 "nbformat": 4,
 "nbformat_minor": 4
}
