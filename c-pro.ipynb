{
 "cells": [
  {
   "cell_type": "code",
   "execution_count": 1,
   "metadata": {},
   "outputs": [
    {
     "name": "stdin",
     "output_type": "stream",
     "text": [
      " 3\n",
      " 2 3 1\n"
     ]
    },
    {
     "data": {
      "text/plain": [
       "(3, [2, 3, 1])"
      ]
     },
     "execution_count": 1,
     "metadata": {},
     "output_type": "execute_result"
    }
   ],
   "source": [
    "N = int(input())\n",
    "A = list(map(int, input().split()))\n",
    "N, A"
   ]
  },
  {
   "cell_type": "code",
   "execution_count": 9,
   "metadata": {},
   "outputs": [
    {
     "name": "stdin",
     "output_type": "stream",
     "text": [
      " 3\n",
      " 2 3 1\n"
     ]
    },
    {
     "name": "stdout",
     "output_type": "stream",
     "text": [
      "3 1 2 "
     ]
    }
   ],
   "source": [
    "N, A = 3, [2, 3, 1]\n",
    "\n",
    "N = int(input())\n",
    "A = list(map(int, input().split()))\n",
    "res = [0 for _ in range(N)]\n",
    "\n",
    "for i in range(N):\n",
    "    \n",
    "    res[A[i] - 1] = i + 1\n",
    "\n",
    "for r in res:\n",
    "    print(r, end = ' ')"
   ]
  },
  {
   "cell_type": "code",
   "execution_count": 6,
   "metadata": {},
   "outputs": [
    {
     "data": {
      "text/plain": [
       "'[3, 1, 2]'"
      ]
     },
     "execution_count": 6,
     "metadata": {},
     "output_type": "execute_result"
    }
   ],
   "source": [
    "a = "
   ]
  },
  {
   "cell_type": "code",
   "execution_count": 40,
   "metadata": {},
   "outputs": [],
   "source": [
    "N = 5\n",
    "A = [5, 6, 6, 3, 4]\n",
    "B = [9, 6, 6, 3, 5]\n",
    "C = [7, 5, 1, 7, 7]\n",
    "\n",
    "dp = [[0, 0, 0] for _ in range(N)]"
   ]
  },
  {
   "cell_type": "code",
   "execution_count": 41,
   "metadata": {},
   "outputs": [
    {
     "data": {
      "text/plain": [
       "[[0, 0, 0], [0, 0, 0], [0, 0, 0], [0, 0, 0], [0, 0, 0]]"
      ]
     },
     "execution_count": 41,
     "metadata": {},
     "output_type": "execute_result"
    }
   ],
   "source": [
    "dp"
   ]
  },
  {
   "cell_type": "code",
   "execution_count": 44,
   "metadata": {},
   "outputs": [
    {
     "name": "stdout",
     "output_type": "stream",
     "text": [
      "33\n"
     ]
    }
   ],
   "source": [
    "dp[0][0] = A[0]\n",
    "dp[0][1] = B[0]\n",
    "dp[0][2] = C[0]\n",
    "\n",
    "\n",
    "for i in range(1, N):\n",
    "    \n",
    "    dp[i][0] = max(dp[i - 1][1], dp[i - 1][2]) + A[i]\n",
    "    dp[i][1] = max(dp[i - 1][2], dp[i - 1][0]) + B[i]\n",
    "    dp[i][2] = max(dp[i - 1][0], dp[i - 1][1]) + C[i]\n",
    "\n",
    "print(max(dp[-1]))\n",
    "    \n"
   ]
  },
  {
   "cell_type": "code",
   "execution_count": null,
   "metadata": {},
   "outputs": [],
   "source": [
    "N = int(input())\n",
    "\n",
    "A = [0 for _ in range(N)]\n",
    "B = [0 for _ in range(N)]\n",
    "C = [0 for _ in range(N)]\n",
    "\n",
    "for i in range(N):\n",
    "    A[i], B[i], C[i] = map(int, input().split())\n",
    "\n",
    "dp = [[0, 0, 0] for _ in range(N)]\n",
    "\n",
    "dp[0][0] = A[0]\n",
    "dp[0][1] = B[0]\n",
    "dp[0][2] = C[0]\n",
    "\n",
    "for i in range(1, N):\n",
    "    \n",
    "    dp[i][0] = max(dp[i - 1][1], dp[i - 1][2]) + A[i]\n",
    "    dp[i][1] = max(dp[i - 1][2], dp[i - 1][0]) + B[i]\n",
    "    dp[i][2] = max(dp[i - 1][0], dp[i - 1][1]) + C[i]\n",
    "\n",
    "print(max(dp[-1]))"
   ]
  },
  {
   "cell_type": "code",
   "execution_count": 46,
   "metadata": {},
   "outputs": [
    {
     "name": "stdin",
     "output_type": "stream",
     "text": [
      " 3\n",
      " 10 40 70\n",
      " 20 50 80\n",
      " 30 60 90\n"
     ]
    },
    {
     "name": "stdout",
     "output_type": "stream",
     "text": [
      "210\n"
     ]
    }
   ],
   "source": [
    "N = int(input())\n",
    "\n",
    "A = [0 for _ in range(N)]\n",
    "B = [0 for _ in range(N)]\n",
    "C = [0 for _ in range(N)]\n",
    "\n",
    "for i in range(N):\n",
    "    A[i], B[i], C[i] = map(int, input().split())\n",
    "\n",
    "dp = [[0, 0, 0] for _ in range(N)]\n",
    "\n",
    "dp[0][0] = A[0]\n",
    "dp[0][1] = B[0]\n",
    "dp[0][2] = C[0]\n",
    "\n",
    "for i in range(1, N):\n",
    "    \n",
    "    dp[i][0] = max(dp[i - 1][1], dp[i - 1][2]) + A[i]\n",
    "    dp[i][1] = max(dp[i - 1][2], dp[i - 1][0]) + B[i]\n",
    "    dp[i][2] = max(dp[i - 1][0], dp[i - 1][1]) + C[i]\n",
    "\n",
    "print(max(dp[-1]))"
   ]
  },
  {
   "cell_type": "code",
   "execution_count": 4,
   "metadata": {},
   "outputs": [
    {
     "name": "stdin",
     "output_type": "stream",
     "text": [
      " 3 8\n",
      " 3 30\n",
      " 4 50\n",
      " 5 60\n"
     ]
    },
    {
     "data": {
      "text/plain": [
       "90"
      ]
     },
     "execution_count": 4,
     "metadata": {},
     "output_type": "execute_result"
    }
   ],
   "source": [
    "N, W = map(int, input().split())\n",
    "\n",
    "w = [0 for _ in range(N)]\n",
    "v = [0 for _ in range(N)]\n",
    "\n",
    "for i in range(N): w[i], v[i] = map(int, input().split())\n",
    "\n",
    "dp = [[0 for i in range(W + 1)] for j in range(N + 1)]\n",
    "\n",
    "for i in range(N):\n",
    "    \n",
    "    for sum_w in range(W + 1):\n",
    "        \n",
    "        if(w[i] > sum_w):\n",
    "            dp[i + 1][sum_w] = max(dp[i][sum_w], dp[i + 1][sum_w])\n",
    "        \n",
    "        else:\n",
    "            dp[i + 1][sum_w] = max(dp[i][sum_w], dp[i][sum_w - w[i]] + v[i])\n",
    "            \n",
    "dp[-1][-1]"
   ]
  },
  {
   "cell_type": "code",
   "execution_count": 3,
   "metadata": {},
   "outputs": [
    {
     "data": {
      "text/plain": [
       "[[0, 0, 0, 0, 0, 0, 0, 0, 0, 0, 0, 0, 0, 0, 0, 0],\n",
       " [0, 0, 3, 3, 3, 3, 3, 3, 3, 3, 3, 3, 3, 3, 3, 3],\n",
       " [0, 2, 3, 5, 5, 5, 5, 5, 5, 5, 5, 5, 5, 5, 5, 5],\n",
       " [0, 2, 3, 6, 8, 9, 11, 11, 11, 11, 11, 11, 11, 11, 11, 11],\n",
       " [0, 2, 3, 6, 8, 9, 11, 11, 12, 12, 12, 12, 12, 12, 12, 12],\n",
       " [0, 3, 5, 6, 9, 11, 12, 14, 14, 15, 15, 15, 15, 15, 15, 15],\n",
       " [0, 3, 5, 6, 9, 85, 88, 90, 91, 94, 96, 97, 99, 99, 100, 100]]"
      ]
     },
     "execution_count": 3,
     "metadata": {},
     "output_type": "execute_result"
    }
   ],
   "source": [
    "dp"
   ]
  },
  {
   "cell_type": "code",
   "execution_count": 5,
   "metadata": {},
   "outputs": [
    {
     "data": {
      "text/plain": [
       "[[0, 0, 0, 0, 0, 0, 0, 0, 0],\n",
       " [0, 0, 0, 30, 30, 30, 30, 30, 30],\n",
       " [0, 0, 0, 30, 50, 50, 50, 80, 80],\n",
       " [0, 0, 0, 30, 50, 60, 60, 80, 90]]"
      ]
     },
     "execution_count": 5,
     "metadata": {},
     "output_type": "execute_result"
    }
   ],
   "source": [
    "dp\n"
   ]
  },
  {
   "cell_type": "code",
   "execution_count": 31,
   "metadata": {},
   "outputs": [
    {
     "name": "stdout",
     "output_type": "stream",
     "text": [
      "[0, 5, 4, 2, 1000000000.0, 1000000000.0]\n",
      "5 1\n",
      "[0, 5, 4, 2, 1000000000.0, 1000000000.0]\n",
      "4 2\n",
      "[0, 5, 4, 2, 1000000000.0, 1000000000.0]\n",
      "[0, 5, 4, 2, 8, 1000000000.0]\n",
      "[0, 5, 4, 2, 8, 1000000000.0]\n",
      "5 1\n",
      "[0, 5, 4, 2, 8, 1000000000.0]\n",
      "[0, 5, 4, 2, 6, 1000000000.0]\n",
      "[0, 5, 4, 2, 6, 1000000000.0]\n",
      "[0, 5, 4, 2, 6, 1000000000.0]\n",
      "6 4\n",
      "[0, 5, 4, 2, 6, 1000000000.0]\n",
      "[0, 5, 4, 2, 6, 11]\n",
      "[0, 5, 4, 2, 6, 11]\n",
      "11 5\n",
      "[0, 5, 4, 2, 6, 10]\n",
      "10 5\n"
     ]
    }
   ],
   "source": [
    "node_list = [[0, 5, 4, 2, 0, 0], [5, 0, 2, 0, 0, 6], [4, 2, 0, 3, 2, 0], [2, 0, 3, 0, 6, 0], [0, 0, 2, 6, 0, 4], [0, 6, 0, 0, 4, 0]]\n",
    "node_num = len(node_list)\n",
    "dp = [1e9 for _ in range(node_num)]\n",
    "isconf = [False for _ in range(node_num)]\n",
    "dp[0] = 0\n",
    "isconf[0] = True\n",
    "\n",
    "i = 0\n",
    "min_value = 1e9\n",
    "min_idx = 0\n",
    "for j in range(node_num):\n",
    "    if(node_list[i][j] == 0): continue\n",
    "    dp[j] = min(dp[i] + node_list[i][j], dp[j])\n",
    "    if(dp[j] < min_value):\n",
    "        min_value = dp[j]\n",
    "        min_idx = j\n",
    "            \n",
    "isconf[min_idx] = True\n",
    "\n",
    "\n",
    "while(sum(isconf) < 6):\n",
    "    min_value = 1e9\n",
    "    for i in range(node_num):\n",
    "        if(isconf[i] is True): continue\n",
    "        for j in range(node_num):\n",
    "            if(node_list[i][j] == 0): continue\n",
    "            if(isconf[j] is True):\n",
    "                dp[i] = min(dp[i], dp[j] + node_list[i][j])\n",
    "                print(dp)\n",
    "                if(dp[i] < min_value):\n",
    "                    min_value = dp[i]\n",
    "                    min_index = i\n",
    "                    print(min_value, min_index)\n",
    "    isconf[min_index] = True\n",
    "    "
   ]
  },
  {
   "cell_type": "code",
   "execution_count": 2,
   "metadata": {},
   "outputs": [
    {
     "data": {
      "text/plain": [
       "array([[0, 5, 4, 2, 0, 0],\n",
       "       [5, 0, 2, 0, 0, 6],\n",
       "       [4, 2, 0, 3, 2, 0],\n",
       "       [2, 0, 3, 0, 6, 0],\n",
       "       [0, 0, 2, 6, 0, 4],\n",
       "       [0, 6, 0, 0, 4, 0]])"
      ]
     },
     "execution_count": 2,
     "metadata": {},
     "output_type": "execute_result"
    }
   ],
   "source": [
    "import numpy as np\n",
    "np.array(node_list)"
   ]
  },
  {
   "cell_type": "code",
   "execution_count": 30,
   "metadata": {},
   "outputs": [
    {
     "data": {
      "text/plain": [
       "([0, 5, 4, 2, 6, 10], [True, True, True, True, True, True])"
      ]
     },
     "execution_count": 30,
     "metadata": {},
     "output_type": "execute_result"
    }
   ],
   "source": [
    "dp, isconf"
   ]
  },
  {
   "cell_type": "code",
   "execution_count": 16,
   "metadata": {},
   "outputs": [
    {
     "data": {
      "text/plain": [
       "1"
      ]
     },
     "execution_count": 16,
     "metadata": {},
     "output_type": "execute_result"
    }
   ],
   "source": []
  },
  {
   "cell_type": "code",
   "execution_count": 32,
   "metadata": {},
   "outputs": [
    {
     "name": "stdout",
     "output_type": "stream",
     "text": [
      "[0, 5, 4, 2, 1000000000.0, 1000000000.0]\n",
      "5 1\n",
      "[0, 5, 4, 2, 1000000000.0, 1000000000.0]\n",
      "4 2\n",
      "[0, 5, 4, 2, 1000000000.0, 1000000000.0]\n",
      "[0, 5, 4, 2, 8, 1000000000.0]\n",
      "[0, 5, 4, 2, 8, 1000000000.0]\n",
      "5 1\n",
      "[0, 5, 4, 2, 8, 1000000000.0]\n",
      "[0, 5, 4, 2, 6, 1000000000.0]\n",
      "[0, 5, 4, 2, 6, 1000000000.0]\n",
      "[0, 5, 4, 2, 6, 1000000000.0]\n",
      "6 4\n",
      "[0, 5, 4, 2, 6, 1000000000.0]\n",
      "[0, 5, 4, 2, 6, 11]\n",
      "[0, 5, 4, 2, 6, 11]\n",
      "11 5\n",
      "[0, 5, 4, 2, 6, 10]\n",
      "10 5\n"
     ]
    }
   ],
   "source": [
    "node_list = [[0, 5, 4, 2, 0, 0], [5, 0, 2, 0, 0, 6], [4, 2, 0, 3, 2, 0], [2, 0, 3, 0, 6, 0], [0, 0, 2, 6, 0, 4], [0, 6, 0, 0, 4, 0]] #隣接ノードへのコスト\n",
    "node_num = len(node_list) #ノード数\n",
    "dp = [1e9 for _ in range(node_num)] #dpテーブル：iノードへ行く最短コストを更新\n",
    "isconf = [False for _ in range(node_num)] #コストが確定するとTrueになるフラグ行列\n",
    "dp[0] = 0 #スタート位置は確定なので0\n",
    "isconf[0] = True #スタート位置は確定なのでTrue\n",
    "\n",
    "i = 0 #i=0：スタートノードのみ「自分から出るコスト」を考える\n",
    "min_value = 1e9 #最小のコストを見つけるための変数。1e9で初期化\n",
    "min_idx = 0 #その時のindexがほしい\n",
    "for j in range(node_num):\n",
    "    if(node_list[i][j] == 0): continue #node_listが0なのは自分かつながってないノードなのでcontinue\n",
    "    dp[j] = min(dp[i] + node_list[i][j], dp[j]) #dp[i]=0だからあんまり意味ないけどdpぽい表記\n",
    "    if(dp[j] < min_value): #スタートノードから伸びる最小コストを探す\n",
    "        min_value = dp[j]\n",
    "        min_idx = j\n",
    "            \n",
    "isconf[min_idx] = True #そのときにノードは別経路が低コストなことが絶対ないので確定する\n",
    "\n",
    "#ここからダイクストラ法\n",
    "while(sum(isconf) < node_num): #全部が確定ノードになるまでループ\n",
    "    min_value = 1e9 #「未確定ノードのうち最小コストが確定」がダイクストラ法の核で、それを実装するためmin_valueを初期化\n",
    "    for i in range(node_num): #今回は「i番目に来るためのコスト」を考える（i=0と逆）\n",
    "        if(isconf[i]): continue #確定ノードは更新の必要がないためスキップ\n",
    "        for j in range(node_num):\n",
    "            if(node_list[i][j] == 0): continue #node_listが0なのは自分かつながってないノードなのでcontinue\n",
    "            if(isconf[j]): #「確定ノードからのコストのみ計算」これもダイクストラ法の核\n",
    "                dp[i] = min(dp[i], dp[j] + node_list[i][j]) #暫定最小コストdp[i]とつながったノードからの移動の小さい方を格納\n",
    "                print(dp) #デバッグ\n",
    "                if(dp[i] < min_value): #扱われたコストのうち最小のものを探したいのでこのタイミングで分岐（どうせ更新が起きる時しか最小コストも更新されない）\n",
    "                    min_value = dp[i]\n",
    "                    min_index = i\n",
    "                    print(min_value, min_index)\n",
    "    isconf[min_index] = True #最小のものを確定ノードにする （仮に最小がなくても前のidxが入りっぱなしなのでバグは起きない）\n",
    "    "
   ]
  },
  {
   "cell_type": "code",
   "execution_count": 33,
   "metadata": {},
   "outputs": [
    {
     "name": "stdout",
     "output_type": "stream",
     "text": [
      "/Users/johann/Desktop/c-pro\n"
     ]
    }
   ],
   "source": [
    "!pwd"
   ]
  },
  {
   "cell_type": "code",
   "execution_count": 34,
   "metadata": {},
   "outputs": [
    {
     "name": "stdout",
     "output_type": "stream",
     "text": [
      "\u001b[31m#1 カントリー_mix_final_mastered.wav\u001b[m\u001b[m\n",
      "ABC145_D.cpp\n",
      "\u001b[1m\u001b[36mAtCoder\u001b[m\u001b[m\n",
      "README.md\n",
      "\u001b[31ma.out\u001b[m\u001b[m\n",
      "c-pro.ipynb\n",
      "forQiita.cpp\n",
      "tempCodeRunnerFile.cpp\n"
     ]
    }
   ],
   "source": [
    "!ls"
   ]
  },
  {
   "cell_type": "code",
   "execution_count": 37,
   "metadata": {},
   "outputs": [],
   "source": []
  },
  {
   "cell_type": "code",
   "execution_count": 38,
   "metadata": {},
   "outputs": [
    {
     "data": {
      "text/plain": [
       "(11383796, 2)"
      ]
     },
     "execution_count": 38,
     "metadata": {},
     "output_type": "execute_result"
    }
   ],
   "source": [
    "wave.shape"
   ]
  },
  {
   "cell_type": "code",
   "execution_count": 40,
   "metadata": {},
   "outputs": [
    {
     "data": {
      "text/plain": [
       "44100"
      ]
     },
     "execution_count": 40,
     "metadata": {},
     "output_type": "execute_result"
    }
   ],
   "source": [
    "fs"
   ]
  },
  {
   "cell_type": "code",
   "execution_count": 42,
   "metadata": {},
   "outputs": [
    {
     "data": {
      "text/plain": [
       "array([[0.45974731, 0.41723633],\n",
       "       [0.52310181, 0.58374023],\n",
       "       [0.54562378, 0.69726562],\n",
       "       [0.53985596, 0.66030884],\n",
       "       [0.51858521, 0.54602051],\n",
       "       [0.5189209 , 0.51773071],\n",
       "       [0.56072998, 0.52062988],\n",
       "       [0.57958984, 0.52938843],\n",
       "       [0.60583496, 0.52545166],\n",
       "       [0.61004639, 0.52325439]])"
      ]
     },
     "execution_count": 42,
     "metadata": {},
     "output_type": "execute_result"
    }
   ],
   "source": [
    "s = 100000\n",
    "wave[s:s+10]"
   ]
  },
  {
   "cell_type": "code",
   "execution_count": 43,
   "metadata": {},
   "outputs": [],
   "source": [
    "import pandas as pd\n",
    "wave_pd = pd.DataFrame(wave)"
   ]
  },
  {
   "cell_type": "code",
   "execution_count": 44,
   "metadata": {},
   "outputs": [
    {
     "data": {
      "text/html": [
       "<div>\n",
       "<style scoped>\n",
       "    .dataframe tbody tr th:only-of-type {\n",
       "        vertical-align: middle;\n",
       "    }\n",
       "\n",
       "    .dataframe tbody tr th {\n",
       "        vertical-align: top;\n",
       "    }\n",
       "\n",
       "    .dataframe thead th {\n",
       "        text-align: right;\n",
       "    }\n",
       "</style>\n",
       "<table border=\"1\" class=\"dataframe\">\n",
       "  <thead>\n",
       "    <tr style=\"text-align: right;\">\n",
       "      <th></th>\n",
       "      <th>0</th>\n",
       "      <th>1</th>\n",
       "    </tr>\n",
       "  </thead>\n",
       "  <tbody>\n",
       "    <tr>\n",
       "      <td>0</td>\n",
       "      <td>0.0</td>\n",
       "      <td>0.0</td>\n",
       "    </tr>\n",
       "    <tr>\n",
       "      <td>1</td>\n",
       "      <td>0.0</td>\n",
       "      <td>0.0</td>\n",
       "    </tr>\n",
       "    <tr>\n",
       "      <td>2</td>\n",
       "      <td>0.0</td>\n",
       "      <td>0.0</td>\n",
       "    </tr>\n",
       "    <tr>\n",
       "      <td>3</td>\n",
       "      <td>0.0</td>\n",
       "      <td>0.0</td>\n",
       "    </tr>\n",
       "    <tr>\n",
       "      <td>4</td>\n",
       "      <td>0.0</td>\n",
       "      <td>0.0</td>\n",
       "    </tr>\n",
       "  </tbody>\n",
       "</table>\n",
       "</div>"
      ],
      "text/plain": [
       "     0    1\n",
       "0  0.0  0.0\n",
       "1  0.0  0.0\n",
       "2  0.0  0.0\n",
       "3  0.0  0.0\n",
       "4  0.0  0.0"
      ]
     },
     "execution_count": 44,
     "metadata": {},
     "output_type": "execute_result"
    }
   ],
   "source": [
    "wave_pd.head()"
   ]
  },
  {
   "cell_type": "code",
   "execution_count": null,
   "metadata": {},
   "outputs": [],
   "source": [
    "sf.read()"
   ]
  },
  {
   "cell_type": "code",
   "execution_count": 63,
   "metadata": {},
   "outputs": [
    {
     "name": "stdin",
     "output_type": "stream",
     "text": [
      " 4\n"
     ]
    },
    {
     "name": "stdout",
     "output_type": "stream",
     "text": [
      "4\n"
     ]
    }
   ],
   "source": [
    "def d(num):\n",
    "    if(num%2==0): return num/2\n",
    "    else: return num*3 + 1\n",
    "\n",
    "s = int(input())\n",
    "nextn = d(s)\n",
    "nums = set()\n",
    "nums.add(nextn)\n",
    "res = 3\n",
    "\n",
    "while(1):\n",
    "    nextn = d(nextn)\n",
    "    if(nextn in nums):break\n",
    "    else: \n",
    "        res += 1\n",
    "        nums.add(nextn)\n",
    "if(s in [1, 2, 4]): print(4)\n",
    "else: print(res)"
   ]
  },
  {
   "cell_type": "code",
   "execution_count": 14,
   "metadata": {},
   "outputs": [
    {
     "name": "stdin",
     "output_type": "stream",
     "text": [
      " 6\n",
      " khabarovsk 20\n",
      " moscow 10\n",
      " kazan 50\n",
      " kazan 35\n",
      " moscow 60\n",
      " khabarovsk 40\n"
     ]
    },
    {
     "name": "stdout",
     "output_type": "stream",
     "text": [
      "4\n",
      "3\n",
      "1\n",
      "6\n",
      "2\n",
      "5\n"
     ]
    }
   ],
   "source": [
    "n = int(input())\n",
    "guide = []\n",
    "for i in range(n):\n",
    "    s, p = input().split()\n",
    "    guide.append([s, int(p), i+1])\n",
    "\n",
    "for g in sorted(sorted(guide, key = lambda x: x[1], reverse = True), key = lambda x: x[0]):\n",
    "    print(g[2])"
   ]
  },
  {
   "cell_type": "code",
   "execution_count": 13,
   "metadata": {},
   "outputs": [
    {
     "data": {
      "text/plain": [
       "[['kazan', 50, 2],\n",
       " ['kazan', 35, 3],\n",
       " ['khabarovsk', 40, 5],\n",
       " ['khabarovsk', 20, 0],\n",
       " ['moscow', 60, 4],\n",
       " ['moscow', 10, 1]]"
      ]
     },
     "execution_count": 13,
     "metadata": {},
     "output_type": "execute_result"
    }
   ],
   "source": [
    "sorted(sorted(guide, key = lambda x: x[1], reverse = True), key = lambda x: x[0])"
   ]
  },
  {
   "cell_type": "code",
   "execution_count": 18,
   "metadata": {},
   "outputs": [
    {
     "data": {
      "text/plain": [
       "1"
      ]
     },
     "execution_count": 18,
     "metadata": {},
     "output_type": "execute_result"
    }
   ],
   "source": [
    "c = 'b'\n",
    "ord(c) - ord('a')"
   ]
  },
  {
   "cell_type": "code",
   "execution_count": 21,
   "metadata": {},
   "outputs": [
    {
     "name": "stdin",
     "output_type": "stream",
     "text": [
      " 5\n",
      " abaaaaaaaa\n",
      " oneplustwo\n",
      " aaaaaaaaba\n",
      " twoplusone\n",
      " aaaabaaaaa\n"
     ]
    },
    {
     "name": "stdout",
     "output_type": "stream",
     "text": [
      "4\n"
     ]
    }
   ],
   "source": [
    "n = int(input())\n",
    "#bucket = [[0 for _ in range(26)] for _ in range(n)]\n",
    "ana_map = {}\n",
    "for i in range(n):\n",
    "    s = input()\n",
    "    bucket = [0 for _ in range(26)]\n",
    "    \n",
    "    for c in s:\n",
    "        bucket[ord(c) - ord('a')] += 1\n",
    "    \n",
    "    if(ana_map.get(str(bucket)) is None): ana_map[str(bucket)] = 1\n",
    "    else: ana_map[str(bucket)] += 1\n",
    "\n",
    "res = 0\n",
    "for key in ana_map.keys():\n",
    "    res += ana_map[key] * (ana_map[key]-1) / 2\n",
    "print(int(res))"
   ]
  },
  {
   "cell_type": "code",
   "execution_count": 22,
   "metadata": {},
   "outputs": [
    {
     "data": {
      "text/plain": [
       "{'[9, 1, 0, 0, 0, 0, 0, 0, 0, 0, 0, 0, 0, 0, 0, 0, 0, 0, 0, 0, 0, 0, 0, 0, 0, 0]': 3,\n",
       " '[0, 0, 0, 0, 1, 0, 0, 0, 0, 0, 0, 1, 0, 1, 2, 1, 0, 0, 1, 1, 1, 0, 1, 0, 0, 0]': 2}"
      ]
     },
     "execution_count": 22,
     "metadata": {},
     "output_type": "execute_result"
    }
   ],
   "source": [
    "ana_map"
   ]
  },
  {
   "cell_type": "code",
   "execution_count": 24,
   "metadata": {},
   "outputs": [
    {
     "ename": "KeyboardInterrupt",
     "evalue": "",
     "output_type": "error",
     "traceback": [
      "\u001b[0;31m---------------------------------------------------------------------------\u001b[0m",
      "\u001b[0;31mKeyboardInterrupt\u001b[0m                         Traceback (most recent call last)",
      "\u001b[0;32m<ipython-input-24-93f025607015>\u001b[0m in \u001b[0;36m<module>\u001b[0;34m\u001b[0m\n\u001b[1;32m      2\u001b[0m \u001b[0mres\u001b[0m \u001b[0;34m=\u001b[0m \u001b[0mn\u001b[0m\u001b[0;34m\u001b[0m\u001b[0;34m\u001b[0m\u001b[0m\n\u001b[1;32m      3\u001b[0m \u001b[0;32mwhile\u001b[0m\u001b[0;34m(\u001b[0m\u001b[0mres\u001b[0m\u001b[0;34m>\u001b[0m\u001b[0;36m1\u001b[0m\u001b[0;34m)\u001b[0m\u001b[0;34m:\u001b[0m\u001b[0;34m\u001b[0m\u001b[0;34m\u001b[0m\u001b[0m\n\u001b[0;32m----> 4\u001b[0;31m     \u001b[0mres\u001b[0m \u001b[0;34m*=\u001b[0m \u001b[0mres\u001b[0m\u001b[0;34m-\u001b[0m\u001b[0;36m2\u001b[0m\u001b[0;34m\u001b[0m\u001b[0;34m\u001b[0m\u001b[0m\n\u001b[0m\u001b[1;32m      5\u001b[0m     \u001b[0mres\u001b[0m \u001b[0;34m-=\u001b[0m \u001b[0;36m2\u001b[0m\u001b[0;34m\u001b[0m\u001b[0;34m\u001b[0m\u001b[0m\n\u001b[1;32m      6\u001b[0m \u001b[0mres\u001b[0m\u001b[0;34m\u001b[0m\u001b[0;34m\u001b[0m\u001b[0m\n",
      "\u001b[0;31mKeyboardInterrupt\u001b[0m: "
     ]
    }
   ],
   "source": [
    "n = 10\n",
    "res = n\n",
    "while(res>1):\n",
    "    res *= res-2\n",
    "    res -= 2\n",
    "res"
   ]
  },
  {
   "cell_type": "code",
   "execution_count": 25,
   "metadata": {},
   "outputs": [
    {
     "data": {
      "text/plain": [
       "8136038400"
      ]
     },
     "execution_count": 25,
     "metadata": {},
     "output_type": "execute_result"
    }
   ],
   "source": [
    "100 * 98 * 96 * 94 * 92"
   ]
  },
  {
   "cell_type": "code",
   "execution_count": 26,
   "metadata": {},
   "outputs": [
    {
     "data": {
      "text/plain": [
       "64437424128000"
      ]
     },
     "execution_count": 26,
     "metadata": {},
     "output_type": "execute_result"
    }
   ],
   "source": [
    "100 * 98 * 96 * 94 * 92 * 90 * 88"
   ]
  },
  {
   "cell_type": "code",
   "execution_count": 133,
   "metadata": {},
   "outputs": [
    {
     "name": "stdout",
     "output_type": "stream",
     "text": [
      "5 200000000000000000\n",
      "25 40000000000000000\n",
      "125 8000000000000000\n",
      "625 1600000000000000\n",
      "3125 320000000000000\n",
      "15625 64000000000000\n",
      "78125 12800000000000\n",
      "390625 2560000000000\n",
      "1953125 512000000000\n",
      "9765625 102400000000\n",
      "48828125 20480000000\n",
      "244140625 4096000000\n",
      "1220703125 819200000\n",
      "6103515625 163840000\n",
      "30517578125 32768000\n",
      "152587890625 6553600\n",
      "762939453125 1310720\n",
      "3814697265625 262144\n",
      "19073486328125 52428\n",
      "95367431640625 10485\n",
      "476837158203125 2097\n",
      "2384185791015625 419\n",
      "11920928955078125 83\n",
      "59604644775390625 16\n",
      "298023223876953125 3\n",
      "1490116119384765625 0\n",
      "10 100000000000000000\n",
      "100 10000000000000000\n",
      "1000 1000000000000000\n",
      "10000 100000000000000\n",
      "100000 10000000000000\n",
      "1000000 1000000000000\n",
      "10000000 100000000000\n",
      "100000000 10000000000\n",
      "1000000000 1000000000\n",
      "10000000000 100000000\n",
      "100000000000 10000000\n",
      "1000000000000 1000000\n",
      "10000000000000 100000\n",
      "100000000000000 10000\n",
      "1000000000000000 1000\n",
      "10000000000000000 100\n",
      "100000000000000000 10\n",
      "1000000000000000000 1\n",
      "10000000000000000000 0\n",
      "50 14000000000000000\n",
      "2500 280000000000000\n",
      "125000 5600000000000\n",
      "6250000 112000000000\n",
      "312500000 2240000000\n",
      "15625000000 44800000\n",
      "781250000000 896000\n",
      "39062500000000 17920\n",
      "1953125000000000 359\n",
      "97656250000000000 7\n",
      "4882812500000000000 0\n"
     ]
    },
    {
     "data": {
      "text/plain": [
       "249999999999999995"
      ]
     },
     "execution_count": 133,
     "metadata": {},
     "output_type": "execute_result"
    }
   ],
   "source": [
    "n = 1000000000000000000\n",
    "res = 0\n",
    "\n",
    "for i in range(1, 27):\n",
    "    bottom5 = 5 ** i\n",
    "    res += n//bottom5\n",
    "    print(bottom5, n//bottom5)\n",
    "\n",
    "for i in range(1, 20):\n",
    "    bottom10 = 10 ** i\n",
    "    #res += n//bottom10\n",
    "    print(bottom10, n//bottom10)\n",
    "\n",
    "for i in range(1, 12):\n",
    "    bottom50 = 50 ** i\n",
    "#     res += n//bottom50\n",
    "#     for j in range(1, 12):\n",
    "#          res -= n//(bottom50*(j*5))\n",
    "    print(bottom50, n//bottom50 - (n//(bottom50*5)) - (n//(bottom50*10)))\n",
    "\n",
    "res"
   ]
  },
  {
   "cell_type": "code",
   "execution_count": 87,
   "metadata": {},
   "outputs": [],
   "source": [
    "def double_fac(n):\n",
    "    res = n\n",
    "    while 1:\n",
    "        if(n<=2):break\n",
    "        res *= n-2\n",
    "        n -= 2\n",
    "        #print(n, res)\n",
    "    return res"
   ]
  },
  {
   "cell_type": "code",
   "execution_count": 126,
   "metadata": {},
   "outputs": [
    {
     "name": "stdout",
     "output_type": "stream",
     "text": [
      "12\n"
     ]
    }
   ],
   "source": [
    "n=100\n",
    "\n",
    "cnt = 0\n",
    "for s in str(double_fac(n))[::-1]:\n",
    "    if s == '0': cnt+= 1\n",
    "    else: break\n",
    "print(cnt)"
   ]
  },
  {
   "cell_type": "code",
   "execution_count": 134,
   "metadata": {},
   "outputs": [],
   "source": [
    "#double_fac(248)"
   ]
  },
  {
   "cell_type": "code",
   "execution_count": 135,
   "metadata": {},
   "outputs": [],
   "source": [
    "def gcd(a, b):\n",
    "    while(a%b != 0):\n",
    "        tmp = b\n",
    "        b = a%b\n",
    "        a = tmp\n",
    "    return b"
   ]
  },
  {
   "cell_type": "code",
   "execution_count": 141,
   "metadata": {},
   "outputs": [
    {
     "data": {
      "text/plain": [
       "6"
      ]
     },
     "execution_count": 141,
     "metadata": {},
     "output_type": "execute_result"
    }
   ],
   "source": [
    "gcd(gcd(12, 18), 18)"
   ]
  },
  {
   "cell_type": "code",
   "execution_count": 143,
   "metadata": {},
   "outputs": [
    {
     "data": {
      "text/plain": [
       "12"
      ]
     },
     "execution_count": 143,
     "metadata": {},
     "output_type": "execute_result"
    }
   ],
   "source": [
    "gcd(0, 12)"
   ]
  },
  {
   "cell_type": "code",
   "execution_count": 144,
   "metadata": {},
   "outputs": [
    {
     "data": {
      "text/plain": [
       "'te'"
      ]
     },
     "execution_count": 144,
     "metadata": {},
     "output_type": "execute_result"
    }
   ],
   "source": [
    "'test'[:2]"
   ]
  },
  {
   "cell_type": "code",
   "execution_count": 149,
   "metadata": {},
   "outputs": [
    {
     "name": "stdin",
     "output_type": "stream",
     "text": [
      " 8 3\n",
      " ACACTACG\n",
      " 3 7\n"
     ]
    },
    {
     "name": "stdout",
     "output_type": "stream",
     "text": [
      "2\n"
     ]
    },
    {
     "name": "stdin",
     "output_type": "stream",
     "text": [
      " 2 3\n"
     ]
    },
    {
     "name": "stdout",
     "output_type": "stream",
     "text": [
      "0\n"
     ]
    },
    {
     "name": "stdin",
     "output_type": "stream",
     "text": [
      " 1 8\n"
     ]
    },
    {
     "name": "stdout",
     "output_type": "stream",
     "text": [
      "3\n"
     ]
    }
   ],
   "source": [
    "n, q = map(int, input().split())\n",
    "s = input()\n",
    "dp = [0 for _ in range(len(s))]\n",
    "\n",
    "for i in range(1, len(s)):\n",
    "    if(s[i-1: i+1] == 'AC'): dp[i] = dp[i-1] + 1\n",
    "    else: dp[i] = dp[i-1]\n",
    "\n",
    "for _ in range(q):\n",
    "    l, r = map(int, input().split())\n",
    "    print(dp[r-1] - dp[l-1])"
   ]
  },
  {
   "cell_type": "code",
   "execution_count": 146,
   "metadata": {},
   "outputs": [
    {
     "data": {
      "text/plain": [
       "'CA'"
      ]
     },
     "execution_count": 146,
     "metadata": {},
     "output_type": "execute_result"
    }
   ],
   "source": [
    "s[1: 3]"
   ]
  },
  {
   "cell_type": "code",
<<<<<<< HEAD
<<<<<<< HEAD
   "execution_count": 1,
   "metadata": {},
   "outputs": [
    {
     "data": {
      "text/plain": [
       "True"
      ]
     },
     "execution_count": 1,
     "metadata": {},
     "output_type": "execute_result"
    }
   ],
   "source": [
    "'A' < 'B'"
   ]
  },
  {
   "cell_type": "code",
=======
>>>>>>> 3f7354c5752c36a6a38a86a6e5e2dab272dd624f
=======
>>>>>>> 3f7354c5752c36a6a38a86a6e5e2dab272dd624f
   "execution_count": 2,
   "metadata": {},
   "outputs": [
    {
<<<<<<< HEAD
<<<<<<< HEAD
     "data": {
      "text/plain": [
       "False"
      ]
     },
     "execution_count": 2,
     "metadata": {},
     "output_type": "execute_result"
    }
   ],
   "source": [
    "'A' > 'B'"
   ]
  },
  {
   "cell_type": "code",
   "execution_count": 4,
   "metadata": {},
   "outputs": [
    {
     "data": {
      "text/plain": [
       "True"
      ]
     },
     "execution_count": 4,
     "metadata": {},
     "output_type": "execute_result"
    }
   ],
   "source": [
    "'A' == 'A'"
   ]
  },
  {
   "cell_type": "code",
   "execution_count": 5,
   "metadata": {},
   "outputs": [
    {
     "ename": "TypeError",
     "evalue": "an integer is required (got type str)",
     "output_type": "error",
     "traceback": [
      "\u001b[0;31m---------------------------------------------------------------------------\u001b[0m",
      "\u001b[0;31mTypeError\u001b[0m                                 Traceback (most recent call last)",
      "\u001b[0;32m<ipython-input-5-f75cfc1bae01>\u001b[0m in \u001b[0;36m<module>\u001b[0;34m\u001b[0m\n\u001b[0;32m----> 1\u001b[0;31m \u001b[0mchr\u001b[0m\u001b[0;34m(\u001b[0m\u001b[0;34m'A'\u001b[0m\u001b[0;34m)\u001b[0m\u001b[0;34m\u001b[0m\u001b[0;34m\u001b[0m\u001b[0m\n\u001b[0m",
      "\u001b[0;31mTypeError\u001b[0m: an integer is required (got type str)"
     ]
    }
   ],
   "source": [
    "('A')"
   ]
  },
  {
   "cell_type": "code",
   "execution_count": 8,
   "metadata": {},
   "outputs": [
    {
     "data": {
      "text/plain": [
       "'L'"
      ]
     },
     "execution_count": 8,
     "metadata": {},
     "output_type": "execute_result"
    }
   ],
   "source": [
    "chr(66 + 10) "
   ]
  },
  {
   "cell_type": "code",
   "execution_count": 10,
   "metadata": {},
   "outputs": [
    {
     "data": {
      "text/plain": [
       "'K'"
      ]
     },
     "execution_count": 10,
     "metadata": {},
     "output_type": "execute_result"
    }
   ],
   "source": [
    "chr(ord('A') + 10)"
   ]
  },
  {
   "cell_type": "code",
   "execution_count": 13,
   "metadata": {},
   "outputs": [
    {
     "name": "stdin",
     "output_type": "stream",
     "text": [
      " F F\n"
     ]
    },
    {
     "name": "stdout",
     "output_type": "stream",
     "text": [
      "=\n"
     ]
    }
   ],
   "source": [
    "x, y = input().split()\n",
    "\n",
    "if(x<=y):\n",
    "    if(x==y): print(\"=\")\n",
    "    else: print(\"<\")\n",
    "else: print(\">\")"
   ]
  },
  {
   "cell_type": "code",
   "execution_count": 19,
   "metadata": {},
   "outputs": [
    {
     "name": "stdin",
     "output_type": "stream",
     "text": [
      " 64145 123 456\n"
     ]
    },
    {
     "name": "stdout",
     "output_type": "stream",
     "text": [
      "109\n"
     ]
    }
   ],
   "source": [
    "x, y, z = map(int, input().split())\n",
    "res = (x-z) // (y+z)\n",
    "print(res)"
   ]
  },
  {
   "cell_type": "code",
   "execution_count": 24,
   "metadata": {},
   "outputs": [
    {
     "name": "stdin",
     "output_type": "stream",
     "text": [
      " akasakaakasakasakaakas\n"
     ]
    },
    {
     "name": "stdout",
     "output_type": "stream",
     "text": [
      "14\n"
     ]
    }
   ],
   "source": [
    "s = list(input())\n",
    "\n",
    "s.pop()\n",
    "\n",
    "while(1):\n",
    "    l = len(s)//2\n",
    "    if(s[:l] == s[l:]): break\n",
    "    s.pop()\n",
    "\n",
    "print(len(s))"
   ]
  },
  {
   "cell_type": "code",
   "execution_count": 33,
   "metadata": {},
   "outputs": [
    {
     "name": "stdin",
     "output_type": "stream",
     "text": [
      " xxxx\n"
     ]
    },
    {
     "name": "stdout",
     "output_type": "stream",
     "text": [
      "2\n"
     ]
    }
   ],
   "source": [
    "def is_ss(s):\n",
    "    if(len(s)%2): return False\n",
    "    \n",
    "    l = int(len(s)/2)\n",
    "    for i in range(l):\n",
    "        if(s[i] != s[i+l]): return False\n",
    "    \n",
    "    return True\n",
    "\n",
    "s = input()\n",
    "\n",
    "res = len(s)-1\n",
    "for i in range(1, len(s)):\n",
    "    substr = s[:len(s)-i]\n",
    "    \n",
    "    if(is_ss(substr)):break\n",
    "    else: res -= 1\n",
    "print(res)  "
   ]
  },
  {
   "cell_type": "code",
   "execution_count": 28,
   "metadata": {},
   "outputs": [
    {
     "data": {
      "text/plain": [
       "'te'"
      ]
     },
     "execution_count": 28,
=======
=======
>>>>>>> 3f7354c5752c36a6a38a86a6e5e2dab272dd624f
     "name": "stdin",
     "output_type": "stream",
     "text": [
      " 2 3\n",
      " 1 32\n",
      " 2 63\n",
      " 1 12\n"
     ]
    },
    {
     "data": {
      "text/plain": [
       "[[1, 32, 0], [2, 63, 1], [1, 12, 2]]"
      ]
     },
     "execution_count": 2,
<<<<<<< HEAD
>>>>>>> 3f7354c5752c36a6a38a86a6e5e2dab272dd624f
=======
>>>>>>> 3f7354c5752c36a6a38a86a6e5e2dab272dd624f
     "metadata": {},
     "output_type": "execute_result"
    }
   ],
   "source": [
<<<<<<< HEAD
<<<<<<< HEAD
    "s='test'\n",
    "s[:len(s)-2]"
=======
=======
>>>>>>> 3f7354c5752c36a6a38a86a6e5e2dab272dd624f
    "n, m = map(int, input().split())\n",
    "ids = []\n",
    "for i in range(m):\n",
    "    p, y = map(int, input().split())\n",
    "    ids.append([p, y, i])\n",
    "ids"
<<<<<<< HEAD
>>>>>>> 3f7354c5752c36a6a38a86a6e5e2dab272dd624f
=======
>>>>>>> 3f7354c5752c36a6a38a86a6e5e2dab272dd624f
   ]
  },
  {
   "cell_type": "code",
<<<<<<< HEAD
<<<<<<< HEAD
   "execution_count": 30,
=======
   "execution_count": 4,
>>>>>>> 3f7354c5752c36a6a38a86a6e5e2dab272dd624f
=======
   "execution_count": 4,
>>>>>>> 3f7354c5752c36a6a38a86a6e5e2dab272dd624f
   "metadata": {},
   "outputs": [
    {
     "data": {
      "text/plain": [
<<<<<<< HEAD
<<<<<<< HEAD
       "22"
      ]
     },
     "execution_count": 30,
=======
=======
>>>>>>> 3f7354c5752c36a6a38a86a6e5e2dab272dd624f
       "[[1, 12, 2], [1, 32, 0], [2, 63, 1]]"
      ]
     },
     "execution_count": 4,
<<<<<<< HEAD
>>>>>>> 3f7354c5752c36a6a38a86a6e5e2dab272dd624f
=======
>>>>>>> 3f7354c5752c36a6a38a86a6e5e2dab272dd624f
     "metadata": {},
     "output_type": "execute_result"
    }
   ],
   "source": [
<<<<<<< HEAD
<<<<<<< HEAD
    "len('akasakaakasakasakaakas')"
   ]
  },
  {
   "cell_type": "code",
   "execution_count": 41,
   "metadata": {},
   "outputs": [
    {
     "name": "stdin",
     "output_type": "stream",
     "text": [
      " 6\n",
      " 2 7 1 8 2 8\n"
     ]
    },
    {
     "name": "stdout",
     "output_type": "stream",
     "text": [
      "Yes\n"
     ]
    }
   ],
   "source": [
    "n = int(input())\n",
    "A = list(map(int, input().split()))\n",
    "\n",
    "odd = 0\n",
    "two = 0\n",
    "four = 0\n",
    "\n",
    "for a in A:\n",
    "    if(a%2): odd += 1\n",
    "    else:\n",
    "        if(a%4==0):four+=1\n",
    "        else: two += 1\n",
    "\n",
    "\n",
    "if(two):\n",
    "    if(odd<=four): print(\"Yes\")\n",
    "    else: print(\"No\")\n",
    "\n",
    "else:\n",
    "    if(odd-1<=four): print(\"Yes\")\n",
    "    else: print(\"No\")"
=======
    "sorted(ids)"
>>>>>>> 3f7354c5752c36a6a38a86a6e5e2dab272dd624f
=======
    "sorted(ids)"
>>>>>>> 3f7354c5752c36a6a38a86a6e5e2dab272dd624f
   ]
  },
  {
   "cell_type": "code",
   "execution_count": null,
   "metadata": {},
   "outputs": [],
   "source": []
  }
 ],
 "metadata": {
  "kernelspec": {
   "display_name": "Python 3",
   "language": "python",
   "name": "python3"
  },
  "language_info": {
   "codemirror_mode": {
    "name": "ipython",
    "version": 3
   },
   "file_extension": ".py",
   "mimetype": "text/x-python",
   "name": "python",
   "nbconvert_exporter": "python",
   "pygments_lexer": "ipython3",
   "version": "3.6.8"
  }
 },
 "nbformat": 4,
 "nbformat_minor": 4
}
